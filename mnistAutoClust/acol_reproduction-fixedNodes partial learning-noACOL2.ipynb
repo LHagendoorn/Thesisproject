{
 "cells": [
  {
   "cell_type": "markdown",
   "metadata": {},
   "source": [
    "# ACOL replication tensorflow"
   ]
  },
  {
   "cell_type": "markdown",
   "metadata": {},
   "source": [
    "## Setup stuff"
   ]
  },
  {
   "cell_type": "code",
   "execution_count": 1,
   "metadata": {
    "collapsed": false,
    "scrolled": false
   },
   "outputs": [
    {
     "name": "stdout",
     "output_type": "stream",
     "text": [
      "Extracting ./MNIST_data/train-images-idx3-ubyte.gz\n",
      "Extracting ./MNIST_data/train-labels-idx1-ubyte.gz\n",
      "Extracting ./MNIST_data/t10k-images-idx3-ubyte.gz\n",
      "Extracting ./MNIST_data/t10k-labels-idx1-ubyte.gz\n"
     ]
    }
   ],
   "source": [
    "import smtplib\n",
    "from email.mime.text import MIMEText\n",
    "import random\n",
    "\n",
    "#imports and settings:\n",
    "import tensorflow as tf\n",
    "from tensorflow.examples.tutorials.mnist import input_data\n",
    "import numpy as np\n",
    "import matplotlib.pyplot as plt\n",
    "import matplotlib.gridspec as gridspec\n",
    "#from jupyterthemes import jtplot\n",
    "from sklearn.cluster import KMeans\n",
    "from scipy.stats import threshold\n",
    "from tensorflow.contrib.learn.python.learn.datasets import base\n",
    "from tensorflow.contrib.learn.python.learn.datasets import mnist\n",
    "#jtplot.style()\n",
    "%matplotlib inline\n",
    "tf.logging.set_verbosity(tf.logging.INFO)\n",
    "\n",
    "TRAIN_IMAGES = 'train-images-idx3-ubyte.gz'\n",
    "TRAIN_LABELS = 'train-labels-idx1-ubyte.gz'\n",
    "TEST_IMAGES = 't10k-images-idx3-ubyte.gz'\n",
    "TEST_LABELS = 't10k-labels-idx1-ubyte.gz'\n",
    "SOURCE_URL = 'https://storage.googleapis.com/cvdf-datasets/mnist/'\n",
    "\n",
    "local_file = base.maybe_download(TRAIN_IMAGES, './MNIST_data',\n",
    "                                   SOURCE_URL + TRAIN_IMAGES)\n",
    "with open(local_file, 'rb') as f:\n",
    "    train_images = mnist.extract_images(f)\n",
    "    \n",
    "local_file = base.maybe_download(TRAIN_LABELS, './MNIST_data',\n",
    "                                   SOURCE_URL + TRAIN_LABELS)\n",
    "with open(local_file, 'rb') as f:\n",
    "    train_labels = mnist.extract_labels(f, one_hot=True)\n",
    "\n",
    "local_file = base.maybe_download(TEST_IMAGES, './MNIST_data',\n",
    "                                   SOURCE_URL + TEST_IMAGES)\n",
    "with open(local_file, 'rb') as f:\n",
    "    test_images = mnist.extract_images(f)\n",
    "\n",
    "local_file = base.maybe_download(TEST_LABELS, './MNIST_data',\n",
    "                                   SOURCE_URL + TEST_LABELS)\n",
    "with open(local_file, 'rb') as f:\n",
    "    test_labels = mnist.extract_labels(f, one_hot=True)"
   ]
  },
  {
   "cell_type": "code",
   "execution_count": 2,
   "metadata": {
    "collapsed": true
   },
   "outputs": [],
   "source": [
    "def notify(body):\n",
    "    msg = MIMEText(body)\n",
    "    # me == the sender's email address\n",
    "    # you == the recipient's email address\n",
    "    msg['Subject'] = 'Finished training!'\n",
    "    msg['From'] = \"scriptnotificiations@gmail.com\"\n",
    "    msg['To'] = \"scriptnotificiations@gmail.com\"\n",
    "\n",
    "    # Send the message via our own SMTP server, but don't include the\n",
    "    # envelope header.\n",
    "    s = smtplib.SMTP('smtp.gmail.com', 587)\n",
    "    s.starttls()\n",
    "    s.login(\"scriptnotificiations@gmail.com\", \"SuperSecretMegaPassword!!!\")\n",
    "    s.sendmail(\"scriptnotificiations@gmail.com\", [\"scriptnotificiations@gmail.com\"], msg.as_string())\n",
    "    s.quit()"
   ]
  },
  {
   "cell_type": "code",
   "execution_count": 3,
   "metadata": {
    "collapsed": false
   },
   "outputs": [],
   "source": [
    "clustCount = 5\n",
    "classCount = 2\n",
    "net = 0\n",
    "trainsteps = 50000\n",
    "\n",
    "perc = 0.1\n",
    "balance=True\n",
    "\n",
    "validation_size=5000\n",
    "_epochs_completed_train = 0\n",
    "_index_in_epoch_train = 0\n",
    "_epochs_completed_val = 0\n",
    "_index_in_epoch_val = 0\n",
    "_epochs_completed_test = 0\n",
    "_index_in_epoch_test = 0"
   ]
  },
  {
   "cell_type": "code",
   "execution_count": 4,
   "metadata": {
    "collapsed": false
   },
   "outputs": [],
   "source": [
    "y = {0:[1,0],\n",
    "     1:[1,0],\n",
    "     2:[1,0],\n",
    "     3:[1,0],\n",
    "     4:[1,0],\n",
    "     5:[0,1],\n",
    "     6:[0,1],\n",
    "     7:[0,1],\n",
    "     8:[0,1],\n",
    "     9:[0,1]}\n",
    "y2 = {\n",
    "    0:np.zeros((classCount,clustCount)),\n",
    "    1:np.zeros((classCount,clustCount)),\n",
    "    2:np.zeros((classCount,clustCount)),\n",
    "    3:np.zeros((classCount,clustCount)),\n",
    "    4:np.zeros((classCount,clustCount)),\n",
    "    5:np.zeros((classCount,clustCount)),\n",
    "    6:np.zeros((classCount,clustCount)),\n",
    "    7:np.zeros((classCount,clustCount)),\n",
    "    8:np.zeros((classCount,clustCount)),\n",
    "    9:np.zeros((classCount,clustCount))\n",
    "}\n",
    "y2[0][0,0] = 1\n",
    "y2[1][0,1] = 1\n",
    "y2[2][0,2] = 1\n",
    "y2[3][0,3] = 1\n",
    "y2[4][0,4] = 1\n",
    "y2[5][1,0] = 1\n",
    "y2[6][1,1] = 1\n",
    "y2[7][1,2] = 1\n",
    "y2[8][1,3] = 1\n",
    "y2[9][1,4] = 1\n",
    "\n",
    "emptyy2 = {\n",
    "    0:np.zeros((classCount,clustCount)),\n",
    "    1:np.zeros((classCount,clustCount)),\n",
    "    2:np.zeros((classCount,clustCount)),\n",
    "    3:np.zeros((classCount,clustCount)),\n",
    "    4:np.zeros((classCount,clustCount)),\n",
    "    5:np.zeros((classCount,clustCount)),\n",
    "    6:np.zeros((classCount,clustCount)),\n",
    "    7:np.zeros((classCount,clustCount)),\n",
    "    8:np.zeros((classCount,clustCount)),\n",
    "    9:np.zeros((classCount,clustCount))\n",
    "}"
   ]
  },
  {
   "cell_type": "code",
   "execution_count": 5,
   "metadata": {
    "collapsed": false
   },
   "outputs": [],
   "source": [
    "train_super_labels = np.array([y[np.argmax(train_labels[j])] for j in range(train_labels.shape[0])])\n",
    "test_super_labels = np.array([y[np.argmax(test_labels[j])] for j in range(test_labels.shape[0])])\n",
    "\n",
    "train_labels = np.array([y2[np.argmax(train_labels[j])] for j in range(train_labels.shape[0])])\n",
    "test_labels = np.array([y2[np.argmax(test_labels[j])] for j in range(test_labels.shape[0])])"
   ]
  },
  {
   "cell_type": "code",
   "execution_count": 6,
   "metadata": {
    "collapsed": false
   },
   "outputs": [
    {
     "name": "stdout",
     "output_type": "stream",
     "text": [
      "(55000, 10)\n",
      "(array([0, 1, 2, 3, 4, 5, 6, 7, 8, 9]), array([5444, 6179, 5470, 5638, 5307, 4987, 5417, 5715, 5389, 5454]))\n"
     ]
    }
   ],
   "source": [
    "if not 0 <= validation_size <= len(train_images):\n",
    "    raise ValueError(\n",
    "        'Validation size should be between 0 and {}. Received: {}.'\n",
    "        .format(len(train_images), validation_size))\n",
    "\n",
    "validation_images = train_images[:validation_size]\n",
    "validation_labels = train_labels[:validation_size]\n",
    "validation_super_labels = train_super_labels[:validation_size]\n",
    "#validation_labels_clipped = train_labels_clipped[:validation_size]\n",
    "train_images = train_images[validation_size:]\n",
    "train_labels = train_labels[validation_size:]\n",
    "train_super_labels = train_super_labels[validation_size:]\n",
    "#train_labels_clipped = train_labels_clipped[validation_size:]\n",
    "\n",
    "train_images = train_images.reshape(train_images.shape[0],train_images.shape[1] * train_images.shape[2])\n",
    "train_images = train_images.astype(np.float32)\n",
    "train_images = np.multiply(train_images, 1.0 / 255.0)\n",
    "\n",
    "validation_images = validation_images.reshape(validation_images.shape[0],validation_images.shape[1] * validation_images.shape[2])\n",
    "validation_images = validation_images.astype(np.float32)\n",
    "validation_images = np.multiply(validation_images, 1.0 / 255.0)\n",
    "\n",
    "test_images = test_images.reshape(test_images.shape[0],test_images.shape[1] * test_images.shape[2])\n",
    "test_images = test_images.astype(np.float32)\n",
    "test_images = np.multiply(test_images, 1.0 / 255.0)\n",
    "\n",
    "print(train_labels.reshape([-1,10]).shape)\n",
    "\n",
    "trainCount=len(train_images)\n",
    "if balance:\n",
    "    inds = []\n",
    "    classSize = int(np.ceil(trainCount*perc/10))\n",
    "    for j in range(10):\n",
    "        inds.extend([i for i, x in enumerate(np.argmax(train_labels.reshape([-1,10]),1)) if x == j][:classSize])\n",
    "    random.shuffle(inds)\n",
    "\n",
    "    train_labels_clipped = np.array([train_labels[j,:,:] for j in inds])\n",
    "    train_labels_clipped = np.concatenate([train_labels_clipped,np.array([emptyy2[np.argmax(train_labels[j])] for j in range(trainCount) if j not in inds])])\n",
    "else:\n",
    "    train_labels_clipped = np.array([y2[np.argmax(train_labels[j])] for j in range(int(train_labels.shape[0]*perc))])\n",
    "    train_labels_clipped = np.concatenate([train_labels_clipped,np.array([emptyy2[np.argmax(train_labels[j])] for j in range(int(train_labels.shape[0]*perc),train_labels.shape[0])])])\n",
    "\n",
    "print np.unique(np.argmax(train_labels.reshape([-1,10]),1),return_counts=True)"
   ]
  },
  {
   "cell_type": "code",
   "execution_count": 7,
   "metadata": {
    "collapsed": false
   },
   "outputs": [],
   "source": [
    "def next_batch(batch_size, shuffle, images, labels, superlabels, ep_compl, ep_ind):\n",
    "    _epochs_completed = ep_compl\n",
    "    _index_in_epoch = ep_ind\n",
    "    \"\"\"Return the next `batch_size` examples from this data set.\"\"\"\n",
    "    start = _index_in_epoch\n",
    "    _num_examples = images.shape[0]\n",
    "    # Shuffle for the first epoch\n",
    "    if _epochs_completed == 0 and start == 0 and shuffle:\n",
    "      perm0 = np.arange(_num_examples)\n",
    "      np.random.shuffle(perm0)\n",
    "      _images = images[perm0]\n",
    "      _labels = labels[perm0]\n",
    "      _super_labels = superlabels[perm0]\n",
    "    # Go to the next epoch\n",
    "    if start + batch_size > _num_examples:\n",
    "      # Finished epoch\n",
    "      _epochs_completed += 1\n",
    "      # Get the rest examples in this epoch\n",
    "      rest_num_examples = _num_examples - start\n",
    "      images_rest_part = _images[start:_num_examples]\n",
    "      labels_rest_part = _labels[start:_num_examples]\n",
    "      super_labels_rest_part = _super_labels[start:_num_examples]\n",
    "      # Shuffle the data\n",
    "      if shuffle:\n",
    "        perm = np.arange(_num_examples)\n",
    "        np.random.shuffle(perm)\n",
    "        _images = images[perm]\n",
    "        print(_images)\n",
    "        _labels = labels[perm]\n",
    "        _super_labels = super_labels[perm]\n",
    "      # Start next epoch\n",
    "      start = 0\n",
    "      _index_in_epoch = batch_size - rest_num_examples\n",
    "      end = _index_in_epoch\n",
    "      images_new_part = _images[start:end]\n",
    "      labels_new_part = _labels[start:end]\n",
    "      super_labels_new_part = _super_labels[start:end]\n",
    "      return np.concatenate((images_rest_part, images_new_part), axis=0) , np.concatenate((labels_rest_part, labels_new_part), axis=0), np.concatenate((super_labels_rest_part, super_labels_new_part), axis=0)\n",
    "    else:\n",
    "      _index_in_epoch += batch_size\n",
    "      end = _index_in_epoch\n",
    "      return _images[start:end], _super_labels[start:end], _labels[start:end]"
   ]
  },
  {
   "cell_type": "markdown",
   "metadata": {},
   "source": [
    "## Network helper functions"
   ]
  },
  {
   "cell_type": "code",
   "execution_count": 8,
   "metadata": {
    "collapsed": true,
    "scrolled": false
   },
   "outputs": [],
   "source": [
    "#helper funcs\n",
    "def weight_variable(shape):\n",
    "    initial = tf.truncated_normal(shape, stddev=0.1)\n",
    "    return tf.Variable(initial)\n",
    "\n",
    "def bias_variable(shape):\n",
    "    initial = tf.constant(0.1, shape=shape)\n",
    "    return tf.Variable(initial)\n",
    "\n",
    "def conv2d(x,W):\n",
    "    return tf.nn.conv2d(x,W,strides=[1,1,1,1], padding='SAME')\n",
    "\n",
    "def max_pool_2x2(x):\n",
    "    return tf.nn.max_pool(x, ksize=[1,2,2,1], strides=[1,2,2,1], padding='SAME')\n",
    "\n",
    "def matrix_softmax(x):\n",
    "    shape = x.get_shape().as_list()\n",
    "    shape[0] = int(-1)\n",
    "    return tf.reshape(tf.nn.softmax(tf.contrib.layers.flatten(x)),shape)\n",
    "\n",
    "def avg_softmax(x):\n",
    "    shape = x.get_shape().as_list()\n",
    "    shape[0] = int(-1)\n",
    "    totalSoft = tf.reshape(tf.nn.softmax(tf.contrib.layers.flatten(x)),shape)\n",
    "    return tf.reduce_sum(totalSoft,2)\n",
    "\n",
    "def max_softmax(x):\n",
    "    shape = x.get_shape().as_list()\n",
    "    shape[0] = int(-1)\n",
    "    totalSoft = tf.reshape(tf.nn.softmax(tf.contrib.layers.flatten(x)),shape)\n",
    "    return tf.reduce_max(totalSoft,2)\n",
    "\n",
    "def initACOL(in_size,clust,clss):\n",
    "    acolLayers = []\n",
    "    for i in range(clss):\n",
    "        acolLayers.append([\n",
    "            weight_variable([in_size, clustCount]),\n",
    "            bias_variable([clustCount])\n",
    "        ])\n",
    "    return acolLayers\n",
    "        \n",
    "def connectACOL(inLayer,acol):\n",
    "    clust = []\n",
    "    for l in range(0,len(acol)):\n",
    "        clust.append(tf.matmul(inLayer, acol[l][0]) + acol[l][1])\n",
    "    return clust\n",
    "        \n",
    "def acol(input,clust_count, class_count):\n",
    "    acolLayers = []\n",
    "    for i in range(class_count):\n",
    "        if isinstance(input, tuple):\n",
    "                input = input[0]\n",
    "\n",
    "        #I don't know what this bit does, but I don't think it'll hurt anything\n",
    "        #Or maybe it does, who knows\n",
    "        input_shape = input.get_shape()\n",
    "        if input_shape.ndims == 4:\n",
    "            dim = 1\n",
    "            for d in input_shape[1:].as_list():\n",
    "                dim *= d\n",
    "        #    feed_in = tf.reshape(tf.transpose(input,[0,3,1,2]), [-1, dim])\n",
    "        else:\n",
    "            feed_in, dim = (input, int(input_shape[-1]))\n",
    "\n",
    "        init_weights = tf.truncated_normal_initializer(0.0, stddev=0.1)#(0.0, stddev=0.01)\n",
    "        init_biases = tf.constant_initializer(1.0)#(0.1)\n",
    "\n",
    "        weights = weight_variable([dim, clust_count])\n",
    "        biases = bias_variable([clust_count])\n",
    "\n",
    "        acoll = tf.nn.xw_plus_b(input,weights,biases)\n",
    "        acolLayers.append(acol)\n",
    "    return acolLayers    \n"
   ]
  },
  {
   "cell_type": "markdown",
   "metadata": {},
   "source": [
    "## Create placeholders (weights&biases)"
   ]
  },
  {
   "cell_type": "code",
   "execution_count": 9,
   "metadata": {
    "collapsed": true,
    "scrolled": false
   },
   "outputs": [],
   "source": [
    "if net==0:\n",
    "    #Init model weights & biases\n",
    "    sess = tf.InteractiveSession()\n",
    "\n",
    "    x = tf.placeholder(tf.float32, shape=[None, 784])\n",
    "    x_image = tf.reshape(x, [-1,28,28,1])\n",
    "    y_ = tf.placeholder(tf.float32, shape=[None, classCount])\n",
    "    y2_ = tf.placeholder(tf.float32, shape=[None,classCount,clustCount])\n",
    "    \n",
    "    #conv_layer1\n",
    "    W_conv1 = weight_variable([5,5,1,32])\n",
    "    b_conv1 = bias_variable([32])\n",
    "\n",
    "    #conv_layer2\n",
    "    W_conv2 = weight_variable([5,5,32,64])\n",
    "    b_conv2 = bias_variable([64])\n",
    "\n",
    "    #fc layer 1\n",
    "    W_fc1 = weight_variable([7*7*64, 1024])\n",
    "    b_fc1 = bias_variable([1024])\n",
    "\n",
    "    acol = initACOL(1024,clustCount,classCount)\n",
    "\n",
    "    #final fc layer\n",
    "    W_fc2 = weight_variable([1024, classCount])\n",
    "    b_fc2 = bias_variable([classCount])"
   ]
  },
  {
   "cell_type": "markdown",
   "metadata": {},
   "source": [
    "### Define network"
   ]
  },
  {
   "cell_type": "code",
   "execution_count": 10,
   "metadata": {
    "collapsed": true,
    "scrolled": false
   },
   "outputs": [],
   "source": [
    "if net==0:\n",
    "    dropout=0.3\n",
    "    #Define net\n",
    "    #conv 1\n",
    "    l_conv1 = tf.nn.relu(conv2d(x_image, W_conv1) + b_conv1)\n",
    "    l_pool1 = max_pool_2x2(l_conv1)\n",
    "\n",
    "    #conv 2\n",
    "    l_conv2 = tf.nn.relu(conv2d(l_pool1, W_conv2) + b_conv2)\n",
    "    l_pool2 = max_pool_2x2(l_conv2)\n",
    "\n",
    "    #fc 1\n",
    "    l_pool2_flat = tf.reshape(l_pool2, [-1, 7*7*64])\n",
    "    l_fc1 = tf.nn.relu(tf.matmul(l_pool2_flat, W_fc1) + b_fc1)\n",
    "\n",
    "    l_fc1_drop = tf.nn.dropout(l_fc1, tf.constant(dropout))\n",
    "\n",
    "    l_acol = connectACOL(l_fc1_drop,acol)\n",
    "    #l_acol = acol(l_fc1_drop,clustCount,classCount)\n",
    "\n",
    "    #Classification layer\n",
    "    stackedClusts = tf.stack(l_acol,1)\n",
    "    softmaxMat = matrix_softmax(stackedClusts)\n",
    "    smStacked = tf.reduce_max(softmaxMat,2)\n",
    "\n",
    "    y_conv = smStacked"
   ]
  },
  {
   "cell_type": "markdown",
   "metadata": {},
   "source": [
    "## Paper architecture"
   ]
  },
  {
   "cell_type": "code",
   "execution_count": 11,
   "metadata": {
    "collapsed": true
   },
   "outputs": [],
   "source": [
    "if net==1:\n",
    "    #Init model weights & biases\n",
    "    sess = tf.InteractiveSession()\n",
    "\n",
    "    x = tf.placeholder(tf.float32, shape=[None, 784])\n",
    "    x_image = tf.reshape(x, [-1,28,28,1])\n",
    "    y_ = tf.placeholder(tf.float32, shape=[None, classCount])\n",
    "    y2_ = tf.placeholder(tf.float32, shape=[None,classCount,clustCount])\n",
    "    \n",
    "    #keep_prob = tf.placeholder(tf.float32)\n",
    "\n",
    "    #conv_layer1\n",
    "    W_conv1 = weight_variable([3,3,1,32])\n",
    "    b_conv1 = bias_variable([32])\n",
    "\n",
    "    #conv_layer2\n",
    "    W_conv2 = weight_variable([3,3,32,32])\n",
    "    b_conv2 = bias_variable([32])\n",
    "\n",
    "    #conv_layer3\n",
    "    W_conv3 = weight_variable([3,3,32,64])\n",
    "    b_conv3 = bias_variable([64])\n",
    "\n",
    "    #conv_layer4\n",
    "    W_conv4 = weight_variable([3,3,64,64])\n",
    "    b_conv4 = bias_variable([64])\n",
    "\n",
    "    #fc layer 1\n",
    "    W_fc1 = weight_variable([7*7*64, 2048])\n",
    "    b_fc1 = bias_variable([2048])\n",
    "\n",
    "    #acol = initACOL(2048,clustCount,classCount)"
   ]
  },
  {
   "cell_type": "code",
   "execution_count": 12,
   "metadata": {
    "collapsed": true
   },
   "outputs": [],
   "source": [
    "if net==1:\n",
    "    #Define net\n",
    "    #conv 1\n",
    "    l_conv1 = tf.nn.relu(conv2d(x_image, W_conv1) + b_conv1)\n",
    "    #conv 2\n",
    "    l_conv2 = tf.nn.relu(conv2d(l_conv1, W_conv2) + b_conv2)\n",
    "    l_pool2 = max_pool_2x2(l_conv2)\n",
    "\n",
    "    l_drop1 = tf.nn.dropout(l_pool2, tf.constant(0.25))\n",
    "\n",
    "    #conv 3\n",
    "    l_conv3 = tf.nn.relu(conv2d(l_drop1, W_conv3) + b_conv3)\n",
    "    #conv 4\n",
    "    l_conv4 = tf.nn.relu(conv2d(l_conv3, W_conv4) + b_conv4)\n",
    "    l_pool4 = max_pool_2x2(l_conv4)\n",
    "\n",
    "    l_drop2 = tf.nn.dropout(l_pool4, tf.constant(0.25))\n",
    "\n",
    "    #fc 1\n",
    "    l_pool2_flat = tf.reshape(l_drop2, [-1, 7*7*64])\n",
    "\n",
    "    l_fc1 = tf.nn.relu(tf.matmul(l_pool2_flat, W_fc1) + b_fc1)\n",
    "    \n",
    "    l_fc1_drop = tf.nn.dropout(l_fc1, tf.constant(0.5))\n",
    "    \n",
    "    #l_acol = connectACOL(l_fc1_drop,acol)\n",
    "    l_acol = acol(l_fc1_drop,clustCount, classCount)\n",
    "\n",
    "    #Classification layer\n",
    "    stackedClusts = tf.stack(l_acol,1)\n",
    "    softmaxMat = matrix_softmax(stackedClusts)\n",
    "    smStacked = tf.reduce_max(softmaxMat,2)\n",
    "\n",
    "    y_conv = smStacked"
   ]
  },
  {
   "cell_type": "markdown",
   "metadata": {},
   "source": [
    "## Helperfunctions for loss"
   ]
  },
  {
   "cell_type": "code",
   "execution_count": 13,
   "metadata": {
    "collapsed": true,
    "scrolled": false
   },
   "outputs": [],
   "source": [
    "#helper loss funcs\n",
    "def zBar(x):\n",
    "    xshape = x.shape.as_list()\n",
    "    s=[-1,xshape[1]*xshape[2]]\n",
    "    return tf.maximum(tf.reshape(x,s),0)\n",
    "    \n",
    "def bigU(zb):\n",
    "    return tf.matmul(tf.transpose(zb),zb)\n",
    "\n",
    "def selectNonDiag(x):\n",
    "    selection = np.ones(x.shape.as_list()[0],dtype='float32') - np.eye(x.shape.as_list()[0],dtype='float32')\n",
    "    return tf.reduce_sum(tf.multiply(x,selection))\n",
    "\n",
    "def bigV(x):\n",
    "    smallNu=tf.reshape(tf.reduce_sum(x,axis=0),[1,-1])\n",
    "    return tf.multiply(tf.transpose(smallNu),smallNu)\n",
    "\n",
    "def specialNormalise(x):\n",
    "    top = selectNonDiag(x)\n",
    "    bottom = tf.multiply(tf.to_float(x.shape[1]-1),tf.reduce_sum(tf.multiply(x,np.eye(x.shape[1],dtype='float32'))))\n",
    "    return tf.divide(top,bottom)\n",
    "\n",
    "def frobNorm(x):\n",
    "    return tf.sqrt(tf.reduce_sum(tf.square(x)))\n",
    "\n",
    "tresh = tf.constant(0.03)\n",
    "cc0=1.0\n",
    "cc1=1.0\n",
    "cc2=1.0\n",
    "cc3=0.0003\n",
    "cc4=0.000001\n",
    "cc5=1.0\n",
    "c0 = tf.constant(cc0)\n",
    "c1 = tf.constant(cc1)\n",
    "c2 = tf.constant(cc2)\n",
    "c3val = tf.constant(cc3)\n",
    "c3 = lambda affinity: tf.cond(tf.less(affinity,tresh),lambda: c3val,lambda: tf.constant(0.0))\n",
    "c4 =tf.constant(cc4)\n",
    "c5 = tf.constant(cc5)"
   ]
  },
  {
   "cell_type": "markdown",
   "metadata": {},
   "source": [
    "### Calculate loss"
   ]
  },
  {
   "cell_type": "code",
   "execution_count": 14,
   "metadata": {
    "collapsed": true,
    "scrolled": false
   },
   "outputs": [],
   "source": [
    "#calculate losses\n",
    "#affinity\n",
    "#bZ = zBar(stackedClusts)#softmaxMat)\n",
    "#bU = bigU(bZ)\n",
    "#coact = selectNonDiag(bU)\n",
    "#affinity = specialNormalise(bU)\n",
    "\n",
    "#balance\n",
    "#bV=bigV(bZ)\n",
    "#balance = specialNormalise(bV)\n",
    "\n",
    "#cluster cross entropy (added if secondary label is set for that input, hard to do with batches?)\n",
    "clust_cross_entropy = tf.reduce_mean(-tf.reduce_sum(y2_ * tf.log(tf.clip_by_value(softmaxMat,1e-10,1.0)), reduction_indices=[1,2]))\n",
    "\n",
    "#cross entropy\n",
    "cross_entropy = tf.reduce_mean(-tf.reduce_sum(y_ * tf.log(tf.clip_by_value(y_conv,1e-10,1.0)), reduction_indices=[1]))\n",
    "\n",
    "frob = frobNorm(stackedClusts)#softmaxMat)\n",
    "\n",
    "loss = c0*cross_entropy + c5*clust_cross_entropy + c4*frob"
   ]
  },
  {
   "cell_type": "markdown",
   "metadata": {},
   "source": [
    "## Train network"
   ]
  },
  {
   "cell_type": "code",
   "execution_count": 15,
   "metadata": {
    "collapsed": true,
    "scrolled": false
   },
   "outputs": [],
   "source": [
    "lr = 1e-5\n",
    "train_step = tf.train.AdamOptimizer(lr).minimize(loss)\n",
    "correct_prediction = tf.equal(tf.argmax(y_conv,1), tf.argmax(y_,1))\n",
    "accuracy = tf.reduce_mean(tf.cast(correct_prediction, tf.float32))\n",
    "sess.run(tf.global_variables_initializer())"
   ]
  },
  {
   "cell_type": "code",
   "execution_count": 16,
   "metadata": {
    "collapsed": true,
    "scrolled": false
   },
   "outputs": [],
   "source": [
    "#y = {0:[0,1], 1:[1,0]}\n",
    "y = {0:[1,0,0,0,0],\n",
    "     1:[1,0,0,0,0],\n",
    "     2:[0,1,0,0,0],\n",
    "     3:[0,1,0,0,0],\n",
    "     4:[0,0,1,0,0],\n",
    "     5:[0,0,1,0,0],\n",
    "     6:[0,0,0,1,0],\n",
    "     7:[0,0,0,1,0],\n",
    "     8:[0,0,0,0,1],\n",
    "     9:[0,0,0,0,1]}\n",
    "\n",
    "y = {0:[1,0],\n",
    "     1:[1,0],\n",
    "     2:[1,0],\n",
    "     3:[1,0],\n",
    "     4:[1,0],\n",
    "     5:[0,1],\n",
    "     6:[0,1],\n",
    "     7:[0,1],\n",
    "     8:[0,1],\n",
    "     9:[0,1]}\n",
    "\n",
    "y2 = {\n",
    "    0:np.zeros((classCount,clustCount)),\n",
    "    1:np.zeros((classCount,clustCount)),\n",
    "    2:np.zeros((classCount,clustCount)),\n",
    "    3:np.zeros((classCount,clustCount)),\n",
    "    4:np.zeros((classCount,clustCount)),\n",
    "    5:np.zeros((classCount,clustCount)),\n",
    "    6:np.zeros((classCount,clustCount)),\n",
    "    7:np.zeros((classCount,clustCount)),\n",
    "    8:np.zeros((classCount,clustCount)),\n",
    "    9:np.zeros((classCount,clustCount))\n",
    "}\n",
    "\n",
    "y2[0][0,0] = 1\n",
    "y2[1][0,1] = 1\n",
    "y2[2][0,2] = 1\n",
    "y2[3][0,3] = 1\n",
    "y2[4][0,4] = 1\n",
    "y2[5][1,0] = 1\n",
    "y2[6][1,1] = 1\n",
    "y2[7][1,2] = 1\n",
    "y2[8][1,3] = 1\n",
    "y2[9][1,4] = 1\n",
    "\n",
    "emptyy2 = {\n",
    "    0:np.zeros((classCount,clustCount)),\n",
    "    1:np.zeros((classCount,clustCount)),\n",
    "    2:np.zeros((classCount,clustCount)),\n",
    "    3:np.zeros((classCount,clustCount)),\n",
    "    4:np.zeros((classCount,clustCount)),\n",
    "    5:np.zeros((classCount,clustCount)),\n",
    "    6:np.zeros((classCount,clustCount)),\n",
    "    7:np.zeros((classCount,clustCount)),\n",
    "    8:np.zeros((classCount,clustCount)),\n",
    "    9:np.zeros((classCount,clustCount))\n",
    "}\n",
    "\n",
    "totalSteps = trainsteps\n",
    "stepCount=0\n",
    "batchSize = 128\n",
    "hist = {\n",
    "    'train_acc':[],\n",
    "    'val_acc':[],\n",
    "    'train_loss':[],\n",
    "    'val_loss':[],\n",
    "    'affinity':[],\n",
    "    'balance':[],\n",
    "    'coactivity':[]\n",
    "}"
   ]
  },
  {
   "cell_type": "code",
   "execution_count": 17,
   "metadata": {
    "collapsed": false,
    "scrolled": true
   },
   "outputs": [
    {
     "name": "stdout",
     "output_type": "stream",
     "text": [
      "50000\n",
      "step 0/50000 \n",
      " Train: accuracy: 0.429688, loss: 5.1264 \n",
      " Validation: accuracy: 0.507812 loss: 15.2229\n",
      " cross_entropy: 3.04849, clust_cross_entropy: 1.33958, frob: 0.000276612\n",
      "step 100/50000 \n",
      " Train: accuracy: 0.5, loss: 3.42415 \n",
      " Validation: accuracy: 0.546875 loss: 11.9316\n",
      " cross_entropy: 1.72222, clust_cross_entropy: 1.18236, frob: 0.000223182\n",
      "step 200/50000 \n",
      " Train: accuracy: 0.585938, loss: 3.04126 \n",
      " Validation: accuracy: 0.625 loss: 10.1108\n",
      " cross_entropy: 1.94195, clust_cross_entropy: 1.15752, frob: 0.00020906\n",
      "step 300/50000 \n",
      " Train: accuracy: 0.570312, loss: 2.73703 \n",
      " Validation: accuracy: 0.492188 loss: 9.27879\n",
      " cross_entropy: 2.03913, clust_cross_entropy: 1.24724, frob: 0.000171056\n",
      "step 400/50000 \n",
      " Train: accuracy: 0.570312, loss: 1.88332 \n",
      " Validation: accuracy: 0.609375 loss: 7.86358\n",
      " cross_entropy: 1.57751, clust_cross_entropy: 0.828178, frob: 0.000157445\n",
      "step 500/50000 \n",
      " Train: accuracy: 0.640625, loss: 2.06939 \n",
      " Validation: accuracy: 0.578125 loss: 7.8433\n",
      " cross_entropy: 1.62793, clust_cross_entropy: 0.74567, frob: 0.00014907\n",
      "step 600/50000 \n",
      " Train: accuracy: 0.648438, loss: 1.39127 \n",
      " Validation: accuracy: 0.617188 loss: 6.48558\n",
      " cross_entropy: 0.987187, clust_cross_entropy: 0.339068, frob: 0.000137005\n",
      "step 700/50000 \n",
      " Train: accuracy: 0.625, loss: 1.5591 \n",
      " Validation: accuracy: 0.632812 loss: 6.44834\n",
      " cross_entropy: 1.21795, clust_cross_entropy: 0.807917, frob: 0.000126327\n",
      "step 800/50000 \n",
      " Train: accuracy: 0.601562, loss: 2.02519 \n",
      " Validation: accuracy: 0.6875 loss: 5.71199\n",
      " cross_entropy: 1.31067, clust_cross_entropy: 0.520907, frob: 0.000112675\n",
      "step 900/50000 \n",
      " Train: accuracy: 0.695312, loss: 1.39112 \n",
      " Validation: accuracy: 0.726562 loss: 5.8262\n",
      " cross_entropy: 0.889889, clust_cross_entropy: 0.34149, frob: 0.00011288\n",
      "step 1000/50000 \n",
      " Train: accuracy: 0.734375, loss: 1.54161 \n",
      " Validation: accuracy: 0.671875 loss: 5.6293\n",
      " cross_entropy: 0.982233, clust_cross_entropy: 0.621576, frob: 0.000105763\n",
      "step 1100/50000 \n",
      " Train: accuracy: 0.734375, loss: 1.66227 \n",
      " Validation: accuracy: 0.6875 loss: 5.58095\n",
      " cross_entropy: 0.835382, clust_cross_entropy: 0.548777, frob: 0.000107554\n",
      "step 1200/50000 \n",
      " Train: accuracy: 0.71875, loss: 1.17764 \n",
      " Validation: accuracy: 0.78125 loss: 4.94958\n",
      " cross_entropy: 0.848586, clust_cross_entropy: 0.260963, frob: 0.000102772\n",
      "step 1300/50000 \n",
      " Train: accuracy: 0.796875, loss: 1.25874 \n",
      " Validation: accuracy: 0.757812 loss: 5.41164\n",
      " cross_entropy: 0.898133, clust_cross_entropy: 0.514575, frob: 0.000104877\n",
      "step 1400/50000 \n",
      " Train: accuracy: 0.757812, loss: 1.18466 \n",
      " Validation: accuracy: 0.757812 loss: 5.18172\n",
      " cross_entropy: 0.73659, clust_cross_entropy: 0.397328, frob: 9.51873e-05\n",
      "step 1500/50000 \n",
      " Train: accuracy: 0.734375, loss: 1.38529 \n",
      " Validation: accuracy: 0.742188 loss: 5.41179\n",
      " cross_entropy: 0.666489, clust_cross_entropy: 0.531427, frob: 9.91197e-05\n",
      "step 1600/50000 \n",
      " Train: accuracy: 0.765625, loss: 1.48346 \n",
      " Validation: accuracy: 0.820312 loss: 5.11582\n",
      " cross_entropy: 0.678815, clust_cross_entropy: 0.686409, frob: 9.70203e-05\n",
      "step 1700/50000 \n",
      " Train: accuracy: 0.757812, loss: 1.01034 \n",
      " Validation: accuracy: 0.796875 loss: 5.60613\n",
      " cross_entropy: 0.785233, clust_cross_entropy: 0.420538, frob: 9.51043e-05\n",
      "step 1800/50000 \n",
      " Train: accuracy: 0.796875, loss: 0.976774 \n",
      " Validation: accuracy: 0.828125 loss: 4.96927\n",
      " cross_entropy: 0.716303, clust_cross_entropy: 0.392827, frob: 9.66295e-05\n",
      "step 1900/50000 \n",
      " Train: accuracy: 0.875, loss: 1.01525 \n",
      " Validation: accuracy: 0.890625 loss: 5.54703\n",
      " cross_entropy: 0.512869, clust_cross_entropy: 0.484529, frob: 9.38343e-05\n",
      "step 2000/50000 \n",
      " Train: accuracy: 0.859375, loss: 1.04604 \n",
      " Validation: accuracy: 0.882812 loss: 5.17712\n",
      " cross_entropy: 0.511665, clust_cross_entropy: 0.594145, frob: 9.27467e-05\n",
      "step 2100/50000 \n",
      " Train: accuracy: 0.835938, loss: 0.955441 \n",
      " Validation: accuracy: 0.851562 loss: 5.52613\n",
      " cross_entropy: 0.529706, clust_cross_entropy: 0.515494, frob: 9.06824e-05\n",
      "step 2200/50000 \n",
      " Train: accuracy: 0.875, loss: 0.998148 \n",
      " Validation: accuracy: 0.820312 loss: 5.86538\n",
      " cross_entropy: 0.550065, clust_cross_entropy: 0.441239, frob: 9.51649e-05\n",
      "step 2300/50000 \n",
      " Train: accuracy: 0.84375, loss: 1.03308 \n",
      " Validation: accuracy: 0.875 loss: 5.02568\n",
      " cross_entropy: 0.518745, clust_cross_entropy: 0.444284, frob: 8.93732e-05\n",
      "step 2400/50000 \n",
      " Train: accuracy: 0.851562, loss: 1.08336 \n",
      " Validation: accuracy: 0.851562 loss: 5.25706\n",
      " cross_entropy: 0.489744, clust_cross_entropy: 0.601674, frob: 8.71325e-05\n",
      "step 2500/50000 \n",
      " Train: accuracy: 0.828125, loss: 1.07814 \n",
      " Validation: accuracy: 0.875 loss: 5.03584\n",
      " cross_entropy: 0.386993, clust_cross_entropy: 0.573643, frob: 8.91254e-05\n",
      "step 2600/50000 \n",
      " Train: accuracy: 0.90625, loss: 0.855103 \n",
      " Validation: accuracy: 0.828125 loss: 5.0096\n",
      " cross_entropy: 0.372983, clust_cross_entropy: 0.416113, frob: 9.00229e-05\n",
      "step 2700/50000 \n",
      " Train: accuracy: 0.859375, loss: 0.864158 \n",
      " Validation: accuracy: 0.914062 loss: 5.00545\n",
      " cross_entropy: 0.518333, clust_cross_entropy: 0.452529, frob: 8.56475e-05\n",
      "step 2800/50000 \n",
      " Train: accuracy: 0.90625, loss: 1.0563 \n",
      " Validation: accuracy: 0.859375 loss: 5.34733\n",
      " cross_entropy: 0.309514, clust_cross_entropy: 0.600128, frob: 8.72416e-05\n",
      "step 2900/50000 \n",
      " Train: accuracy: 0.914062, loss: 0.889718 \n",
      " Validation: accuracy: 0.875 loss: 4.96986\n",
      " cross_entropy: 0.385922, clust_cross_entropy: 0.55327, frob: 8.587e-05\n",
      "step 3000/50000 \n",
      " Train: accuracy: 0.882812, loss: 0.972409 \n",
      " Validation: accuracy: 0.882812 loss: 4.88965\n",
      " cross_entropy: 0.32774, clust_cross_entropy: 0.50887, frob: 8.031e-05\n",
      "step 3100/50000 \n",
      " Train: accuracy: 0.90625, loss: 0.725636 \n",
      " Validation: accuracy: 0.890625 loss: 5.51018\n",
      " cross_entropy: 0.414396, clust_cross_entropy: 0.366299, frob: 8.1605e-05\n",
      "step 3200/50000 \n",
      " Train: accuracy: 0.875, loss: 0.789254 \n",
      " Validation: accuracy: 0.898438 loss: 5.21359\n",
      " cross_entropy: 0.360593, clust_cross_entropy: 0.361344, frob: 7.99357e-05\n",
      "step 3300/50000 \n",
      " Train: accuracy: 0.890625, loss: 0.707838 \n",
      " Validation: accuracy: 0.921875 loss: 5.05188\n",
      " cross_entropy: 0.414243, clust_cross_entropy: 0.343623, frob: 8.27781e-05\n",
      "step 3400/50000 \n",
      " Train: accuracy: 0.882812, loss: 0.875936 \n",
      " Validation: accuracy: 0.9375 loss: 4.51983\n",
      " cross_entropy: 0.346198, clust_cross_entropy: 0.4576, frob: 8.15774e-05\n",
      "step 3500/50000 \n",
      " Train: accuracy: 0.867188, loss: 0.638751 \n",
      " Validation: accuracy: 0.945312 loss: 4.91274\n",
      " cross_entropy: 0.31185, clust_cross_entropy: 0.296934, frob: 7.78307e-05\n",
      "step 3600/50000 \n",
      " Train: accuracy: 0.898438, loss: 0.784427 \n",
      " Validation: accuracy: 0.929688 loss: 4.64148\n",
      " cross_entropy: 0.279819, clust_cross_entropy: 0.43397, frob: 7.61114e-05\n",
      "step 3700/50000 \n",
      " Train: accuracy: 0.898438, loss: 0.764724 \n",
      " Validation: accuracy: 0.929688 loss: 4.84914\n",
      " cross_entropy: 0.297083, clust_cross_entropy: 0.464196, frob: 7.50948e-05\n",
      "step 3800/50000 \n",
      " Train: accuracy: 0.921875, loss: 0.631738 \n",
      " Validation: accuracy: 0.945312 loss: 4.91902\n",
      " cross_entropy: 0.382234, clust_cross_entropy: 0.290335, frob: 7.24198e-05\n",
      "step 3900/50000 \n",
      " Train: accuracy: 0.898438, loss: 0.607214 \n",
      " Validation: accuracy: 0.945312 loss: 4.64284\n",
      " cross_entropy: 0.351195, clust_cross_entropy: 0.254058, frob: 7.61759e-05\n",
      "step 4000/50000 \n",
      " Train: accuracy: 0.953125, loss: 0.786323 \n",
      " Validation: accuracy: 0.929688 loss: 5.0795\n",
      " cross_entropy: 0.269556, clust_cross_entropy: 0.518059, frob: 7.15889e-05\n",
      "step 4100/50000 \n",
      " Train: accuracy: 0.90625, loss: 0.931883 \n",
      " Validation: accuracy: 0.859375 loss: 4.88895\n",
      " cross_entropy: 0.290037, clust_cross_entropy: 0.556774, frob: 7.14058e-05\n",
      "step 4200/50000 \n",
      " Train: accuracy: 0.921875, loss: 0.799631 \n",
      " Validation: accuracy: 0.921875 loss: 4.59649\n",
      " cross_entropy: 0.324723, clust_cross_entropy: 0.400988, frob: 7.00695e-05\n",
      "step 4300/50000 \n",
      " Train: accuracy: 0.921875, loss: 0.731684 \n",
      " Validation: accuracy: 0.9375 loss: 4.61868\n",
      " cross_entropy: 0.352867, clust_cross_entropy: 0.33543, frob: 7.07849e-05\n",
      "step 4400/50000 \n",
      " Train: accuracy: 0.953125, loss: 0.534661 \n",
      " Validation: accuracy: 0.921875 loss: 4.64435\n",
      " cross_entropy: 0.348695, clust_cross_entropy: 0.301003, frob: 7.33398e-05\n",
      "step 4500/50000 \n",
      " Train: accuracy: 0.929688, loss: 0.909917 \n",
      " Validation: accuracy: 0.882812 loss: 4.99654\n",
      " cross_entropy: 0.264697, clust_cross_entropy: 0.637625, frob: 7.37138e-05\n"
     ]
    },
    {
     "ename": "KeyboardInterrupt",
     "evalue": "",
     "output_type": "error",
     "traceback": [
      "\u001b[0;31m---------------------------------------------------------------------------\u001b[0m",
      "\u001b[0;31mKeyboardInterrupt\u001b[0m                         Traceback (most recent call last)",
      "\u001b[0;32m<ipython-input-17-42db0c7a8ead>\u001b[0m in \u001b[0;36m<module>\u001b[0;34m()\u001b[0m\n\u001b[1;32m      6\u001b[0m     \u001b[0;31m#   convy2 = emptyy2\u001b[0m\u001b[0;34m\u001b[0m\u001b[0;34m\u001b[0m\u001b[0m\n\u001b[1;32m      7\u001b[0m \u001b[0;34m\u001b[0m\u001b[0m\n\u001b[0;32m----> 8\u001b[0;31m     \u001b[0mtrainbatch\u001b[0m \u001b[0;34m=\u001b[0m \u001b[0mnext_batch\u001b[0m\u001b[0;34m(\u001b[0m\u001b[0mbatchSize\u001b[0m\u001b[0;34m,\u001b[0m\u001b[0mTrue\u001b[0m\u001b[0;34m,\u001b[0m\u001b[0mtrain_images\u001b[0m\u001b[0;34m,\u001b[0m \u001b[0mtrain_labels_clipped\u001b[0m\u001b[0;34m,\u001b[0m \u001b[0mtrain_super_labels\u001b[0m\u001b[0;34m,\u001b[0m\u001b[0m_epochs_completed_train\u001b[0m\u001b[0;34m,\u001b[0m\u001b[0m_index_in_epoch_train\u001b[0m\u001b[0;34m)\u001b[0m\u001b[0;34m\u001b[0m\u001b[0m\n\u001b[0m\u001b[1;32m      9\u001b[0m     \u001b[0mvalbatch\u001b[0m \u001b[0;34m=\u001b[0m \u001b[0mnext_batch\u001b[0m\u001b[0;34m(\u001b[0m\u001b[0mbatchSize\u001b[0m\u001b[0;34m,\u001b[0m\u001b[0mTrue\u001b[0m\u001b[0;34m,\u001b[0m\u001b[0mvalidation_images\u001b[0m\u001b[0;34m,\u001b[0m \u001b[0mvalidation_labels\u001b[0m\u001b[0;34m,\u001b[0m \u001b[0mvalidation_super_labels\u001b[0m\u001b[0;34m,\u001b[0m\u001b[0m_epochs_completed_val\u001b[0m\u001b[0;34m,\u001b[0m\u001b[0m_index_in_epoch_val\u001b[0m\u001b[0;34m)\u001b[0m\u001b[0;34m\u001b[0m\u001b[0m\n\u001b[1;32m     10\u001b[0m \u001b[0;34m\u001b[0m\u001b[0m\n",
      "\u001b[0;32m<ipython-input-7-882d0c100892>\u001b[0m in \u001b[0;36mnext_batch\u001b[0;34m(batch_size, shuffle, images, labels, superlabels, ep_compl, ep_ind)\u001b[0m\n\u001b[1;32m      9\u001b[0m       \u001b[0mperm0\u001b[0m \u001b[0;34m=\u001b[0m \u001b[0mnp\u001b[0m\u001b[0;34m.\u001b[0m\u001b[0marange\u001b[0m\u001b[0;34m(\u001b[0m\u001b[0m_num_examples\u001b[0m\u001b[0;34m)\u001b[0m\u001b[0;34m\u001b[0m\u001b[0m\n\u001b[1;32m     10\u001b[0m       \u001b[0mnp\u001b[0m\u001b[0;34m.\u001b[0m\u001b[0mrandom\u001b[0m\u001b[0;34m.\u001b[0m\u001b[0mshuffle\u001b[0m\u001b[0;34m(\u001b[0m\u001b[0mperm0\u001b[0m\u001b[0;34m)\u001b[0m\u001b[0;34m\u001b[0m\u001b[0m\n\u001b[0;32m---> 11\u001b[0;31m       \u001b[0m_images\u001b[0m \u001b[0;34m=\u001b[0m \u001b[0mimages\u001b[0m\u001b[0;34m[\u001b[0m\u001b[0mperm0\u001b[0m\u001b[0;34m]\u001b[0m\u001b[0;34m\u001b[0m\u001b[0m\n\u001b[0m\u001b[1;32m     12\u001b[0m       \u001b[0m_labels\u001b[0m \u001b[0;34m=\u001b[0m \u001b[0mlabels\u001b[0m\u001b[0;34m[\u001b[0m\u001b[0mperm0\u001b[0m\u001b[0;34m]\u001b[0m\u001b[0;34m\u001b[0m\u001b[0m\n\u001b[1;32m     13\u001b[0m       \u001b[0m_super_labels\u001b[0m \u001b[0;34m=\u001b[0m \u001b[0msuperlabels\u001b[0m\u001b[0;34m[\u001b[0m\u001b[0mperm0\u001b[0m\u001b[0;34m]\u001b[0m\u001b[0;34m\u001b[0m\u001b[0m\n",
      "\u001b[0;31mKeyboardInterrupt\u001b[0m: "
     ]
    }
   ],
   "source": [
    "convy2 = y2\n",
    "#totalSteps = int(totalSteps*perc)\n",
    "print totalSteps\n",
    "for i in range(totalSteps):\n",
    "    #if i > totalSteps*perc:\n",
    "    #   convy2 = emptyy2\n",
    "        \n",
    "    trainbatch = next_batch(batchSize,True,train_images, train_labels_clipped, train_super_labels,_epochs_completed_train,_index_in_epoch_train)\n",
    "    valbatch = next_batch(batchSize,True,validation_images, validation_labels, validation_super_labels,_epochs_completed_val,_index_in_epoch_val)\n",
    "    \n",
    "    if i%100 == 0:\n",
    "        train_loss,train_acc = sess.run([loss, accuracy],feed_dict={x: trainbatch[0], y_: trainbatch[1], y2_: trainbatch[2]})\n",
    "        val_loss, val_acc = sess.run([loss, accuracy],feed_dict={x: valbatch[0], y_: valbatch[1], y2_: valbatch[2]})\n",
    "        hist['train_acc'].append(train_acc)\n",
    "        hist['val_acc'].append(val_acc)\n",
    "        hist['train_loss'].append(train_loss)\n",
    "        hist['val_loss'].append(val_loss)\n",
    "        print(\"step %d/%d \\n Train: accuracy: %g, loss: %g \\n Validation: accuracy: %g loss: %g\"%(i,totalSteps, train_acc, train_loss, val_acc, val_loss))\n",
    "        #hist['affinity'].append(affinity.eval(feed_dict={x:trainbatch[0], y_: trainbatch[1], y2_: trainbatch[2]}))\n",
    "        #hist['balance'].append(balance.eval(feed_dict={x:trainbatch[0], y_: trainbatch[1], y2_: trainbatch[2]}))\n",
    "        #hist['coactivity'].append(coact.eval(feed_dict={x:trainbatch[0], y_: trainbatch[1], y2_: trainbatch[2]}))\n",
    "        entr = cross_entropy.eval(feed_dict={x:trainbatch[0], y_: trainbatch[1], y2_: trainbatch[2]})\n",
    "        entr2 = clust_cross_entropy.eval(feed_dict={x:trainbatch[0], y_: trainbatch[1], y2_: trainbatch[2]})\n",
    "        frb = frob.eval(feed_dict={x:trainbatch[0], y_: trainbatch[1], y2_: trainbatch[2]})\n",
    "        \n",
    "        #print bV.eval(feed_dict={x:trainbatch[0], y_: trainbatch[1]})\n",
    "        \n",
    "        print(\" cross_entropy: %g, clust_cross_entropy: %g, frob: %g\"%(cc0*entr, cc5*entr2,cc4*frb))\n",
    "    feed_dict = {x: trainbatch[0], y_: trainbatch[1], y2_: trainbatch[2]}\n",
    "    _ = sess.run([train_step],feed_dict=feed_dict)"
   ]
  },
  {
   "cell_type": "markdown",
   "metadata": {},
   "source": [
    "## Testing & visualising"
   ]
  },
  {
   "cell_type": "code",
   "execution_count": 18,
   "metadata": {
    "collapsed": false,
    "scrolled": true
   },
   "outputs": [
    {
     "name": "stdout",
     "output_type": "stream",
     "text": [
      "Test: accuracy: 0.9375, loss: 4.98406\n",
      "Test: accuracy: 0.945312, loss: 4.27879\n",
      "Test: accuracy: 0.890625, loss: 4.66693\n",
      "Test: accuracy: 0.945312, loss: 4.85112\n",
      "Test: accuracy: 0.945312, loss: 4.28459\n",
      "Test: accuracy: 0.96875, loss: 4.66665\n",
      "Test: accuracy: 0.96875, loss: 4.93401\n",
      "Test: accuracy: 0.945312, loss: 4.92645\n",
      "Test: accuracy: 0.9375, loss: 4.90611\n",
      "Test: accuracy: 0.929688, loss: 4.96757\n",
      "Test: accuracy: 0.921875, loss: 4.75639\n",
      "Test: accuracy: 0.953125, loss: 4.51562\n",
      "Test: accuracy: 0.9375, loss: 4.6742\n",
      "Test: accuracy: 0.921875, loss: 4.78773\n",
      "Test: accuracy: 0.9375, loss: 5.00028\n",
      "Test: accuracy: 0.929688, loss: 4.80601\n",
      "Test: accuracy: 0.9375, loss: 4.61016\n",
      "Test: accuracy: 0.914062, loss: 5.04916\n",
      "Test: accuracy: 0.921875, loss: 4.67318\n",
      "Test: accuracy: 0.867188, loss: 4.57541\n",
      "Test: accuracy: 0.914062, loss: 4.72407\n",
      "Test: accuracy: 0.953125, loss: 4.72447\n",
      "Test: accuracy: 0.960938, loss: 4.58639\n",
      "Test: accuracy: 0.953125, loss: 5.01926\n",
      "Test: accuracy: 0.9375, loss: 4.63022\n",
      "Test: accuracy: 0.882812, loss: 5.09116\n",
      "Test: accuracy: 0.90625, loss: 5.2084\n",
      "Test: accuracy: 0.929688, loss: 4.98352\n",
      "Test: accuracy: 0.9375, loss: 5.13783\n",
      "Test: accuracy: 0.929688, loss: 5.02214\n",
      "Test: accuracy: 0.9375, loss: 4.88882\n",
      "Test: accuracy: 0.898438, loss: 4.41646\n",
      "Test: accuracy: 0.867188, loss: 5.10566\n",
      "Test: accuracy: 0.921875, loss: 4.96875\n",
      "Test: accuracy: 0.953125, loss: 4.9044\n",
      "Test: accuracy: 0.945312, loss: 4.97603\n",
      "Test: accuracy: 0.898438, loss: 4.90234\n",
      "Test: accuracy: 0.921875, loss: 4.90454\n",
      "Test: accuracy: 0.960938, loss: 4.91611\n",
      "Test: accuracy: 0.976562, loss: 4.9075\n",
      "Test: accuracy: 0.9375, loss: 4.82279\n",
      "Test: accuracy: 0.898438, loss: 5.22718\n",
      "Test: accuracy: 0.945312, loss: 4.48764\n",
      "Test: accuracy: 0.9375, loss: 4.38241\n",
      "Test: accuracy: 0.953125, loss: 4.67791\n",
      "Test: accuracy: 0.960938, loss: 4.81712\n",
      "Test: accuracy: 0.929688, loss: 4.82494\n",
      "Test: accuracy: 0.945312, loss: 4.92072\n",
      "Test: accuracy: 0.96875, loss: 4.97775\n",
      "Test: accuracy: 0.90625, loss: 4.40133\n",
      "Test: accuracy: 0.875, loss: 4.82884\n",
      "Test: accuracy: 0.929688, loss: 4.19295\n",
      "Test: accuracy: 0.945312, loss: 4.39397\n",
      "Test: accuracy: 0.929688, loss: 4.80539\n",
      "Test: accuracy: 0.953125, loss: 4.51933\n",
      "Test: accuracy: 0.953125, loss: 4.83404\n",
      "Test: accuracy: 0.90625, loss: 4.88646\n",
      "Test: accuracy: 0.953125, loss: 4.69579\n",
      "Test: accuracy: 0.9375, loss: 4.42772\n",
      "Test: accuracy: 0.921875, loss: 4.83652\n",
      "Test: accuracy: 0.914062, loss: 5.01428\n",
      "Test: accuracy: 0.929688, loss: 4.87049\n",
      "Test: accuracy: 0.929688, loss: 4.63982\n",
      "Test: accuracy: 0.929688, loss: 4.72802\n",
      "Test: accuracy: 0.945312, loss: 4.88388\n",
      "Test: accuracy: 0.9375, loss: 4.71159\n",
      "Test: accuracy: 0.9375, loss: 4.26367\n",
      "Test: accuracy: 0.921875, loss: 4.70155\n",
      "Test: accuracy: 0.914062, loss: 4.53411\n",
      "Test: accuracy: 0.96875, loss: 4.74785\n",
      "Test: accuracy: 0.882812, loss: 5.07219\n",
      "Test: accuracy: 0.921875, loss: 4.57806\n",
      "Test: accuracy: 0.921875, loss: 4.59934\n",
      "Test: accuracy: 0.921875, loss: 4.97673\n",
      "Test: accuracy: 0.898438, loss: 4.87961\n",
      "Test: accuracy: 0.945312, loss: 4.6077\n",
      "Test: accuracy: 0.9375, loss: 4.8964\n",
      "Test: accuracy: 0.890625, loss: 4.55354\n",
      "Test: accuracy: 0.90625, loss: 5.04837\n",
      "Test: accuracy: 0.9375, loss: 4.94226\n",
      "Test: accuracy: 0.921875, loss: 4.75906\n",
      "Test: accuracy: 0.921875, loss: 4.81183\n",
      "Test: accuracy: 0.921875, loss: 4.93795\n",
      "Test: accuracy: 0.929688, loss: 5.10835\n",
      "Test: accuracy: 0.953125, loss: 4.77583\n",
      "Test: accuracy: 0.953125, loss: 4.70972\n",
      "Test: accuracy: 0.929688, loss: 5.00737\n",
      "Test: accuracy: 0.914062, loss: 4.84916\n",
      "Test: accuracy: 0.929688, loss: 4.5567\n",
      "Test: accuracy: 0.898438, loss: 4.94705\n",
      "Test: accuracy: 0.90625, loss: 4.52704\n",
      "Test: accuracy: 0.898438, loss: 4.81953\n",
      "Test: accuracy: 0.9375, loss: 4.75448\n",
      "Test: accuracy: 0.953125, loss: 4.79358\n",
      "Test: accuracy: 0.960938, loss: 4.95785\n",
      "Test: accuracy: 0.921875, loss: 5.12406\n",
      "Test: accuracy: 0.921875, loss: 4.94151\n",
      "Test: accuracy: 0.90625, loss: 5.05498\n",
      "Test: accuracy: 0.9375, loss: 4.91035\n",
      "Test: accuracy: 0.914062, loss: 4.92613\n",
      "0.929531\n"
     ]
    }
   ],
   "source": [
    "tAcc = []\n",
    "testSize = 1000\n",
    "for i in range(100):\n",
    "    testbatch = next_batch(batchSize,True,test_images, test_labels, test_super_labels,_epochs_completed_test,_index_in_epoch_test)\n",
    "\n",
    "    test_loss,test_acc = sess.run([loss,accuracy],{x: testbatch[0], y_: testbatch[1], y2_: testbatch[2]})\n",
    "    tAcc.append(test_acc)\n",
    "    print('Test: accuracy: %g, loss: %g'%(test_acc,test_loss))\n",
    "print np.average(tAcc)\n",
    "testAcc = np.average(tAcc)"
   ]
  },
  {
   "cell_type": "code",
   "execution_count": 19,
   "metadata": {
    "collapsed": false,
    "scrolled": false
   },
   "outputs": [
    {
     "data": {
      "text/plain": [
       "<matplotlib.legend.Legend at 0x7f4a097cb5d0>"
      ]
     },
     "execution_count": 19,
     "metadata": {},
     "output_type": "execute_result"
    },
    {
     "data": {
      "image/png": "[encoded data removed]",
      "text/plain": [
       "<matplotlib.figure.Figure at 0x7f4a4f29c3d0>"
      ]
     },
     "metadata": {},
     "output_type": "display_data"
    }
   ],
   "source": [
    "#Plot accuracy and loss\n",
    "plt.figure(figsize=(15,15))\n",
    "plt.subplot(211)\n",
    "plt.plot(hist['train_acc'],'-b',label='train_acc')\n",
    "plt.plot(hist['val_acc'],'-r',label='val_acc')\n",
    "plt.legend()\n",
    "plt.subplot(212)\n",
    "plt.plot(hist['train_loss'],'-b',label='train_loss')\n",
    "plt.plot(hist['val_loss'],'-r',label='val_loss')\n",
    "plt.legend()"
   ]
  },
  {
   "cell_type": "code",
   "execution_count": 20,
   "metadata": {
    "collapsed": false
   },
   "outputs": [
    {
     "data": {
      "text/plain": [
       "<matplotlib.legend.Legend at 0x7f4a0969d910>"
      ]
     },
     "execution_count": 20,
     "metadata": {},
     "output_type": "execute_result"
    },
    {
     "data": {
      "image/png": "[encoded data removed]",
      "text/plain": [
       "<matplotlib.figure.Figure at 0x7f4a4f29ca50>"
      ]
     },
     "metadata": {},
     "output_type": "display_data"
    }
   ],
   "source": [
    "plt.figure(figsize=(15,7))\n",
    "#plt.plot(hist['train_loss'],'-b',label='train_loss')\n",
    "plt.plot(hist['affinity'],'-r',label='affinity')\n",
    "plt.plot(np.subtract(1,hist['balance']),'-y',label='balance')\n",
    "plt.plot(hist['coactivity'],'-g',label='coactivity')\n",
    "plt.legend()"
   ]
  },
  {
   "cell_type": "code",
   "execution_count": 21,
   "metadata": {
    "collapsed": true,
    "scrolled": false
   },
   "outputs": [],
   "source": [
    "digitTrace = np.zeros((classCount*clustCount,784))\n",
    "digitTraceCount = np.zeros((classCount*clustCount))\n",
    "digitCount = np.zeros(10)"
   ]
  },
  {
   "cell_type": "code",
   "execution_count": 22,
   "metadata": {
    "collapsed": false,
    "scrolled": true
   },
   "outputs": [],
   "source": [
    "#sess.run(tf.global_variables_initializer())\n",
    "for i in range(1000):\n",
    "    testbatch = next_batch(1,True,test_images, test_labels, test_super_labels,_epochs_completed_test,_index_in_epoch_test)\n",
    "    lbl = testbatch[2].ravel()\n",
    "    digitCount[np.argmax(lbl)]+=1\n",
    "    smMat, acc = sess.run([softmaxMat,accuracy],feed_dict={x: testbatch[0], y_: testbatch[1], y2_:testbatch[2]})\n",
    "    ypred = softmaxMat.eval({x: testbatch[0], y_: testbatch[1], y2_:testbatch[2]})\n",
    "    ypred.reshape(10)\n",
    "    digitTrace[np.argmax(ypred),:] += testbatch[0].ravel()\n",
    "    digitTraceCount[np.argmax(ypred)] += 1"
   ]
  },
  {
   "cell_type": "code",
   "execution_count": 23,
   "metadata": {
    "collapsed": false
   },
   "outputs": [
    {
     "name": "stdout",
     "output_type": "stream",
     "text": [
      "[  95.  118.  105.  105.   87.  104.   90.  110.   94.   92.]\n",
      "[   2.    1.    0.  496.    0.  501.    0.    0.    0.    0.]\n"
     ]
    }
   ],
   "source": [
    "print(digitCount)\n",
    "print(digitTraceCount)"
   ]
  },
  {
   "cell_type": "code",
   "execution_count": 24,
   "metadata": {
    "collapsed": false
   },
   "outputs": [
    {
     "data": {
      "image/png": "[encoded data removed]",
      "text/plain": [
       "<matplotlib.figure.Figure at 0x7f4a097d98d0>"
      ]
     },
     "metadata": {},
     "output_type": "display_data"
    }
   ],
   "source": [
    "digitTrace = digitTrace/np.max(digitTrace)\n",
    "f,ax=plt.subplots(nrows=classCount, ncols=clustCount, figsize=(1.5*clustCount,1.5*classCount))\n",
    "gs = gridspec.GridSpec(classCount,clustCount)\n",
    "gs.update(wspace=0.025, hspace=0.025)\n",
    "f.subplots_adjust(wspace=0,hspace=0)\n",
    "for i in range(digitTrace.shape[0]):\n",
    "    sp = plt.subplot(gs[i])\n",
    "    sp.set_xticklabels([])\n",
    "    sp.set_yticklabels([])\n",
    "    sp.set_aspect('equal')\n",
    "    sp.grid = False\n",
    "    plt.imshow(np.reshape(digitTrace[i,:],(28,28)),cmap='bone')"
   ]
  },
  {
   "cell_type": "code",
   "execution_count": 25,
   "metadata": {
    "collapsed": false,
    "scrolled": false
   },
   "outputs": [],
   "source": [
    "stepCount = len(hist['train_acc'])*100\n",
    "with open('./trainlog.txt','ab') as f:\n",
    "    f.write('lr: %g, batchsize: %i, steps: %i, thresh: %g, c1: %g, c2: %g, c3: %g, c4: %g, test_acc: %g, test_loss: %g\\n'%\n",
    "            (lr,batchSize,stepCount,tresh.eval(), cc1, cc2, cc3, cc4, test_acc, test_loss))"
   ]
  },
  {
   "cell_type": "markdown",
   "metadata": {},
   "source": [
    "## Clustering score"
   ]
  },
  {
   "cell_type": "code",
   "execution_count": 26,
   "metadata": {
    "collapsed": false,
    "scrolled": true
   },
   "outputs": [
    {
     "name": "stdout",
     "output_type": "stream",
     "text": [
      "(10000,)\n",
      "Clustering Accuracy: 0.3101\n",
      "[0, 4, 0, 0, 1, 0, 0, 7, 0, 0]\n",
      "(10000, 2, 5)\n"
     ]
    }
   ],
   "source": [
    "testbatch = next_batch(10000,True,test_images, test_labels, test_super_labels,_epochs_completed_test,_index_in_epoch_test)\n",
    "lbls = testbatch[2].reshape(10000,10)\n",
    "testFeed = {x: testbatch[0], y_: testbatch[1],y2_:testbatch[2]}\n",
    "ypred = softmaxMat.eval(testFeed)\n",
    "ypred = ypred.reshape((testbatch[0].shape[0],clustCount*classCount))\n",
    "print(np.argmax(ypred,1).shape)\n",
    "ypred = tf.argmax(ypred,1).eval()\n",
    "ylookup = [np.argmax(np.sum(testbatch[2][ypred==i],0)).astype('int32') for i in range(clustCount*classCount)]\n",
    "yconverted = [ylookup[i] for i in ypred]\n",
    "correct_prediction = tf.equal(yconverted, np.argmax(lbls,1).astype('int32'))\n",
    "accuracy = tf.reduce_mean(tf.cast(correct_prediction, tf.float32)).eval()\n",
    "clustAcc = accuracy\n",
    "print('Clustering Accuracy: %g'%(accuracy))\n",
    "print(ylookup)\n",
    "print(testbatch[2].shape)"
   ]
  },
  {
   "cell_type": "code",
   "execution_count": 27,
   "metadata": {
    "collapsed": false
   },
   "outputs": [
    {
     "data": {
      "text/plain": [
       "(10000, 2, 5)"
      ]
     },
     "execution_count": 27,
     "metadata": {},
     "output_type": "execute_result"
    }
   ],
   "source": [
    "testbatch[2].shape"
   ]
  },
  {
   "cell_type": "code",
   "execution_count": 29,
   "metadata": {
    "collapsed": false
   },
   "outputs": [],
   "source": [
    "notify(\"Superclass: %g \\nSubclass: %g\"%(testAcc,clustAcc))"
   ]
  },
  {
   "cell_type": "markdown",
   "metadata": {},
   "source": [
    "## Compare it to k-means"
   ]
  },
  {
   "cell_type": "code",
   "execution_count": null,
   "metadata": {
    "collapsed": false
   },
   "outputs": [],
   "source": [
    "tb0 = [tb[0][np.argmax(tb[1],1)<5],tb[1][np.argmax(tb[1],1)<5]]\n",
    "tb1 = [tb[0][np.argmax(tb[1],1)>4],tb[1][np.argmax(tb[1],1)>4]]\n",
    "#<5\n",
    "kmeans = KMeans(n_clusters=5)\n",
    "km0_ypred = kmeans.fit_transform(tb0[0])\n",
    "km0_ypred = np.argmax(km0_ypred,1)\n",
    "km_ylookup = [np.argmax(np.sum(tb0[1][km0_ypred==i],0)).astype('int32') for i in range(clustCount)]\n",
    "km_yconverted = [km_ylookup[i] for i in km0_ypred]\n",
    "km_correct_prediction = tf.equal(km_yconverted, np.argmax(tb0[1],1).astype('int32'))\n",
    "km0_accuracy = tf.reduce_mean(tf.cast(km_correct_prediction, tf.float32)).eval()\n",
    "#>4\n",
    "kmeans = KMeans(n_clusters=5)\n",
    "km1_ypred = kmeans.fit_transform(tb1[0])\n",
    "km1_ypred = np.argmax(km1_ypred,1)\n",
    "km_ylookup = [np.argmax(np.sum(tb1[1][km1_ypred==i],0)).astype('int32') for i in range(clustCount)]\n",
    "km_yconverted = [km_ylookup[i] for i in km1_ypred]\n",
    "km_correct_prediction = tf.equal(km_yconverted, np.argmax(tb1[1],1).astype('int32'))\n",
    "km1_accuracy = tf.reduce_mean(tf.cast(km_correct_prediction, tf.float32)).eval()\n",
    "print('ACOL Accuracy: %g'%(accuracy))\n",
    "print('KMeans Accuracy: %g'%((km0_accuracy+km1_accuracy)/2))"
   ]
  },
  {
   "cell_type": "code",
   "execution_count": null,
   "metadata": {
    "collapsed": false
   },
   "outputs": [],
   "source": [
    "#visualise kmeans\n",
    "digitTrace = np.concatenate([[np.sum(tb0[0][km0_ypred==i,:],axis=0) for i in range(clustCount)],\n",
    "                       [np.sum(tb1[0][km1_ypred==i,:],axis=0) for i in range(clustCount)]])\n",
    "digitTrace = digitTrace/np.max(digitTrace)\n",
    "f,ax=plt.subplots(nrows=classCount, ncols=clustCount, figsize=(1.5*clustCount,1.5*classCount))\n",
    "gs = gridspec.GridSpec(classCount,clustCount)\n",
    "gs.update(wspace=0.025, hspace=0.025)\n",
    "f.subplots_adjust(wspace=0,hspace=0)\n",
    "for i in range(digitTrace.shape[0]):\n",
    "    sp = plt.subplot(gs[i])\n",
    "    sp.set_xticklabels([])\n",
    "    sp.set_yticklabels([])\n",
    "    sp.set_aspect('equal')\n",
    "    sp.grid = False\n",
    "    plt.imshow(np.reshape(digitTrace[i,:],(28,28)),cmap='bone')"
   ]
  },
  {
   "cell_type": "code",
   "execution_count": null,
   "metadata": {
    "collapsed": true
   },
   "outputs": [],
   "source": []
  }
 ],
 "metadata": {
  "kernelspec": {
   "display_name": "Python 2",
   "language": "python",
   "name": "python2"
  },
  "language_info": {
   "codemirror_mode": {
    "name": "ipython",
    "version": 2
   },
   "file_extension": ".py",
   "mimetype": "text/x-python",
   "name": "python",
   "nbconvert_exporter": "python",
   "pygments_lexer": "ipython2",
   "version": "2.7.13"
  }
 },
 "nbformat": 4,
 "nbformat_minor": 2
}
