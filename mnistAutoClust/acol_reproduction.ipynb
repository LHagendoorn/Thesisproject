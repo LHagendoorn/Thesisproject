{
 "cells": [
  {
   "cell_type": "markdown",
   "metadata": {},
   "source": [
    "# ACOL replication tensorflow"
   ]
  },
  {
   "cell_type": "markdown",
   "metadata": {},
   "source": [
    "## Setup stuff"
   ]
  },
  {
   "cell_type": "code",
   "execution_count": 1,
   "metadata": {
    "scrolled": false
   },
   "outputs": [
    {
     "name": "stdout",
     "output_type": "stream",
     "text": [
      "Extracting ./MNIST_data\\train-images-idx3-ubyte.gz\n",
      "Extracting ./MNIST_data\\train-labels-idx1-ubyte.gz\n",
      "Extracting ./MNIST_data\\t10k-images-idx3-ubyte.gz\n",
      "Extracting ./MNIST_data\\t10k-labels-idx1-ubyte.gz\n"
     ]
    }
   ],
   "source": [
    "#imports and settings:\n",
    "import tensorflow as tf\n",
    "from tensorflow.examples.tutorials.mnist import input_data\n",
    "import numpy as np\n",
    "import matplotlib.pyplot as plt\n",
    "import matplotlib.gridspec as gridspec\n",
    "#from jupyterthemes import jtplot\n",
    "from sklearn.cluster import KMeans\n",
    "from scipy.stats import threshold\n",
    "#jtplot.style()\n",
    "%matplotlib inline\n",
    "tf.logging.set_verbosity(tf.logging.INFO)\n",
    "mnist = input_data.read_data_sets('./MNIST_data', one_hot=True)"
   ]
  },
  {
   "cell_type": "code",
   "execution_count": 2,
   "metadata": {
    "collapsed": true
   },
   "outputs": [],
   "source": [
    "clustCount = 5\n",
    "classCount = 2\n",
    "net = 0\n",
    "trainsteps = 50000\n",
    "trainsteps = 5000"
   ]
  },
  {
   "cell_type": "markdown",
   "metadata": {},
   "source": [
    "## Network helper functions"
   ]
  },
  {
   "cell_type": "code",
   "execution_count": 3,
   "metadata": {
    "scrolled": false
   },
   "outputs": [],
   "source": [
    "#helper funcs\n",
    "def weight_variable(shape):\n",
    "    initial = tf.truncated_normal(shape, stddev=0.1)\n",
    "    return tf.Variable(initial)\n",
    "\n",
    "def bias_variable(shape):\n",
    "    initial = tf.constant(0.1, shape=shape)\n",
    "    return tf.Variable(initial)\n",
    "\n",
    "def conv2d(x,W):\n",
    "    return tf.nn.conv2d(x,W,strides=[1,1,1,1], padding='SAME')\n",
    "\n",
    "def max_pool_2x2(x):\n",
    "    return tf.nn.max_pool(x, ksize=[1,2,2,1], strides=[1,2,2,1], padding='SAME')\n",
    "\n",
    "def matrix_softmax(x):\n",
    "    shape = x.get_shape().as_list()\n",
    "    shape[0] = int(-1)\n",
    "    return tf.reshape(tf.nn.softmax(tf.contrib.layers.flatten(x)),shape)\n",
    "\n",
    "def avg_softmax(x):\n",
    "    shape = x.get_shape().as_list()\n",
    "    shape[0] = int(-1)\n",
    "    totalSoft = tf.reshape(tf.nn.softmax(tf.contrib.layers.flatten(x)),shape)\n",
    "    return tf.reduce_sum(totalSoft,2)\n",
    "\n",
    "def max_softmax(x):\n",
    "    shape = x.get_shape().as_list()\n",
    "    shape[0] = int(-1)\n",
    "    totalSoft = tf.reshape(tf.nn.softmax(tf.contrib.layers.flatten(x)),shape)\n",
    "    return tf.reduce_max(totalSoft,2)\n",
    "\n",
    "def initACOL(in_size,clust,clss):\n",
    "    acolLayers = []\n",
    "    for i in range(clss):\n",
    "        acolLayers.append([\n",
    "            weight_variable([in_size, clustCount]),\n",
    "            bias_variable([clustCount])\n",
    "        ])\n",
    "    return acolLayers\n",
    "        \n",
    "def connectACOL(inLayer,acol):\n",
    "    clust = []\n",
    "    for l in range(0,len(acol)):\n",
    "        clust.append(tf.matmul(inLayer, acol[l][0]) + acol[l][1])\n",
    "    return clust\n",
    "        \n",
    "def acol(input,clust_count, class_count):\n",
    "    acolLayers = []\n",
    "    for i in range(class_count):\n",
    "        if isinstance(input, tuple):\n",
    "                input = input[0]\n",
    "\n",
    "        #I don't know what this bit does, but I don't think it'll hurt anything\n",
    "        #Or maybe it does, who knows\n",
    "        input_shape = input.get_shape()\n",
    "        if input_shape.ndims == 4:\n",
    "            dim = 1\n",
    "            for d in input_shape[1:].as_list():\n",
    "                dim *= d\n",
    "        #    feed_in = tf.reshape(tf.transpose(input,[0,3,1,2]), [-1, dim])\n",
    "        else:\n",
    "            feed_in, dim = (input, int(input_shape[-1]))\n",
    "\n",
    "        init_weights = tf.truncated_normal_initializer(0.0, stddev=0.1)#(0.0, stddev=0.01)\n",
    "        init_biases = tf.constant_initializer(1.0)#(0.1)\n",
    "\n",
    "        weights = weight_variable([dim, clust_count])\n",
    "        biases = bias_variable([clust_count])\n",
    "\n",
    "        acoll = tf.nn.xw_plus_b(input,weights,biases)\n",
    "        acolLayers.append(acol)\n",
    "    return acolLayers    \n"
   ]
  },
  {
   "cell_type": "markdown",
   "metadata": {},
   "source": [
    "## Create placeholders (weights&biases)"
   ]
  },
  {
   "cell_type": "code",
   "execution_count": 4,
   "metadata": {
    "scrolled": false
   },
   "outputs": [],
   "source": [
    "if net==0:\n",
    "    #Init model weights & biases\n",
    "    sess = tf.InteractiveSession()\n",
    "\n",
    "    x = tf.placeholder(tf.float32, shape=[None, 784])\n",
    "    x_image = tf.reshape(x, [-1,28,28,1])\n",
    "    y_ = tf.placeholder(tf.float32, shape=[None, classCount])\n",
    "\n",
    "    #conv_layer1\n",
    "    W_conv1 = weight_variable([5,5,1,32])\n",
    "    b_conv1 = bias_variable([32])\n",
    "\n",
    "    #conv_layer2\n",
    "    W_conv2 = weight_variable([5,5,32,64])\n",
    "    b_conv2 = bias_variable([64])\n",
    "\n",
    "    #fc layer 1\n",
    "    W_fc1 = weight_variable([7*7*64, 1024])\n",
    "    b_fc1 = bias_variable([1024])\n",
    "\n",
    "    acol = initACOL(1024,clustCount,classCount)\n",
    "\n",
    "    #final fc layer\n",
    "    W_fc2 = weight_variable([1024, classCount])\n",
    "    b_fc2 = bias_variable([classCount])"
   ]
  },
  {
   "cell_type": "markdown",
   "metadata": {},
   "source": [
    "### Define network"
   ]
  },
  {
   "cell_type": "code",
   "execution_count": 5,
   "metadata": {
    "scrolled": false
   },
   "outputs": [],
   "source": [
    "if net==0:\n",
    "    dropout=0.3\n",
    "    #Define net\n",
    "    #conv 1\n",
    "    l_conv1 = tf.nn.relu(conv2d(x_image, W_conv1) + b_conv1)\n",
    "    l_pool1 = max_pool_2x2(l_conv1)\n",
    "\n",
    "    #conv 2\n",
    "    l_conv2 = tf.nn.relu(conv2d(l_pool1, W_conv2) + b_conv2)\n",
    "    l_pool2 = max_pool_2x2(l_conv2)\n",
    "\n",
    "    #fc 1\n",
    "    l_pool2_flat = tf.reshape(l_pool2, [-1, 7*7*64])\n",
    "    l_fc1 = tf.nn.relu(tf.matmul(l_pool2_flat, W_fc1) + b_fc1)\n",
    "\n",
    "    l_fc1_drop = tf.nn.dropout(l_fc1, tf.constant(dropout))\n",
    "\n",
    "    l_acol = connectACOL(l_fc1_drop,acol)\n",
    "    #l_acol = acol(l_fc1_drop,clustCount,classCount)\n",
    "\n",
    "    #Classification layer\n",
    "    stackedClusts = tf.stack(l_acol,1)\n",
    "    softmaxMat = matrix_softmax(stackedClusts)\n",
    "    smStacked = tf.reduce_max(softmaxMat,2)\n",
    "\n",
    "    y_conv = smStacked"
   ]
  },
  {
   "cell_type": "markdown",
   "metadata": {},
   "source": [
    "## Paper architecture"
   ]
  },
  {
   "cell_type": "code",
   "execution_count": 6,
   "metadata": {
    "collapsed": true
   },
   "outputs": [],
   "source": [
    "if net==1:\n",
    "    #Init model weights & biases\n",
    "    sess = tf.InteractiveSession()\n",
    "\n",
    "    x = tf.placeholder(tf.float32, shape=[None, 784])\n",
    "    x_image = tf.reshape(x, [-1,28,28,1])\n",
    "    y_ = tf.placeholder(tf.float32, shape=[None, classCount])\n",
    "\n",
    "    #keep_prob = tf.placeholder(tf.float32)\n",
    "\n",
    "    #conv_layer1\n",
    "    W_conv1 = weight_variable([3,3,1,32])\n",
    "    b_conv1 = bias_variable([32])\n",
    "\n",
    "    #conv_layer2\n",
    "    W_conv2 = weight_variable([3,3,32,32])\n",
    "    b_conv2 = bias_variable([32])\n",
    "\n",
    "    #conv_layer3\n",
    "    W_conv3 = weight_variable([3,3,32,64])\n",
    "    b_conv3 = bias_variable([64])\n",
    "\n",
    "    #conv_layer4\n",
    "    W_conv4 = weight_variable([3,3,64,64])\n",
    "    b_conv4 = bias_variable([64])\n",
    "\n",
    "    #fc layer 1\n",
    "    W_fc1 = weight_variable([7*7*64, 2048])\n",
    "    b_fc1 = bias_variable([2048])\n",
    "\n",
    "    #acol = initACOL(2048,clustCount,classCount)"
   ]
  },
  {
   "cell_type": "code",
   "execution_count": 7,
   "metadata": {},
   "outputs": [],
   "source": [
    "if net==1:\n",
    "    #Define net\n",
    "    #conv 1\n",
    "    l_conv1 = tf.nn.relu(conv2d(x_image, W_conv1) + b_conv1)\n",
    "    #conv 2\n",
    "    l_conv2 = tf.nn.relu(conv2d(l_conv1, W_conv2) + b_conv2)\n",
    "    l_pool2 = max_pool_2x2(l_conv2)\n",
    "\n",
    "    l_drop1 = tf.nn.dropout(l_pool2, tf.constant(0.25))\n",
    "\n",
    "    #conv 3\n",
    "    l_conv3 = tf.nn.relu(conv2d(l_drop1, W_conv3) + b_conv3)\n",
    "    #conv 4\n",
    "    l_conv4 = tf.nn.relu(conv2d(l_conv3, W_conv4) + b_conv4)\n",
    "    l_pool4 = max_pool_2x2(l_conv4)\n",
    "\n",
    "    l_drop2 = tf.nn.dropout(l_pool4, tf.constant(0.25))\n",
    "\n",
    "    #fc 1\n",
    "    l_pool2_flat = tf.reshape(l_drop2, [-1, 7*7*64])\n",
    "\n",
    "    l_fc1 = tf.nn.relu(tf.matmul(l_pool2_flat, W_fc1) + b_fc1)\n",
    "    \n",
    "    l_fc1_drop = tf.nn.dropout(l_fc1, tf.constant(0.5))\n",
    "    \n",
    "    #l_acol = connectACOL(l_fc1_drop,acol)\n",
    "    l_acol = acol(l_fc1_drop,clustCount, classCount)\n",
    "\n",
    "    #Classification layer\n",
    "    stackedClusts = tf.stack(l_acol,1)\n",
    "    softmaxMat = matrix_softmax(stackedClusts)\n",
    "    smStacked = tf.reduce_max(softmaxMat,2)\n",
    "\n",
    "    y_conv = smStacked"
   ]
  },
  {
   "cell_type": "markdown",
   "metadata": {},
   "source": [
    "## Helperfunctions for loss"
   ]
  },
  {
   "cell_type": "code",
   "execution_count": 8,
   "metadata": {
    "scrolled": false
   },
   "outputs": [],
   "source": [
    "#helper loss funcs\n",
    "def zBar(x):\n",
    "    xshape = x.shape.as_list()\n",
    "    print(xshape)\n",
    "    s=[-1,xshape[1]*xshape[2]]\n",
    "    return tf.maximum(tf.reshape(x,s),0)\n",
    "    \n",
    "def bigU(zb):\n",
    "    return tf.matmul(tf.transpose(zb),zb)\n",
    "\n",
    "def selectNonDiag(x):\n",
    "    selection = np.ones(x.shape.as_list()[0],dtype='float32') - np.eye(x.shape.as_list()[0],dtype='float32')\n",
    "    return tf.reduce_sum(tf.multiply(x,selection))\n",
    "\n",
    "def bigV(x):\n",
    "    smallNu=tf.reshape(tf.reduce_sum(x,axis=0),[1,-1])\n",
    "    return tf.multiply(tf.transpose(smallNu),smallNu)\n",
    "\n",
    "def specialNormalise(x):\n",
    "    top = selectNonDiag(x)\n",
    "    bottom = tf.multiply(tf.to_float(x.shape[1]-1),tf.reduce_sum(tf.multiply(x,np.eye(x.shape[1],dtype='float32'))))\n",
    "    return tf.divide(top,bottom)\n",
    "\n",
    "def frobNorm(x):\n",
    "    return tf.sqrt(tf.reduce_sum(tf.square(x)))\n",
    "\n",
    "tresh = tf.constant(0.03)\n",
    "cc0=1.0\n",
    "cc1=1.0\n",
    "cc2=1.0\n",
    "cc3=0.0003\n",
    "cc4=0.000001\n",
    "c0 = tf.constant(cc0)\n",
    "c1 = tf.constant(cc1)\n",
    "c2 = tf.constant(cc2)\n",
    "c3val = tf.constant(cc3)\n",
    "c3 = lambda affinity: tf.cond(tf.less(affinity,tresh),lambda: c3val,lambda: tf.constant(0.0))\n",
    "c4 =tf.constant(cc4)"
   ]
  },
  {
   "cell_type": "markdown",
   "metadata": {},
   "source": [
    "### Calculate loss"
   ]
  },
  {
   "cell_type": "code",
   "execution_count": 9,
   "metadata": {
    "scrolled": false
   },
   "outputs": [
    {
     "name": "stdout",
     "output_type": "stream",
     "text": [
      "[None, 2, 5]\n"
     ]
    }
   ],
   "source": [
    "#calculate losses\n",
    "#affinity\n",
    "bZ = zBar(stackedClusts)#softmaxMat)\n",
    "bU = bigU(bZ)\n",
    "coact = selectNonDiag(bU)\n",
    "affinity = specialNormalise(bU)\n",
    "\n",
    "#balance\n",
    "bV=bigV(bZ)\n",
    "balance = specialNormalise(bV)\n",
    "\n",
    "#cross entropy\n",
    "cross_entropy = tf.reduce_mean(-tf.reduce_sum(y_ * tf.log(tf.clip_by_value(y_conv,1e-10,1.0)), reduction_indices=[1]))\n",
    "\n",
    "frob = frobNorm(stackedClusts)#softmaxMat)\n",
    "\n",
    "loss = c0*cross_entropy + c1*affinity + c2*tf.subtract(tf.constant(1.0),balance) + c3(affinity)*coact + c4*frob"
   ]
  },
  {
   "cell_type": "markdown",
   "metadata": {},
   "source": [
    "## Train network"
   ]
  },
  {
   "cell_type": "code",
   "execution_count": 10,
   "metadata": {
    "scrolled": false
   },
   "outputs": [],
   "source": [
    "lr = 1e-5\n",
    "train_step = tf.train.AdamOptimizer(lr).minimize(loss)\n",
    "correct_prediction = tf.equal(tf.argmax(y_conv,1), tf.argmax(y_,1))\n",
    "accuracy = tf.reduce_mean(tf.cast(correct_prediction, tf.float32))\n",
    "sess.run(tf.global_variables_initializer())"
   ]
  },
  {
   "cell_type": "code",
   "execution_count": 11,
   "metadata": {
    "collapsed": true,
    "scrolled": false
   },
   "outputs": [],
   "source": [
    "#y = {0:[0,1], 1:[1,0]}\n",
    "y = {0:[1,0,0,0,0],\n",
    "     1:[1,0,0,0,0],\n",
    "     2:[0,1,0,0,0],\n",
    "     3:[0,1,0,0,0],\n",
    "     4:[0,0,1,0,0],\n",
    "     5:[0,0,1,0,0],\n",
    "     6:[0,0,0,1,0],\n",
    "     7:[0,0,0,1,0],\n",
    "     8:[0,0,0,0,1],\n",
    "     9:[0,0,0,0,1]}\n",
    "\n",
    "y = {0:[1,0],\n",
    "     1:[1,0],\n",
    "     2:[1,0],\n",
    "     3:[1,0],\n",
    "     4:[1,0],\n",
    "     5:[0,1],\n",
    "     6:[0,1],\n",
    "     7:[0,1],\n",
    "     8:[0,1],\n",
    "     9:[0,1]}\n",
    "\n",
    "totalSteps = trainsteps\n",
    "stepCount=0\n",
    "batchSize = 128\n",
    "hist = {\n",
    "    'train_acc':[],\n",
    "    'val_acc':[],\n",
    "    'train_loss':[],\n",
    "    'val_loss':[],\n",
    "    'affinity':[],\n",
    "    'balance':[],\n",
    "    'coactivity':[]\n",
    "}"
   ]
  },
  {
   "cell_type": "code",
   "execution_count": 12,
   "metadata": {
    "scrolled": true
   },
   "outputs": [
    {
     "name": "stdout",
     "output_type": "stream",
     "text": [
      "step 0/5000 \n",
      " Train: accuracy: 0.523438, loss: 3.64782 \n",
      " Validation: accuracy: 0.445312 loss: 3.54265\n",
      "cross_entropy: 2.66959, affinity: 0.284972, balance: 0.313616, coact: 32.1337, frob: 0.000294723\n",
      "step 100/5000 \n",
      " Train: accuracy: 0.507812, loss: 2.78315 \n",
      " Validation: accuracy: 0.4375 loss: 3.58204\n",
      "cross_entropy: 2.16948, affinity: 0.252573, balance: 0.0677535, coact: 15.9148, frob: 0.000223615\n",
      "step 200/5000 \n",
      " Train: accuracy: 0.507812, loss: 2.49276 \n",
      " Validation: accuracy: 0.5 loss: 2.76676\n",
      "cross_entropy: 2.21685, affinity: 0.238882, balance: 0.0446339, coact: 8.3471, frob: 0.000206455\n",
      "step 300/5000 \n",
      " Train: accuracy: 0.625, loss: 1.69036 \n",
      " Validation: accuracy: 0.539062 loss: 2.05782\n",
      "cross_entropy: 1.62759, affinity: 0.223164, balance: 0.053273, coact: 4.94416, frob: 0.000202162\n",
      "step 400/5000 \n",
      " Train: accuracy: 0.632812, loss: 1.76647 \n",
      " Validation: accuracy: 0.546875 loss: 1.82102\n",
      "cross_entropy: 1.4609, affinity: 0.166388, balance: 0.0376645, coact: 2.66856, frob: 0.000187018\n",
      "step 500/5000 \n",
      " Train: accuracy: 0.59375, loss: 1.55253 \n",
      " Validation: accuracy: 0.570312 loss: 1.74092\n",
      "cross_entropy: 1.46527, affinity: 0.162934, balance: 0.0336381, coact: 2.11028, frob: 0.00019021\n",
      "step 600/5000 \n",
      " Train: accuracy: 0.710938, loss: 1.44134 \n",
      " Validation: accuracy: 0.632812 loss: 1.55064\n",
      "cross_entropy: 1.27213, affinity: 0.140193, balance: 0.0732071, coact: 1.11991, frob: 0.000185074\n",
      "step 700/5000 \n",
      " Train: accuracy: 0.648438, loss: 1.34129 \n",
      " Validation: accuracy: 0.570312 loss: 1.69827\n",
      "cross_entropy: 1.05403, affinity: 0.128903, balance: 0.0497252, coact: 1.08837, frob: 0.00018009\n",
      "step 800/5000 \n",
      " Train: accuracy: 0.65625, loss: 1.26236 \n",
      " Validation: accuracy: 0.664062 loss: 1.39722\n",
      "cross_entropy: 1.22547, affinity: 0.144275, balance: 0.105259, coact: 0.612022, frob: 0.000180275\n",
      "step 900/5000 \n",
      " Train: accuracy: 0.695312, loss: 1.26099 \n",
      " Validation: accuracy: 0.664062 loss: 1.29074\n",
      "cross_entropy: 0.850916, affinity: 0.120362, balance: 0.112394, coact: 0.574508, frob: 0.000172699\n",
      "step 1000/5000 \n",
      " Train: accuracy: 0.757812, loss: 1.13478 \n",
      " Validation: accuracy: 0.765625 loss: 1.01748\n",
      "cross_entropy: 0.826744, affinity: 0.0957983, balance: 0.0443893, coact: 0.408802, frob: 0.000184178\n",
      "step 1100/5000 \n",
      " Train: accuracy: 0.765625, loss: 1.11268 \n",
      " Validation: accuracy: 0.78125 loss: 0.935115\n",
      "cross_entropy: 1.05816, affinity: 0.0878146, balance: 0.105793, coact: 0.370528, frob: 0.000178741\n",
      "step 1200/5000 \n",
      " Train: accuracy: 0.664062, loss: 1.19036 \n",
      " Validation: accuracy: 0.75 loss: 0.957955\n",
      "cross_entropy: 0.957076, affinity: 0.0945427, balance: 0.0996902, coact: 0.240348, frob: 0.000171756\n",
      "step 1300/5000 \n",
      " Train: accuracy: 0.679688, loss: 1.18152 \n",
      " Validation: accuracy: 0.703125 loss: 1.16416\n",
      "cross_entropy: 0.976528, affinity: 0.113081, balance: 0.0697649, coact: 0.346294, frob: 0.000177192\n",
      "step 1400/5000 \n",
      " Train: accuracy: 0.789062, loss: 1.15361 \n",
      " Validation: accuracy: 0.6875 loss: 1.22069\n",
      "cross_entropy: 0.926152, affinity: 0.0952829, balance: 0.036437, coact: 0.396673, frob: 0.000167678\n",
      "step 1500/5000 \n",
      " Train: accuracy: 0.78125, loss: 0.91335 \n",
      " Validation: accuracy: 0.765625 loss: 0.991379\n",
      "cross_entropy: 0.904079, affinity: 0.0789707, balance: 0.0687456, coact: 0.307858, frob: 0.000168722\n",
      "step 1600/5000 \n",
      " Train: accuracy: 0.789062, loss: 0.94393 \n",
      " Validation: accuracy: 0.78125 loss: 0.944959\n",
      "cross_entropy: 0.857581, affinity: 0.0710657, balance: 0.0497316, coact: 0.270184, frob: 0.0001634\n",
      "step 1700/5000 \n",
      " Train: accuracy: 0.726562, loss: 1.10326 \n",
      " Validation: accuracy: 0.734375 loss: 1.04856\n",
      "cross_entropy: 0.909749, affinity: 0.0791516, balance: 0.0382787, coact: 0.319703, frob: 0.000173837\n",
      "step 1800/5000 \n",
      " Train: accuracy: 0.78125, loss: 0.889713 \n",
      " Validation: accuracy: 0.796875 loss: 1.00628\n",
      "cross_entropy: 0.843754, affinity: 0.0860485, balance: 0.0374615, coact: 0.34887, frob: 0.000169907\n",
      "step 1900/5000 \n",
      " Train: accuracy: 0.828125, loss: 0.890188 \n",
      " Validation: accuracy: 0.859375 loss: 0.719934\n",
      "cross_entropy: 0.710185, affinity: 0.0748526, balance: 0.0747211, coact: 0.393569, frob: 0.000171395\n",
      "step 2000/5000 \n",
      " Train: accuracy: 0.804688, loss: 0.822965 \n",
      " Validation: accuracy: 0.78125 loss: 1.01718\n",
      "cross_entropy: 0.723723, affinity: 0.0634466, balance: 0.0579236, coact: 0.292426, frob: 0.000172152\n",
      "step 2100/5000 \n",
      " Train: accuracy: 0.851562, loss: 0.877563 \n",
      " Validation: accuracy: 0.828125 loss: 0.741395\n",
      "cross_entropy: 0.972504, affinity: 0.0820513, balance: 0.0967826, coact: 0.45491, frob: 0.000177001\n",
      "step 2200/5000 \n",
      " Train: accuracy: 0.773438, loss: 1.01538 \n",
      " Validation: accuracy: 0.828125 loss: 0.863174\n",
      "cross_entropy: 0.682384, affinity: 0.0917299, balance: 0.0437282, coact: 0.322427, frob: 0.00016987\n",
      "step 2300/5000 \n",
      " Train: accuracy: 0.804688, loss: 0.840556 \n",
      " Validation: accuracy: 0.765625 loss: 0.846266\n",
      "cross_entropy: 0.564313, affinity: 0.0636419, balance: 0.0593287, coact: 0.308988, frob: 0.000170371\n",
      "step 2400/5000 \n",
      " Train: accuracy: 0.773438, loss: 0.864958 \n",
      " Validation: accuracy: 0.820312 loss: 0.982873\n",
      "cross_entropy: 0.670528, affinity: 0.0751321, balance: 0.10572, coact: 0.396586, frob: 0.000168973\n",
      "step 2500/5000 \n",
      " Train: accuracy: 0.867188, loss: 0.750357 \n",
      " Validation: accuracy: 0.828125 loss: 0.814702\n",
      "cross_entropy: 0.619842, affinity: 0.0760302, balance: 0.0844182, coact: 0.55105, frob: 0.000173461\n",
      "step 2600/5000 \n",
      " Train: accuracy: 0.8125, loss: 0.897216 \n",
      " Validation: accuracy: 0.84375 loss: 0.798726\n",
      "cross_entropy: 0.53552, affinity: 0.08426, balance: 0.0640466, coact: 0.504744, frob: 0.000173674\n",
      "step 2700/5000 \n",
      " Train: accuracy: 0.914062, loss: 0.58527 \n",
      " Validation: accuracy: 0.890625 loss: 0.564311\n",
      "cross_entropy: 0.560902, affinity: 0.0693043, balance: 0.0309263, coact: 0.464259, frob: 0.000174402\n",
      "step 2800/5000 \n",
      " Train: accuracy: 0.835938, loss: 0.704663 \n",
      " Validation: accuracy: 0.84375 loss: 0.735689\n",
      "cross_entropy: 0.73132, affinity: 0.0889823, balance: 0.0694329, coact: 0.484529, frob: 0.000177616\n",
      "step 2900/5000 \n",
      " Train: accuracy: 0.78125, loss: 0.86232 \n",
      " Validation: accuracy: 0.882812 loss: 0.661269\n",
      "cross_entropy: 0.705999, affinity: 0.0810777, balance: 0.0404828, coact: 0.495204, frob: 0.000177304\n",
      "step 3000/5000 \n",
      " Train: accuracy: 0.828125, loss: 0.825042 \n",
      " Validation: accuracy: 0.859375 loss: 0.614131\n",
      "cross_entropy: 0.61105, affinity: 0.0768282, balance: 0.0429722, coact: 0.552097, frob: 0.000177223\n",
      "step 3100/5000 \n",
      " Train: accuracy: 0.882812, loss: 0.703308 \n",
      " Validation: accuracy: 0.875 loss: 0.672148\n",
      "cross_entropy: 0.480348, affinity: 0.0801573, balance: 0.0577028, coact: 0.504623, frob: 0.000187757\n",
      "step 3200/5000 \n",
      " Train: accuracy: 0.835938, loss: 0.694452 \n",
      " Validation: accuracy: 0.882812 loss: 0.653997\n",
      "cross_entropy: 0.549642, affinity: 0.0860903, balance: 0.0983425, coact: 0.495188, frob: 0.000175841\n",
      "step 3300/5000 \n",
      " Train: accuracy: 0.898438, loss: 0.589568 \n",
      " Validation: accuracy: 0.882812 loss: 0.597589\n",
      "cross_entropy: 0.511947, affinity: 0.0688556, balance: 0.0424064, coact: 0.595314, frob: 0.000183542\n",
      "step 3400/5000 \n",
      " Train: accuracy: 0.84375, loss: 0.649279 \n",
      " Validation: accuracy: 0.859375 loss: 0.63224\n",
      "cross_entropy: 0.619098, affinity: 0.0752873, balance: 0.0332789, coact: 0.604472, frob: 0.000186792\n",
      "step 3500/5000 \n",
      " Train: accuracy: 0.8125, loss: 0.804063 \n",
      " Validation: accuracy: 0.890625 loss: 0.719531\n",
      "cross_entropy: 0.446304, affinity: 0.100338, balance: 0.0653495, coact: 0.611819, frob: 0.000182277\n",
      "step 3600/5000 \n",
      " Train: accuracy: 0.890625, loss: 0.596579 \n",
      " Validation: accuracy: 0.867188 loss: 0.578496\n",
      "cross_entropy: 0.383961, affinity: 0.0870977, balance: 0.0172093, coact: 0.656018, frob: 0.000192064\n",
      "step 3700/5000 \n",
      " Train: accuracy: 0.90625, loss: 0.649014 \n",
      " Validation: accuracy: 0.898438 loss: 0.546341\n",
      "cross_entropy: 0.422572, affinity: 0.0909717, balance: 0.0552502, coact: 0.732198, frob: 0.000189489\n",
      "step 3800/5000 \n",
      " Train: accuracy: 0.867188, loss: 0.535145 \n",
      " Validation: accuracy: 0.929688 loss: 0.532854\n",
      "cross_entropy: 0.554368, affinity: 0.0802148, balance: 0.0595152, coact: 0.641126, frob: 0.000188948\n",
      "step 3900/5000 \n",
      " Train: accuracy: 0.90625, loss: 0.51537 \n",
      " Validation: accuracy: 0.882812 loss: 0.607551\n",
      "cross_entropy: 0.563474, affinity: 0.0719703, balance: 0.0700151, coact: 0.675409, frob: 0.000187398\n",
      "step 4000/5000 \n",
      " Train: accuracy: 0.882812, loss: 0.613699 \n",
      " Validation: accuracy: 0.9375 loss: 0.476023\n"
     ]
    },
    {
     "name": "stdout",
     "output_type": "stream",
     "text": [
      "cross_entropy: 0.376544, affinity: 0.0751423, balance: 0.0698623, coact: 0.864324, frob: 0.000191698\n",
      "step 4100/5000 \n",
      " Train: accuracy: 0.890625, loss: 0.539598 \n",
      " Validation: accuracy: 0.90625 loss: 0.619931\n",
      "cross_entropy: 0.436922, affinity: 0.0707913, balance: 0.0573028, coact: 0.76997, frob: 0.000193171\n",
      "step 4200/5000 \n",
      " Train: accuracy: 0.890625, loss: 0.543744 \n",
      " Validation: accuracy: 0.921875 loss: 0.538215\n",
      "cross_entropy: 0.407895, affinity: 0.0663122, balance: 0.0432795, coact: 0.670192, frob: 0.000191043\n",
      "step 4300/5000 \n",
      " Train: accuracy: 0.90625, loss: 0.522422 \n",
      " Validation: accuracy: 0.929688 loss: 0.498998\n",
      "cross_entropy: 0.437453, affinity: 0.0688368, balance: 0.0524603, coact: 0.829685, frob: 0.000197357\n",
      "step 4400/5000 \n",
      " Train: accuracy: 0.898438, loss: 0.553466 \n",
      " Validation: accuracy: 0.9375 loss: 0.441386\n",
      "cross_entropy: 0.34362, affinity: 0.0672928, balance: 0.0689072, coact: 0.65953, frob: 0.00018815\n",
      "step 4500/5000 \n",
      " Train: accuracy: 0.890625, loss: 0.564583 \n",
      " Validation: accuracy: 0.921875 loss: 0.523935\n",
      "cross_entropy: 0.424071, affinity: 0.0596355, balance: 0.123676, coact: 0.701375, frob: 0.000193705\n",
      "step 4600/5000 \n",
      " Train: accuracy: 0.882812, loss: 0.565245 \n",
      " Validation: accuracy: 0.9375 loss: 0.448846\n",
      "cross_entropy: 0.409544, affinity: 0.0792363, balance: 0.0357958, coact: 0.704746, frob: 0.00019882\n",
      "step 4700/5000 \n",
      " Train: accuracy: 0.90625, loss: 0.48023 \n",
      " Validation: accuracy: 0.882812 loss: 0.621423\n",
      "cross_entropy: 0.345755, affinity: 0.0690763, balance: 0.089042, coact: 0.671358, frob: 0.00019925\n",
      "step 4800/5000 \n",
      " Train: accuracy: 0.90625, loss: 0.556377 \n",
      " Validation: accuracy: 0.929688 loss: 0.518721\n",
      "cross_entropy: 0.328962, affinity: 0.0729713, balance: 0.106392, coact: 1.01805, frob: 0.000198795\n",
      "step 4900/5000 \n",
      " Train: accuracy: 0.921875, loss: 0.533832 \n",
      " Validation: accuracy: 0.882812 loss: 0.509773\n",
      "cross_entropy: 0.525721, affinity: 0.0689872, balance: 0.097688, coact: 0.544201, frob: 0.000204869\n"
     ]
    }
   ],
   "source": [
    "for i in range(totalSteps):\n",
    "    trainbatch = mnist.train.next_batch(batchSize)\n",
    "    trainbatch = (trainbatch[0],np.array([y[np.argmax(trainbatch[1][j])] for j in range(len(trainbatch[1]))]))\n",
    "    valbatch = mnist.validation.next_batch(batchSize)\n",
    "    valbatch = (valbatch[0],np.array([y[np.argmax(valbatch[1][j])] for j in range(len(valbatch[1]))]))\n",
    "    \n",
    "    if i%100 == 0:\n",
    "        train_loss,train_acc = sess.run([loss, accuracy],feed_dict={x: trainbatch[0], y_: trainbatch[1]})\n",
    "        val_loss, val_acc = sess.run([loss, accuracy],feed_dict={x: valbatch[0], y_: valbatch[1]})\n",
    "        hist['train_acc'].append(train_acc)\n",
    "        hist['val_acc'].append(val_acc)\n",
    "        hist['train_loss'].append(train_loss)\n",
    "        hist['val_loss'].append(val_loss)\n",
    "        print(\"step %d/%d \\n Train: accuracy: %g, loss: %g \\n Validation: accuracy: %g loss: %g\"%(i,totalSteps, train_acc, train_loss, val_acc, val_loss))\n",
    "        hist['affinity'].append(affinity.eval(feed_dict={x:trainbatch[0], y_: trainbatch[1]}))\n",
    "        hist['balance'].append(balance.eval(feed_dict={x:trainbatch[0], y_: trainbatch[1]}))\n",
    "        hist['coactivity'].append(coact.eval(feed_dict={x:trainbatch[0], y_: trainbatch[1]}))\n",
    "        entr = cross_entropy.eval(feed_dict={x:trainbatch[0], y_: trainbatch[1]})\n",
    "        frb = frob.eval(feed_dict={x:trainbatch[0], y_: trainbatch[1]})\n",
    "        #print bV.eval(feed_dict={x:trainbatch[0], y_: trainbatch[1]})\n",
    "        \n",
    "        print(\"cross_entropy: %g, affinity: %g, balance: %g, coact: %g, frob: %g\"%(cc0*entr,cc1*hist['affinity'][-1],cc2*(1-hist['balance'][-1]),cc3*hist['coactivity'][-1],cc4*frb))\n",
    "    feed_dict = {x: trainbatch[0], y_: trainbatch[1]}\n",
    "    _ = sess.run([train_step],feed_dict=feed_dict)"
   ]
  },
  {
   "cell_type": "markdown",
   "metadata": {},
   "source": [
    "## Testing & visualising"
   ]
  },
  {
   "cell_type": "code",
   "execution_count": 13,
   "metadata": {
    "scrolled": false
   },
   "outputs": [
    {
     "name": "stdout",
     "output_type": "stream",
     "text": [
      "Test: accuracy: 0.895, loss: 0.557811\n"
     ]
    }
   ],
   "source": [
    "testSize = 1000\n",
    "testbatch = mnist.test.next_batch(testSize)\n",
    "testbatch = (testbatch[0],np.array([y[np.argmax(testbatch[1][j])] for j in range(len(testbatch[1]))]))\n",
    "\n",
    "test_loss,test_acc = sess.run([loss,accuracy],{x: testbatch[0], y_: testbatch[1]})\n",
    "print('Test: accuracy: %g, loss: %g'%(test_acc,test_loss))"
   ]
  },
  {
   "cell_type": "code",
   "execution_count": 14,
   "metadata": {
    "scrolled": false
   },
   "outputs": [
    {
     "data": {
      "text/plain": [
       "<matplotlib.legend.Legend at 0x2d7816d9cc0>"
      ]
     },
     "execution_count": 14,
     "metadata": {},
     "output_type": "execute_result"
    },
    {
     "data": {
      "image/png": "[encoded data removed]",
      "text/plain": [
       "<matplotlib.figure.Figure at 0x2d7e9c30e80>"
      ]
     },
     "metadata": {},
     "output_type": "display_data"
    }
   ],
   "source": [
    "#Plot accuracy and loss\n",
    "plt.figure(figsize=(15,15))\n",
    "plt.subplot(211)\n",
    "plt.plot(hist['train_acc'],'-b',label='train_acc')\n",
    "plt.plot(hist['val_acc'],'-r',label='val_acc')\n",
    "plt.legend()\n",
    "plt.subplot(212)\n",
    "plt.plot(hist['train_loss'],'-b',label='train_loss')\n",
    "plt.plot(hist['val_loss'],'-r',label='val_loss')\n",
    "plt.legend()"
   ]
  },
  {
   "cell_type": "code",
   "execution_count": 15,
   "metadata": {},
   "outputs": [
    {
     "data": {
      "text/plain": [
       "<matplotlib.legend.Legend at 0x2d78184d978>"
      ]
     },
     "execution_count": 15,
     "metadata": {},
     "output_type": "execute_result"
    },
    {
     "data": {
      "image/png": "[encoded data removed]",
      "text/plain": [
       "<matplotlib.figure.Figure at 0x2d7816cedd8>"
      ]
     },
     "metadata": {},
     "output_type": "display_data"
    }
   ],
   "source": [
    "plt.figure(figsize=(15,7))\n",
    "#plt.plot(hist['train_loss'],'-b',label='train_loss')\n",
    "plt.plot(hist['affinity'],'-r',label='affinity')\n",
    "plt.plot(np.subtract(1,hist['balance']),'-y',label='balance')\n",
    "plt.plot(hist['coactivity'],'-g',label='coactivity')\n",
    "plt.legend()"
   ]
  },
  {
   "cell_type": "code",
   "execution_count": 32,
   "metadata": {
    "scrolled": false
   },
   "outputs": [],
   "source": [
    "digitTrace = np.zeros((classCount*clustCount,784))\n",
    "digitTraceCount = np.zeros((classCount*clustCount))\n",
    "digitCount = np.zeros(10)"
   ]
  },
  {
   "cell_type": "code",
   "execution_count": 50,
   "metadata": {
    "scrolled": false
   },
   "outputs": [],
   "source": [
    "#sess.run(tf.global_variables_initializer())\n",
    "for i in range(1000):\n",
    "    tb = mnist.test.next_batch(1)\n",
    "    digitCount[np.argmax(tb[1])]+=1\n",
    "    testbatch = (tb[0],np.array([y[np.argmax(tb[1][j])] for j in range(len(tb[1]))]))\n",
    "    smMat, acc = sess.run([softmaxMat,accuracy],feed_dict={x: testbatch[0], y_: testbatch[1]})\n",
    "    ypred = softmaxMat.eval({x: testbatch[0], y_: testbatch[1]})\n",
    "    digitTrace[np.argmax(ypred),:] += tb[0].ravel()\n",
    "    digitTraceCount[np.argmax(ypred)] += 1"
   ]
  },
  {
   "cell_type": "code",
   "execution_count": 51,
   "metadata": {},
   "outputs": [
    {
     "name": "stdout",
     "output_type": "stream",
     "text": [
      "[ 113.  127.  113.  118.  109.  107.  108.  125.  102.  104.]\n",
      "[  74.  137.  111.   95.  147.  111.  147.   85.  104.  101.]\n"
     ]
    }
   ],
   "source": [
    "print(digitCount)\n",
    "print(digitTraceCount)"
   ]
  },
  {
   "cell_type": "code",
   "execution_count": 52,
   "metadata": {
    "scrolled": false
   },
   "outputs": [
    {
     "data": {
      "image/png": "[encoded data removed]",
      "text/plain": [
       "<matplotlib.figure.Figure at 0x2d782287240>"
      ]
     },
     "metadata": {},
     "output_type": "display_data"
    }
   ],
   "source": [
    "digitTrace = digitTrace/np.max(digitTrace)\n",
    "f,ax=plt.subplots(nrows=classCount, ncols=clustCount, figsize=(1.5*clustCount,1.5*classCount))\n",
    "gs = gridspec.GridSpec(classCount,clustCount)\n",
    "gs.update(wspace=0.025, hspace=0.025)\n",
    "f.subplots_adjust(wspace=0,hspace=0)\n",
    "for i in range(digitTrace.shape[0]):\n",
    "    sp = plt.subplot(gs[i])\n",
    "    sp.set_xticklabels([])\n",
    "    sp.set_yticklabels([])\n",
    "    sp.set_aspect('equal')\n",
    "    sp.grid = False\n",
    "    plt.imshow(np.reshape(digitTrace[i,:],(28,28)),cmap='bone')"
   ]
  },
  {
   "cell_type": "code",
   "execution_count": 53,
   "metadata": {
    "scrolled": false
   },
   "outputs": [
    {
     "ename": "TypeError",
     "evalue": "a bytes-like object is required, not 'str'",
     "output_type": "error",
     "traceback": [
      "\u001b[1;31m---------------------------------------------------------------------------\u001b[0m",
      "\u001b[1;31mTypeError\u001b[0m                                 Traceback (most recent call last)",
      "\u001b[1;32m<ipython-input-53-eef436a975f3>\u001b[0m in \u001b[0;36m<module>\u001b[1;34m()\u001b[0m\n\u001b[0;32m      2\u001b[0m \u001b[1;32mwith\u001b[0m \u001b[0mopen\u001b[0m\u001b[1;33m(\u001b[0m\u001b[1;34m'./trainlog.txt'\u001b[0m\u001b[1;33m,\u001b[0m\u001b[1;34m'ab'\u001b[0m\u001b[1;33m)\u001b[0m \u001b[1;32mas\u001b[0m \u001b[0mf\u001b[0m\u001b[1;33m:\u001b[0m\u001b[1;33m\u001b[0m\u001b[0m\n\u001b[0;32m      3\u001b[0m     f.write('lr: %g, batchsize: %i, steps: %i, thresh: %g, c1: %g, c2: %g, c3: %g, c4: %g, test_acc: %g, test_loss: %g\\n'%\n\u001b[1;32m----> 4\u001b[1;33m             (lr,batchSize,stepCount,tresh.eval(), cc1, cc2, cc3, cc4, test_acc, test_loss))\n\u001b[0m",
      "\u001b[1;31mTypeError\u001b[0m: a bytes-like object is required, not 'str'"
     ]
    }
   ],
   "source": [
    "stepCount = len(hist['train_acc'])*100\n",
    "with open('./trainlog.txt','ab') as f:\n",
    "    f.write('lr: %g, batchsize: %i, steps: %i, thresh: %g, c1: %g, c2: %g, c3: %g, c4: %g, test_acc: %g, test_loss: %g\\n'%\n",
    "            (lr,batchSize,stepCount,tresh.eval(), cc1, cc2, cc3, cc4, test_acc, test_loss))"
   ]
  },
  {
   "cell_type": "markdown",
   "metadata": {},
   "source": [
    "## Clustering score"
   ]
  },
  {
   "cell_type": "code",
   "execution_count": null,
   "metadata": {},
   "outputs": [],
   "source": [
    "tb = mnist.test.next_batch(10000)\n",
    "#tb[0][:,:] = threshold(tb[0][:,:],threshmin=0.5,newval=0)\n",
    "#tb[0][:,:] = threshold(tb[0][:,:],threshmax=0.49,newval=1)\n",
    "testbatch = (tb[0],np.array([y[np.argmax(tb[1][j])>4] for j in range(len(tb[1]))]))\n",
    "testFeed = {x: testbatch[0], y_: testbatch[1]}\n",
    "ypred = softmaxMat.eval(testFeed)\n",
    "ypred = ypred.reshape((tb[0].shape[0],clustCount*classCount))\n",
    "ypred = tf.argmax(ypred,1).eval()\n",
    "ylookup = [np.argmax(np.sum(tb[1][ypred==i],0)).astype('int32') for i in range(clustCount*classCount)]\n",
    "yconverted = [ylookup[i] for i in ypred]\n",
    "correct_prediction = tf.equal(yconverted, np.argmax(tb[1],1).astype('int32'))\n",
    "accuracy = tf.reduce_mean(tf.cast(correct_prediction, tf.float32)).eval()\n",
    "print 'Clustering Accuracy: %g'%(accuracy)\n",
    "print ylookup"
   ]
  },
  {
   "cell_type": "markdown",
   "metadata": {},
   "source": [
    "## Compare it to k-means"
   ]
  },
  {
   "cell_type": "code",
   "execution_count": null,
   "metadata": {},
   "outputs": [],
   "source": [
    "tb0 = [tb[0][np.argmax(tb[1],1)<5],tb[1][np.argmax(tb[1],1)<5]]\n",
    "tb1 = [tb[0][np.argmax(tb[1],1)>4],tb[1][np.argmax(tb[1],1)>4]]\n",
    "#<5\n",
    "kmeans = KMeans(n_clusters=5)\n",
    "km0_ypred = kmeans.fit_transform(tb0[0])\n",
    "km0_ypred = np.argmax(km0_ypred,1)\n",
    "km_ylookup = [np.argmax(np.sum(tb0[1][km0_ypred==i],0)).astype('int32') for i in range(clustCount)]\n",
    "km_yconverted = [km_ylookup[i] for i in km0_ypred]\n",
    "km_correct_prediction = tf.equal(km_yconverted, np.argmax(tb0[1],1).astype('int32'))\n",
    "km0_accuracy = tf.reduce_mean(tf.cast(km_correct_prediction, tf.float32)).eval()\n",
    "#>4\n",
    "kmeans = KMeans(n_clusters=5)\n",
    "km1_ypred = kmeans.fit_transform(tb1[0])\n",
    "km1_ypred = np.argmax(km1_ypred,1)\n",
    "km_ylookup = [np.argmax(np.sum(tb1[1][km1_ypred==i],0)).astype('int32') for i in range(clustCount)]\n",
    "km_yconverted = [km_ylookup[i] for i in km1_ypred]\n",
    "km_correct_prediction = tf.equal(km_yconverted, np.argmax(tb1[1],1).astype('int32'))\n",
    "km1_accuracy = tf.reduce_mean(tf.cast(km_correct_prediction, tf.float32)).eval()\n",
    "print 'ACOL Accuracy: %g'%(accuracy)\n",
    "print 'KMeans Accuracy: %g'%((km0_accuracy+km1_accuracy)/2)"
   ]
  },
  {
   "cell_type": "code",
   "execution_count": null,
   "metadata": {},
   "outputs": [],
   "source": [
    "#visualise kmeans\n",
    "digitTrace = np.concatenate([[np.sum(tb0[0][km0_ypred==i,:],axis=0) for i in range(clustCount)],\n",
    "                       [np.sum(tb1[0][km1_ypred==i,:],axis=0) for i in range(clustCount)]])\n",
    "digitTrace = digitTrace/np.max(digitTrace)\n",
    "f,ax=plt.subplots(nrows=classCount, ncols=clustCount, figsize=(1.5*clustCount,1.5*classCount))\n",
    "gs = gridspec.GridSpec(classCount,clustCount)\n",
    "gs.update(wspace=0.025, hspace=0.025)\n",
    "f.subplots_adjust(wspace=0,hspace=0)\n",
    "for i in range(digitTrace.shape[0]):\n",
    "    sp = plt.subplot(gs[i])\n",
    "    sp.set_xticklabels([])\n",
    "    sp.set_yticklabels([])\n",
    "    sp.set_aspect('equal')\n",
    "    sp.grid = False\n",
    "    plt.imshow(np.reshape(digitTrace[i,:],(28,28)),cmap='bone')"
   ]
  },
  {
   "cell_type": "code",
   "execution_count": null,
   "metadata": {
    "collapsed": true
   },
   "outputs": [],
   "source": []
  }
 ],
 "metadata": {
  "kernelspec": {
   "display_name": "Python 3",
   "language": "python",
   "name": "python3"
  },
  "language_info": {
   "codemirror_mode": {
    "name": "ipython",
    "version": 3
   },
   "file_extension": ".py",
   "mimetype": "text/x-python",
   "name": "python",
   "nbconvert_exporter": "python",
   "pygments_lexer": "ipython3",
   "version": "3.5.3"
  }
 },
 "nbformat": 4,
 "nbformat_minor": 2
}
