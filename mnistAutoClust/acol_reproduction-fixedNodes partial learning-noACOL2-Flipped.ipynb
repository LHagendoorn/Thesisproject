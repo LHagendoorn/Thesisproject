{
 "cells": [
  {
   "cell_type": "markdown",
   "metadata": {},
   "source": [
    "# ACOL replication tensorflow"
   ]
  },
  {
   "cell_type": "markdown",
   "metadata": {},
   "source": [
    "## Setup stuff"
   ]
  },
  {
   "cell_type": "code",
   "execution_count": 110,
   "metadata": {
    "collapsed": true
   },
   "outputs": [],
   "source": [
    "import os\n",
    "perc = float(os.environ.get('perc', 1.0))\n",
    "balanced = bool(os.environ.get('balanced', True))"
   ]
  },
  {
   "cell_type": "code",
   "execution_count": 111,
   "metadata": {
    "collapsed": false
   },
   "outputs": [
    {
     "name": "stdout",
     "output_type": "stream",
     "text": [
      "Percentage subclass labelled: 1\n",
      "Balanced: True\n"
     ]
    }
   ],
   "source": [
    "print(\"Percentage subclass labelled: %g\"%(perc))\n",
    "print(\"Balanced: %r\"%(balanced))\n",
    "perc=0.01"
   ]
  },
  {
   "cell_type": "code",
   "execution_count": 112,
   "metadata": {
    "collapsed": false,
    "scrolled": false
   },
   "outputs": [
    {
     "name": "stdout",
     "output_type": "stream",
     "text": [
      "Extracting ./MNIST_data/train-images-idx3-ubyte.gz\n",
      "Extracting ./MNIST_data/train-labels-idx1-ubyte.gz\n",
      "Extracting ./MNIST_data/t10k-images-idx3-ubyte.gz\n",
      "Extracting ./MNIST_data/t10k-labels-idx1-ubyte.gz\n"
     ]
    }
   ],
   "source": [
    "import random\n",
    "from notifiers import notify\n",
    "#imports and settings:\n",
    "import tensorflow as tf\n",
    "from tensorflow.examples.tutorials.mnist import input_data\n",
    "import numpy as np\n",
    "import matplotlib.pyplot as plt\n",
    "import matplotlib.gridspec as gridspec\n",
    "#from jupyterthemes import jtplot\n",
    "from sklearn.cluster import KMeans\n",
    "from scipy.stats import threshold\n",
    "from tensorflow.contrib.learn.python.learn.datasets import base\n",
    "from tensorflow.contrib.learn.python.learn.datasets import mnist\n",
    "#jtplot.style()\n",
    "%matplotlib inline\n",
    "tf.logging.set_verbosity(tf.logging.INFO)\n",
    "\n",
    "TRAIN_IMAGES = 'train-images-idx3-ubyte.gz'\n",
    "TRAIN_LABELS = 'train-labels-idx1-ubyte.gz'\n",
    "TEST_IMAGES = 't10k-images-idx3-ubyte.gz'\n",
    "TEST_LABELS = 't10k-labels-idx1-ubyte.gz'\n",
    "SOURCE_URL = 'https://storage.googleapis.com/cvdf-datasets/mnist/'\n",
    "\n",
    "local_file = base.maybe_download(TRAIN_IMAGES, './MNIST_data',\n",
    "                                   SOURCE_URL + TRAIN_IMAGES)\n",
    "with open(local_file, 'rb') as f:\n",
    "    train_images = mnist.extract_images(f)\n",
    "    \n",
    "local_file = base.maybe_download(TRAIN_LABELS, './MNIST_data',\n",
    "                                   SOURCE_URL + TRAIN_LABELS)\n",
    "with open(local_file, 'rb') as f:\n",
    "    train_labels = mnist.extract_labels(f, one_hot=True)\n",
    "\n",
    "local_file = base.maybe_download(TEST_IMAGES, './MNIST_data',\n",
    "                                   SOURCE_URL + TEST_IMAGES)\n",
    "with open(local_file, 'rb') as f:\n",
    "    test_images = mnist.extract_images(f)\n",
    "\n",
    "local_file = base.maybe_download(TEST_LABELS, './MNIST_data',\n",
    "                                   SOURCE_URL + TEST_LABELS)\n",
    "with open(local_file, 'rb') as f:\n",
    "    test_labels = mnist.extract_labels(f, one_hot=True)"
   ]
  },
  {
   "cell_type": "code",
   "execution_count": 113,
   "metadata": {
    "collapsed": true
   },
   "outputs": [],
   "source": [
    "#def notify(body):\n",
    "#    msg = MIMEText(body)\n",
    "    # me == the sender's email address\n",
    "    # you == the recipient's email address\n",
    "#    msg['Subject'] = 'Finished training!'\n",
    "#    msg['From'] = \"scriptnotificiations@gmail.com\"\n",
    "#    msg['To'] = \"scriptnotificiations@gmail.com\"\n",
    "\n",
    "    # Send the message via our own SMTP server, but don't include the\n",
    "    # envelope header.\n",
    "#    s = smtplib.SMTP('smtp.gmail.com', 587)\n",
    "#    s.starttls()\n",
    "#    s.login(\"scriptnotificiations@gmail.com\", \"SuperSecretMegaPassword!!!\")\n",
    "#    s.sendmail(\"scriptnotificiations@gmail.com\", [\"scriptnotificiations@gmail.com\"], msg.as_string())\n",
    "#    s.quit()"
   ]
  },
  {
   "cell_type": "code",
   "execution_count": 114,
   "metadata": {
    "collapsed": false
   },
   "outputs": [],
   "source": [
    "clustCount = 10\n",
    "classCount = 2\n",
    "net = 0\n",
    "#trainsteps = 50000\n",
    "trainsteps = 50000\n",
    "#perc = 0.1\n",
    "#balanced = True\n",
    "validation_size=5000*2\n",
    "_epochs_completed_train = 0\n",
    "_index_in_epoch_train = 0\n",
    "_epochs_completed_val = 0\n",
    "_index_in_epoch_val = 0\n",
    "_epochs_completed_test = 0\n",
    "_index_in_epoch_test = 0"
   ]
  },
  {
   "cell_type": "code",
   "execution_count": 115,
   "metadata": {
    "collapsed": false
   },
   "outputs": [],
   "source": [
    "#y = {0:[1,0],\n",
    "#     1:[1,0],\n",
    "#     2:[1,0],\n",
    "#     3:[1,0],\n",
    "#     4:[1,0],\n",
    "#     5:[0,1],\n",
    "#     6:[0,1],\n",
    "#     7:[0,1],\n",
    "#     8:[0,1],\n",
    "#     9:[0,1]}\n",
    "y2 = {\n",
    "    0:np.zeros((classCount,clustCount)),\n",
    "    1:np.zeros((classCount,clustCount)),\n",
    "    2:np.zeros((classCount,clustCount)),\n",
    "    3:np.zeros((classCount,clustCount)),\n",
    "    4:np.zeros((classCount,clustCount)),\n",
    "    5:np.zeros((classCount,clustCount)),\n",
    "    6:np.zeros((classCount,clustCount)),\n",
    "    7:np.zeros((classCount,clustCount)),\n",
    "    8:np.zeros((classCount,clustCount)),\n",
    "    9:np.zeros((classCount,clustCount))\n",
    "}\n",
    "y2[0][0,0] = 1\n",
    "y2[1][0,1] = 1\n",
    "y2[2][0,2] = 1\n",
    "y2[3][0,3] = 1\n",
    "y2[4][0,4] = 1\n",
    "y2[5][0,5] = 1\n",
    "y2[6][0,6] = 1\n",
    "y2[7][0,7] = 1\n",
    "y2[8][0,8] = 1\n",
    "y2[9][0,9] = 1\n",
    "\n",
    "emptyy2 = {\n",
    "    0:np.zeros((classCount,clustCount)),\n",
    "    1:np.zeros((classCount,clustCount)),\n",
    "    2:np.zeros((classCount,clustCount)),\n",
    "    3:np.zeros((classCount,clustCount)),\n",
    "    4:np.zeros((classCount,clustCount)),\n",
    "    5:np.zeros((classCount,clustCount)),\n",
    "    6:np.zeros((classCount,clustCount)),\n",
    "    7:np.zeros((classCount,clustCount)),\n",
    "    8:np.zeros((classCount,clustCount)),\n",
    "    9:np.zeros((classCount,clustCount))\n",
    "}"
   ]
  },
  {
   "cell_type": "code",
   "execution_count": 116,
   "metadata": {
    "collapsed": false
   },
   "outputs": [
    {
     "name": "stdout",
     "output_type": "stream",
     "text": [
      "Nothing\n"
     ]
    }
   ],
   "source": [
    "if 0:\n",
    "    idx = np.argmax(train_labels,1)<5\n",
    "    train_labels = train_labels[idx,:]\n",
    "    train_images = train_images[idx,:,:,:]\n",
    "\n",
    "    idx = np.argmax(test_labels,1)<5\n",
    "    test_labels = test_labels[idx,:]\n",
    "    test_images = test_images[idx,:,:,:]\n",
    "    print \"!!!!!!! Only first 5\"\n",
    "else:\n",
    "    print \"Nothing\""
   ]
  },
  {
   "cell_type": "code",
   "execution_count": 117,
   "metadata": {
    "collapsed": false
   },
   "outputs": [],
   "source": [
    "#train_super_labels = np.array([y[np.argmax(train_labels[j])] for j in range(train_labels.shape[0])])\n",
    "#test_super_labels = np.array([y[np.argmax(test_labels[j])] for j in range(test_labels.shape[0])])\n",
    "imFlipper = [slice(None)] * 3\n",
    "imFlipper[2] = slice(None, None, -1)\n",
    "\n",
    "lblFlipper = [slice(None)] * 3\n",
    "lblFlipper[1] = slice(None, None, -1)\n",
    "\n",
    "train_labels = np.array([y2[np.argmax(train_labels[j])] for j in range(train_labels.shape[0])])\n",
    "test_labels = np.array([y2[np.argmax(test_labels[j])] for j in range(test_labels.shape[0])])"
   ]
  },
  {
   "cell_type": "code",
   "execution_count": 118,
   "metadata": {
    "collapsed": false
   },
   "outputs": [],
   "source": [
    "if not 0 <= validation_size <= len(train_images):\n",
    "    raise ValueError(\n",
    "        'Validation size should be between 0 and {}. Received: {}.'\n",
    "        .format(len(train_images), validation_size))\n",
    " \n",
    "validation_images = train_images[:validation_size]\n",
    "validation_labels = train_labels[:validation_size]\n",
    "#validation_labels_clipped = train_labels_clipped[:validation_size]\n",
    "train_images = train_images[validation_size:]\n",
    "train_labels = train_labels[validation_size:]\n",
    "#train_labels_clipped = train_labels_clipped[validation_size:]\n",
    "\n",
    "train_images = train_images.reshape(train_images.shape[0],train_images.shape[1] * train_images.shape[2])\n",
    "train_images = train_images.astype(np.float32)\n",
    "train_images = np.multiply(train_images, 1.0 / 255.0)\n",
    "\n",
    "validation_images = validation_images.reshape(validation_images.shape[0],validation_images.shape[1] * validation_images.shape[2])\n",
    "validation_images = validation_images.astype(np.float32)\n",
    "validation_images = np.multiply(validation_images, 1.0 / 255.0)\n",
    "\n",
    "test_images = test_images.reshape(test_images.shape[0],test_images.shape[1] * test_images.shape[2])\n",
    "test_images = test_images.astype(np.float32)\n",
    "test_images = np.multiply(test_images, 1.0 / 255.0)\n",
    "\n",
    "trainCount=len(train_images)\n",
    "if perc<1:\n",
    "    if balanced:\n",
    "        inds = []\n",
    "        classSize = int(np.ceil(trainCount*perc/10))\n",
    "        for j in range(10):\n",
    "            inds.extend([i for i, x in enumerate(np.argmax(np.sum(train_labels,1),1)) if x == j][:classSize])\n",
    "        random.shuffle(inds)\n",
    "\n",
    "        train_labels_clipped = np.array([train_labels[j,:,:] for j in inds])\n",
    "        train_labels_clipped = np.concatenate([train_labels_clipped,np.array([emptyy2[np.argmax(train_labels[j,:,:])] for j in range(trainCount) if j not in inds])])\n",
    "    else:\n",
    "        train_labels_clipped = np.array([y2[np.argmax(train_labels[j,:,:])] for j in range(int(train_labels.shape[0]*perc))])\n",
    "        train_labels_clipped = np.concatenate([train_labels_clipped,np.array([emptyy2[np.argmax(train_labels[j,:,:])] for j in range(int(train_labels.shape[0]*perc),train_labels.shape[0])])])\n",
    "else:\n",
    "    train_labels_clipped = train_labels"
   ]
  },
  {
   "cell_type": "code",
   "execution_count": 119,
   "metadata": {
    "collapsed": false
   },
   "outputs": [],
   "source": [
    "def next_batch(batch_size, shuffle, images, labels, ep_compl, ep_ind):\n",
    "    if batch_size/2.0 < 1:\n",
    "        if np.random.random() < 0.5:\n",
    "            flipped = np.array([1,0]).reshape((1,2))\n",
    "        else:\n",
    "            flipped = np.array([0,1]).reshape((1,2))\n",
    "    _epochs_completed = ep_compl\n",
    "    _index_in_epoch = ep_ind\n",
    "    \"\"\"Return the next `batch_size` examples from this data set.\"\"\"\n",
    "    start = _index_in_epoch\n",
    "    _num_examples = images.shape[0]\n",
    "    #Flip half\n",
    "    # Shuffle for the first epoch   \n",
    "    if _epochs_completed == 0 and start == 0 and shuffle:\n",
    "      perm0 = np.arange(_num_examples)\n",
    "      np.random.shuffle(perm0)\n",
    "      _images = images[perm0]\n",
    "      _labels = labels[perm0]\n",
    "    # Go to the next epoch\n",
    "    if start + batch_size > _num_examples:\n",
    "      # Finished epoch\n",
    "      _epochs_completed += 1\n",
    "      # Get the rest examples in this epoch\n",
    "      rest_num_examples = _num_examples - start\n",
    "      images_rest_part = _images[start:_num_examples]\n",
    "      labels_rest_part = _labels[start:_num_examples]\n",
    "      # Shuffle the data\n",
    "      if shuffle:\n",
    "        perm = np.arange(_num_examples)\n",
    "        np.random.shuffle(perm)\n",
    "        _images = images[perm]\n",
    "        print(_images)\n",
    "        _labels = labels[perm]\n",
    "      # Start next epoch\n",
    "      start = 0\n",
    "      _index_in_epoch = batch_size - rest_num_examples\n",
    "      end = _index_in_epoch\n",
    "      images_new_part = _images[start:end]\n",
    "      labels_new_part = _labels[start:end]\n",
    "      super_labels_new_part = _super_labels[start:end]\n",
    "      im = np.concatenate((images_rest_part, images_new_part), axis=0)                 \n",
    "      lbl = np.concatenate((labels_rest_part, labels_new_part), axis=0)\n",
    "      #flip half then reshuffle batch\n",
    "      if batch_size>1:\n",
    "          im = np.vstack([im[:(batch_size/2),:],im[(batch_size/2):,:].reshape((-1,28,28))[tuple(imFlipper)].reshape(-1,28*28)])\n",
    "          lbl = np.vstack([lbl[:(batch_size/2),:,:],lbl[(batch_size/2):,:,:][tuple(lblFlipper)]])\n",
    "          suplbl = np.vstack([[[1,0]]*(batch_size/2), [[0,1]]*(batch_size/2)])\n",
    "          perm1 = np.arange(batch_size)\n",
    "          np.random.shuffle(perm1)\n",
    "          im = im[perm1]\n",
    "          lbl = lbl[perm1]\n",
    "          suplbl = suplbl[perm1]\n",
    "      else:\n",
    "          if flipped[0,0]: #not flipped\n",
    "            suplbl = flipped\n",
    "            pass\n",
    "          else:\n",
    "            im = im.reshape((-1,28,28))[tuple(imFlipper)].reshape(-1,28*28)\n",
    "            lbl = lbl[tuple(lblFlipper)]\n",
    "            suplbl = flipped\n",
    "            perm1 = np.arange(batch_size)\n",
    "      return im, suplbl, lbl\n",
    "    else:\n",
    "      _index_in_epoch += batch_size\n",
    "      end = _index_in_epoch\n",
    "      im = _images[start:end]\n",
    "      lbl = _labels[start:end]\n",
    "      if batch_size>1:\n",
    "          im = np.vstack([im[:(batch_size/2),:],im[(batch_size/2):,:].reshape((-1,28,28))[tuple(imFlipper)].reshape(-1,28*28)])\n",
    "          lbl = np.vstack([lbl[:(batch_size/2),:,:],lbl[(batch_size/2):,:,:][tuple(lblFlipper)]])\n",
    "          suplbl = np.vstack([[[1,0]]*(batch_size/2), [[0,1]]*(batch_size/2)])\n",
    "          perm1 = np.arange(batch_size)\n",
    "          np.random.shuffle(perm1)\n",
    "          im = im[perm1]\n",
    "          lbl = lbl[perm1]\n",
    "          suplbl = suplbl[perm1]\n",
    "      else:\n",
    "          if flipped[0,0]: #not flipped\n",
    "            suplbl = flipped\n",
    "            pass\n",
    "          else:\n",
    "            im = im.reshape((-1,28,28))[tuple(imFlipper)].reshape(-1,28*28)\n",
    "            lbl = lbl[tuple(lblFlipper)]\n",
    "            suplbl = flipped\n",
    "      return im, suplbl, lbl"
   ]
  },
  {
   "cell_type": "markdown",
   "metadata": {},
   "source": [
    "## Network helper functions"
   ]
  },
  {
   "cell_type": "code",
   "execution_count": 120,
   "metadata": {
    "collapsed": true,
    "scrolled": false
   },
   "outputs": [],
   "source": [
    "#helper funcs\n",
    "def weight_variable(shape):\n",
    "    initial = tf.truncated_normal(shape, stddev=0.1)\n",
    "    return tf.Variable(initial)\n",
    "\n",
    "def bias_variable(shape):\n",
    "    initial = tf.constant(0.1, shape=shape)\n",
    "    return tf.Variable(initial)\n",
    "\n",
    "def conv2d(x,W):\n",
    "    return tf.nn.conv2d(x,W,strides=[1,1,1,1], padding='SAME')\n",
    "\n",
    "def max_pool_2x2(x):\n",
    "    return tf.nn.max_pool(x, ksize=[1,2,2,1], strides=[1,2,2,1], padding='SAME')\n",
    "\n",
    "def matrix_softmax(x):\n",
    "    shape = x.get_shape().as_list()\n",
    "    shape[0] = int(-1)\n",
    "    return tf.reshape(tf.nn.softmax(tf.contrib.layers.flatten(x)),shape)\n",
    "\n",
    "def avg_softmax(x):\n",
    "    shape = x.get_shape().as_list()\n",
    "    shape[0] = int(-1)\n",
    "    totalSoft = tf.reshape(tf.nn.softmax(tf.contrib.layers.flatten(x)),shape)\n",
    "    return tf.reduce_sum(totalSoft,2)\n",
    "\n",
    "def max_softmax(x):\n",
    "    shape = x.get_shape().as_list()\n",
    "    shape[0] = int(-1)\n",
    "    totalSoft = tf.reshape(tf.nn.softmax(tf.contrib.layers.flatten(x)),shape)\n",
    "    return tf.reduce_max(totalSoft,2)\n",
    "\n",
    "def initACOL(in_size,clust,clss):\n",
    "    acolLayers = []\n",
    "    for i in range(clss):\n",
    "        acolLayers.append([\n",
    "            weight_variable([in_size, clustCount]),\n",
    "            bias_variable([clustCount])\n",
    "        ])\n",
    "    return acolLayers\n",
    "        \n",
    "def connectACOL(inLayer,acol):\n",
    "    clust = []\n",
    "    for l in range(0,len(acol)):\n",
    "        clust.append(tf.matmul(inLayer, acol[l][0]) + acol[l][1])\n",
    "    return clust\n",
    "        \n",
    "def acol(input,clust_count, class_count):\n",
    "    acolLayers = []\n",
    "    for i in range(class_count):\n",
    "        if isinstance(input, tuple):\n",
    "                input = input[0]\n",
    "\n",
    "        #I don't know what this bit does, but I don't think it'll hurt anything\n",
    "        #Or maybe it does, who knows\n",
    "        input_shape = input.get_shape()\n",
    "        if input_shape.ndims == 4:\n",
    "            dim = 1\n",
    "            for d in input_shape[1:].as_list():\n",
    "                dim *= d\n",
    "        #    feed_in = tf.reshape(tf.transpose(input,[0,3,1,2]), [-1, dim])\n",
    "        else:\n",
    "            feed_in, dim = (input, int(input_shape[-1]))\n",
    "\n",
    "        init_weights = tf.truncated_normal_initializer(0.0, stddev=0.1)#(0.0, stddev=0.01)\n",
    "        init_biases = tf.constant_initializer(1.0)#(0.1)\n",
    "\n",
    "        weights = weight_variable([dim, clust_count])\n",
    "        biases = bias_variable([clust_count])\n",
    "\n",
    "        acoll = tf.nn.xw_plus_b(input,weights,biases)\n",
    "        acolLayers.append(acol)\n",
    "    return acolLayers    \n"
   ]
  },
  {
   "cell_type": "markdown",
   "metadata": {},
   "source": [
    "## Create placeholders (weights&biases)"
   ]
  },
  {
   "cell_type": "code",
   "execution_count": 121,
   "metadata": {
    "collapsed": true,
    "scrolled": false
   },
   "outputs": [],
   "source": [
    "if net==0:\n",
    "    #Init model weights & biases\n",
    "    sess = tf.InteractiveSession()\n",
    "\n",
    "    x = tf.placeholder(tf.float32, shape=[None, 784])\n",
    "    x_image = tf.reshape(x, [-1,28,28,1])\n",
    "    y_ = tf.placeholder(tf.float32, shape=[None, classCount])\n",
    "    y2_ = tf.placeholder(tf.float32, shape=[None,classCount,clustCount])\n",
    "    \n",
    "    #conv_layer1\n",
    "    W_conv1 = weight_variable([5,5,1,32])\n",
    "    b_conv1 = bias_variable([32])\n",
    "\n",
    "    #conv_layer2\n",
    "    W_conv2 = weight_variable([5,5,32,64])\n",
    "    b_conv2 = bias_variable([64])\n",
    "\n",
    "    #fc layer 1\n",
    "    W_fc1 = weight_variable([7*7*64, 1024])\n",
    "    b_fc1 = bias_variable([1024])\n",
    "\n",
    "    acol = initACOL(1024,clustCount,classCount)\n",
    "\n",
    "    #final fc layer\n",
    "    W_fc2 = weight_variable([1024, classCount])\n",
    "    b_fc2 = bias_variable([classCount])"
   ]
  },
  {
   "cell_type": "markdown",
   "metadata": {},
   "source": [
    "### Define network"
   ]
  },
  {
   "cell_type": "code",
   "execution_count": 13,
   "metadata": {
    "collapsed": true,
    "scrolled": false
   },
   "outputs": [],
   "source": [
    "if net==0:\n",
    "    dropout=0.3\n",
    "    #Define net\n",
    "    #conv 1\n",
    "    l_conv1 = tf.nn.relu(conv2d(x_image, W_conv1) + b_conv1)\n",
    "    l_pool1 = max_pool_2x2(l_conv1)\n",
    "\n",
    "    #conv 2\n",
    "    l_conv2 = tf.nn.relu(conv2d(l_pool1, W_conv2) + b_conv2)\n",
    "    l_pool2 = max_pool_2x2(l_conv2)\n",
    "\n",
    "    #fc 1\n",
    "    l_pool2_flat = tf.reshape(l_pool2, [-1, 7*7*64])\n",
    "    l_fc1 = tf.nn.relu(tf.matmul(l_pool2_flat, W_fc1) + b_fc1)\n",
    "\n",
    "    l_fc1_drop = tf.nn.dropout(l_fc1, tf.constant(dropout))\n",
    "\n",
    "    l_acol = connectACOL(l_fc1_drop,acol)\n",
    "    #l_acol = acol(l_fc1_drop,clustCount,classCount)\n",
    "\n",
    "    #Classification layer\n",
    "    stackedClusts = tf.stack(l_acol,1)\n",
    "    softmaxMat = matrix_softmax(stackedClusts)\n",
    "    smStacked = tf.reduce_max(softmaxMat,2)\n",
    "\n",
    "    y_conv = smStacked"
   ]
  },
  {
   "cell_type": "markdown",
   "metadata": {},
   "source": [
    "## Paper architecture"
   ]
  },
  {
   "cell_type": "code",
   "execution_count": 14,
   "metadata": {
    "collapsed": true
   },
   "outputs": [],
   "source": [
    "if net==1:\n",
    "    #Init model weights & biases\n",
    "    sess = tf.InteractiveSession()\n",
    "\n",
    "    x = tf.placeholder(tf.float32, shape=[None, 784])\n",
    "    x_image = tf.reshape(x, [-1,28,28,1])\n",
    "    y_ = tf.placeholder(tf.float32, shape=[None, classCount])\n",
    "    y2_ = tf.placeholder(tf.float32, shape=[None,classCount,clustCount])\n",
    "    \n",
    "    #keep_prob = tf.placeholder(tf.float32)\n",
    "\n",
    "    #conv_layer1\n",
    "    W_conv1 = weight_variable([3,3,1,32])\n",
    "    b_conv1 = bias_variable([32])\n",
    "\n",
    "    #conv_layer2\n",
    "    W_conv2 = weight_variable([3,3,32,32])\n",
    "    b_conv2 = bias_variable([32])\n",
    "\n",
    "    #conv_layer3\n",
    "    W_conv3 = weight_variable([3,3,32,64])\n",
    "    b_conv3 = bias_variable([64])\n",
    "\n",
    "    #conv_layer4\n",
    "    W_conv4 = weight_variable([3,3,64,64])\n",
    "    b_conv4 = bias_variable([64])\n",
    "\n",
    "    #fc layer 1\n",
    "    W_fc1 = weight_variable([7*7*64, 2048])\n",
    "    b_fc1 = bias_variable([2048])\n",
    "\n",
    "    #acol = initACOL(2048,clustCount,classCount)"
   ]
  },
  {
   "cell_type": "code",
   "execution_count": 15,
   "metadata": {
    "collapsed": true
   },
   "outputs": [],
   "source": [
    "if net==1:\n",
    "    #Define net\n",
    "    #conv 1\n",
    "    l_conv1 = tf.nn.relu(conv2d(x_image, W_conv1) + b_conv1)\n",
    "    #conv 2\n",
    "    l_conv2 = tf.nn.relu(conv2d(l_conv1, W_conv2) + b_conv2)\n",
    "    l_pool2 = max_pool_2x2(l_conv2)\n",
    "\n",
    "    l_drop1 = tf.nn.dropout(l_pool2, tf.constant(0.25))\n",
    "\n",
    "    #conv 3\n",
    "    l_conv3 = tf.nn.relu(conv2d(l_drop1, W_conv3) + b_conv3)\n",
    "    #conv 4\n",
    "    l_conv4 = tf.nn.relu(conv2d(l_conv3, W_conv4) + b_conv4)\n",
    "    l_pool4 = max_pool_2x2(l_conv4)\n",
    "\n",
    "    l_drop2 = tf.nn.dropout(l_pool4, tf.constant(0.25))\n",
    "\n",
    "    #fc 1\n",
    "    l_pool2_flat = tf.reshape(l_drop2, [-1, 7*7*64])\n",
    "\n",
    "    l_fc1 = tf.nn.relu(tf.matmul(l_pool2_flat, W_fc1) + b_fc1)\n",
    "    \n",
    "    l_fc1_drop = tf.nn.dropout(l_fc1, tf.constant(0.5))\n",
    "    \n",
    "    #l_acol = connectACOL(l_fc1_drop,acol)\n",
    "    l_acol = acol(l_fc1_drop,clustCount, classCount)\n",
    "\n",
    "    #Classification layer\n",
    "    stackedClusts = tf.stack(l_acol,1)\n",
    "    softmaxMat = matrix_softmax(stackedClusts)\n",
    "    smStacked = tf.reduce_max(softmaxMat,2)\n",
    "\n",
    "    y_conv = smStacked"
   ]
  },
  {
   "cell_type": "markdown",
   "metadata": {},
   "source": [
    "## Helperfunctions for loss"
   ]
  },
  {
   "cell_type": "code",
   "execution_count": 16,
   "metadata": {
    "collapsed": true,
    "scrolled": false
   },
   "outputs": [],
   "source": [
    "#helper loss funcs\n",
    "def zBar(x):\n",
    "    xshape = x.shape.as_list()\n",
    "    s=[-1,xshape[1]*xshape[2]]\n",
    "    return tf.maximum(tf.reshape(x,s),0)\n",
    "    \n",
    "def bigU(zb):\n",
    "    return tf.matmul(tf.transpose(zb),zb)\n",
    "\n",
    "def selectNonDiag(x):\n",
    "    selection = np.ones(x.shape.as_list()[0],dtype='float32') - np.eye(x.shape.as_list()[0],dtype='float32')\n",
    "    return tf.reduce_sum(tf.multiply(x,selection))\n",
    "\n",
    "def bigV(x):\n",
    "    smallNu=tf.reshape(tf.reduce_sum(x,axis=0),[1,-1])\n",
    "    return tf.multiply(tf.transpose(smallNu),smallNu)\n",
    "\n",
    "def specialNormalise(x):\n",
    "    top = selectNonDiag(x)\n",
    "    bottom = tf.multiply(tf.to_float(x.shape[1]-1),tf.reduce_sum(tf.multiply(x,np.eye(x.shape[1],dtype='float32'))))\n",
    "    return tf.divide(top,bottom)\n",
    "\n",
    "def frobNorm(x):\n",
    "    return tf.sqrt(tf.reduce_sum(tf.square(x)))\n",
    "\n",
    "tresh = tf.constant(0.03)\n",
    "cc0=1.0\n",
    "cc1=1.0\n",
    "cc2=1.0\n",
    "cc3=0.0003\n",
    "cc4=0.000001\n",
    "cc5=1.0\n",
    "c0 = tf.constant(cc0)\n",
    "c1 = tf.constant(cc1)\n",
    "c2 = tf.constant(cc2)\n",
    "c3val = tf.constant(cc3)\n",
    "c3 = lambda affinity: tf.cond(tf.less(affinity,tresh),lambda: c3val,lambda: tf.constant(0.0))\n",
    "c4 =tf.constant(cc4)\n",
    "c5 = tf.constant(cc5)"
   ]
  },
  {
   "cell_type": "markdown",
   "metadata": {},
   "source": [
    "### Calculate loss"
   ]
  },
  {
   "cell_type": "code",
   "execution_count": 17,
   "metadata": {
    "collapsed": true,
    "scrolled": false
   },
   "outputs": [],
   "source": [
    "#calculate losses\n",
    "#affinity\n",
    "#bZ = zBar(stackedClusts)#softmaxMat)\n",
    "#bU = bigU(bZ)\n",
    "#coact = selectNonDiag(bU)\n",
    "#affinity = specialNormalise(bU)\n",
    "\n",
    "#balance\n",
    "#bV=bigV(bZ)\n",
    "#balance = specialNormalise(bV)\n",
    "\n",
    "#cluster cross entropy\n",
    "clust_cross_entropy = tf.reduce_mean(-tf.reduce_sum(y2_ * tf.log(tf.clip_by_value(softmaxMat,1e-10,1.0)), reduction_indices=[1,2]))\n",
    "\n",
    "#cross entropy\n",
    "cross_entropy = tf.reduce_mean(-tf.reduce_sum(y_ * tf.log(tf.clip_by_value(y_conv,1e-10,1.0)), reduction_indices=[1]))\n",
    "\n",
    "frob = frobNorm(stackedClusts)#softmaxMat)\n",
    "\n",
    "loss = c0*cross_entropy + c5*clust_cross_entropy + c4*frob"
   ]
  },
  {
   "cell_type": "markdown",
   "metadata": {},
   "source": [
    "## Train network"
   ]
  },
  {
   "cell_type": "code",
   "execution_count": 18,
   "metadata": {
    "collapsed": true,
    "scrolled": false
   },
   "outputs": [],
   "source": [
    "lr = 1e-5\n",
    "train_step = tf.train.AdamOptimizer(lr).minimize(loss)\n",
    "correct_prediction = tf.equal(tf.argmax(y_conv,1), tf.argmax(y_,1))\n",
    "accuracy = tf.reduce_mean(tf.cast(correct_prediction, tf.float32))\n",
    "sess.run(tf.global_variables_initializer())"
   ]
  },
  {
   "cell_type": "code",
   "execution_count": 19,
   "metadata": {
    "collapsed": true,
    "scrolled": false
   },
   "outputs": [],
   "source": [
    "#y = {0:[0,1], 1:[1,0]}\n",
    "y = {0:[1,0,0,0,0],\n",
    "     1:[1,0,0,0,0],\n",
    "     2:[0,1,0,0,0],\n",
    "     3:[0,1,0,0,0],\n",
    "     4:[0,0,1,0,0],\n",
    "     5:[0,0,1,0,0],\n",
    "     6:[0,0,0,1,0],\n",
    "     7:[0,0,0,1,0],\n",
    "     8:[0,0,0,0,1],\n",
    "     9:[0,0,0,0,1]}\n",
    "\n",
    "y = {0:[1,0],\n",
    "     1:[1,0],\n",
    "     2:[1,0],\n",
    "     3:[1,0],\n",
    "     4:[1,0],\n",
    "     5:[0,1],\n",
    "     6:[0,1],\n",
    "     7:[0,1],\n",
    "     8:[0,1],\n",
    "     9:[0,1]}\n",
    "\n",
    "y2 = {\n",
    "    0:np.zeros((classCount,clustCount)),\n",
    "    1:np.zeros((classCount,clustCount)),\n",
    "    2:np.zeros((classCount,clustCount)),\n",
    "    3:np.zeros((classCount,clustCount)),\n",
    "    4:np.zeros((classCount,clustCount)),\n",
    "    5:np.zeros((classCount,clustCount)),\n",
    "    6:np.zeros((classCount,clustCount)),\n",
    "    7:np.zeros((classCount,clustCount)),\n",
    "    8:np.zeros((classCount,clustCount)),\n",
    "    9:np.zeros((classCount,clustCount))\n",
    "}\n",
    "\n",
    "y2[0][0,0] = 1\n",
    "y2[1][0,1] = 1\n",
    "y2[2][0,2] = 1\n",
    "y2[3][0,3] = 1\n",
    "y2[4][0,4] = 1\n",
    "y2[5][1,0] = 1\n",
    "y2[6][1,1] = 1\n",
    "y2[7][1,2] = 1\n",
    "y2[8][1,3] = 1\n",
    "y2[9][1,4] = 1\n",
    "\n",
    "emptyy2 = {\n",
    "    0:np.zeros((classCount,clustCount)),\n",
    "    1:np.zeros((classCount,clustCount)),\n",
    "    2:np.zeros((classCount,clustCount)),\n",
    "    3:np.zeros((classCount,clustCount)),\n",
    "    4:np.zeros((classCount,clustCount)),\n",
    "    5:np.zeros((classCount,clustCount)),\n",
    "    6:np.zeros((classCount,clustCount)),\n",
    "    7:np.zeros((classCount,clustCount)),\n",
    "    8:np.zeros((classCount,clustCount)),\n",
    "    9:np.zeros((classCount,clustCount))\n",
    "}\n",
    "\n",
    "totalSteps = trainsteps\n",
    "stepCount=0\n",
    "batchSize = 128\n",
    "hist = {\n",
    "    'train_acc':[],\n",
    "    'val_acc':[],\n",
    "    'train_loss':[],\n",
    "    'val_loss':[],\n",
    "    'affinity':[],\n",
    "    'balance':[],\n",
    "    'coactivity':[],\n",
    "    'clustEntr':[]\n",
    "}"
   ]
  },
  {
   "cell_type": "code",
   "execution_count": 20,
   "metadata": {
    "collapsed": false,
    "scrolled": true
   },
   "outputs": [
    {
     "name": "stdout",
     "output_type": "stream",
     "text": [
      "50000\n",
      "step 0/50000 \n",
      " Train: accuracy: 0.492188, loss: 6.15761 \n",
      " Validation: accuracy: 0.46875 loss: 20.1696\n",
      " cross_entropy: 3.77034, clust_cross_entropy: 2.52791, frob: 0.000557593\n",
      "step 100/50000 \n",
      " Train: accuracy: 0.523438, loss: 4.2566 \n",
      " Validation: accuracy: 0.507812 loss: 17.5541\n",
      " cross_entropy: 2.92273, clust_cross_entropy: 1.50347, frob: 0.000461498\n",
      "step 200/50000 \n",
      " Train: accuracy: 0.601562, loss: 3.08504 \n",
      " Validation: accuracy: 0.53125 loss: 15.673\n",
      " cross_entropy: 1.95061, clust_cross_entropy: 0.869546, frob: 0.000398826\n",
      "step 300/50000 \n",
      " Train: accuracy: 0.546875, loss: 3.50392 \n",
      " Validation: accuracy: 0.53125 loss: 14.4522\n",
      " cross_entropy: 1.69539, clust_cross_entropy: 1.16077, frob: 0.000356131\n",
      "step 400/50000 \n",
      " Train: accuracy: 0.679688, loss: 2.87428 \n",
      " Validation: accuracy: 0.59375 loss: 13.4132\n",
      " cross_entropy: 1.85432, clust_cross_entropy: 1.37121, frob: 0.000326465\n",
      "step 500/50000 \n",
      " Train: accuracy: 0.6875, loss: 2.68098 \n",
      " Validation: accuracy: 0.726562 loss: 11.6099\n",
      " cross_entropy: 1.48685, clust_cross_entropy: 0.88841, frob: 0.000281609\n",
      "step 600/50000 \n",
      " Train: accuracy: 0.664062, loss: 2.15019 \n",
      " Validation: accuracy: 0.609375 loss: 10.7325\n",
      " cross_entropy: 1.06732, clust_cross_entropy: 1.00411, frob: 0.000268198\n",
      "step 700/50000 \n",
      " Train: accuracy: 0.6875, loss: 1.95387 \n",
      " Validation: accuracy: 0.695312 loss: 9.27888\n",
      " cross_entropy: 1.07805, clust_cross_entropy: 0.711588, frob: 0.000250024\n",
      "step 800/50000 \n",
      " Train: accuracy: 0.71875, loss: 1.94626 \n",
      " Validation: accuracy: 0.703125 loss: 9.80246\n",
      " cross_entropy: 1.21751, clust_cross_entropy: 0.94259, frob: 0.000231503\n",
      "step 900/50000 \n",
      " Train: accuracy: 0.679688, loss: 1.96733 \n",
      " Validation: accuracy: 0.679688 loss: 8.62413\n",
      " cross_entropy: 1.16166, clust_cross_entropy: 0.481402, frob: 0.00021393\n",
      "step 1000/50000 \n",
      " Train: accuracy: 0.671875, loss: 1.846 \n",
      " Validation: accuracy: 0.8125 loss: 8.00028\n",
      " cross_entropy: 0.855933, clust_cross_entropy: 0.655742, frob: 0.000196913\n",
      "step 1100/50000 \n",
      " Train: accuracy: 0.71875, loss: 1.98629 \n",
      " Validation: accuracy: 0.726562 loss: 8.40061\n",
      " cross_entropy: 0.924477, clust_cross_entropy: 0.902828, frob: 0.000193543\n",
      "step 1200/50000 \n",
      " Train: accuracy: 0.71875, loss: 1.57965 \n",
      " Validation: accuracy: 0.835938 loss: 7.21496\n",
      " cross_entropy: 0.959854, clust_cross_entropy: 0.499994, frob: 0.000183266\n",
      "step 1300/50000 \n",
      " Train: accuracy: 0.710938, loss: 1.47639 \n",
      " Validation: accuracy: 0.820312 loss: 7.4983\n",
      " cross_entropy: 1.01319, clust_cross_entropy: 0.349949, frob: 0.000182035\n",
      "step 1400/50000 \n",
      " Train: accuracy: 0.8125, loss: 1.55146 \n",
      " Validation: accuracy: 0.773438 loss: 7.50861\n",
      " cross_entropy: 0.804923, clust_cross_entropy: 0.869522, frob: 0.000177566\n",
      "step 1500/50000 \n",
      " Train: accuracy: 0.773438, loss: 1.25072 \n",
      " Validation: accuracy: 0.796875 loss: 7.36012\n",
      " cross_entropy: 0.809599, clust_cross_entropy: 0.483063, frob: 0.00016956\n",
      "step 1600/50000 \n",
      " Train: accuracy: 0.820312, loss: 1.07148 \n",
      " Validation: accuracy: 0.796875 loss: 7.06109\n",
      " cross_entropy: 0.794623, clust_cross_entropy: 0.390047, frob: 0.000169544\n",
      "step 1700/50000 \n",
      " Train: accuracy: 0.835938, loss: 1.12003 \n",
      " Validation: accuracy: 0.835938 loss: 6.58484\n",
      " cross_entropy: 0.701851, clust_cross_entropy: 0.46864, frob: 0.000171403\n",
      "step 1800/50000 \n",
      " Train: accuracy: 0.804688, loss: 1.40073 \n",
      " Validation: accuracy: 0.804688 loss: 7.41868\n",
      " cross_entropy: 0.797211, clust_cross_entropy: 0.274729, frob: 0.000160677\n",
      "step 1900/50000 \n",
      " Train: accuracy: 0.835938, loss: 1.34918 \n",
      " Validation: accuracy: 0.820312 loss: 6.89055\n",
      " cross_entropy: 0.730823, clust_cross_entropy: 0.765454, frob: 0.000164754\n",
      "step 2000/50000 \n",
      " Train: accuracy: 0.867188, loss: 1.22473 \n",
      " Validation: accuracy: 0.859375 loss: 6.6726\n",
      " cross_entropy: 0.671204, clust_cross_entropy: 0.571942, frob: 0.00015998\n",
      "step 2100/50000 \n",
      " Train: accuracy: 0.835938, loss: 1.19308 \n",
      " Validation: accuracy: 0.835938 loss: 6.89178\n",
      " cross_entropy: 0.569663, clust_cross_entropy: 0.710902, frob: 0.00015985\n",
      "step 2200/50000 \n",
      " Train: accuracy: 0.898438, loss: 1.06197 \n",
      " Validation: accuracy: 0.882812 loss: 6.94044\n",
      " cross_entropy: 0.546151, clust_cross_entropy: 0.573876, frob: 0.000157979\n",
      "step 2300/50000 \n",
      " Train: accuracy: 0.875, loss: 1.43825 \n",
      " Validation: accuracy: 0.867188 loss: 6.95257\n",
      " cross_entropy: 0.481442, clust_cross_entropy: 0.914445, frob: 0.000153164\n",
      "step 2400/50000 \n",
      " Train: accuracy: 0.867188, loss: 1.29286 \n",
      " Validation: accuracy: 0.882812 loss: 7.29256\n",
      " cross_entropy: 0.525613, clust_cross_entropy: 0.784108, frob: 0.000150831\n",
      "step 2500/50000 \n",
      " Train: accuracy: 0.9375, loss: 0.951001 \n",
      " Validation: accuracy: 0.835938 loss: 6.7613\n",
      " cross_entropy: 0.384525, clust_cross_entropy: 0.684224, frob: 0.000145662\n",
      "step 2600/50000 \n",
      " Train: accuracy: 0.867188, loss: 1.16962 \n",
      " Validation: accuracy: 0.898438 loss: 7.00883\n",
      " cross_entropy: 0.393891, clust_cross_entropy: 0.730081, frob: 0.00014646\n",
      "step 2700/50000 \n",
      " Train: accuracy: 0.898438, loss: 1.1859 \n",
      " Validation: accuracy: 0.875 loss: 7.40797\n",
      " cross_entropy: 0.389298, clust_cross_entropy: 0.627232, frob: 0.000145001\n",
      "step 2800/50000 \n",
      " Train: accuracy: 0.914062, loss: 0.899118 \n",
      " Validation: accuracy: 0.90625 loss: 6.66228\n",
      " cross_entropy: 0.409115, clust_cross_entropy: 0.375861, frob: 0.000138809\n",
      "step 2900/50000 \n",
      " Train: accuracy: 0.890625, loss: 0.990291 \n",
      " Validation: accuracy: 0.859375 loss: 7.39214\n",
      " cross_entropy: 0.456259, clust_cross_entropy: 0.667778, frob: 0.000133573\n",
      "step 3000/50000 \n",
      " Train: accuracy: 0.90625, loss: 1.25305 \n",
      " Validation: accuracy: 0.945312 loss: 6.67447\n",
      " cross_entropy: 0.330593, clust_cross_entropy: 0.746187, frob: 0.000130384\n",
      "step 3100/50000 \n",
      " Train: accuracy: 0.90625, loss: 0.905544 \n",
      " Validation: accuracy: 0.90625 loss: 6.85811\n",
      " cross_entropy: 0.317085, clust_cross_entropy: 0.539838, frob: 0.00012671\n",
      "step 3200/50000 \n",
      " Train: accuracy: 0.914062, loss: 1.09286 \n",
      " Validation: accuracy: 0.929688 loss: 6.44864\n",
      " cross_entropy: 0.361605, clust_cross_entropy: 0.635572, frob: 0.000122424\n",
      "step 3300/50000 \n",
      " Train: accuracy: 0.929688, loss: 0.563502 \n",
      " Validation: accuracy: 0.921875 loss: 6.10639\n",
      " cross_entropy: 0.346604, clust_cross_entropy: 0.290297, frob: 0.000121111\n",
      "step 3400/50000 \n",
      " Train: accuracy: 0.960938, loss: 0.80194 \n",
      " Validation: accuracy: 0.914062 loss: 6.42446\n",
      " cross_entropy: 0.30452, clust_cross_entropy: 0.469574, frob: 0.000119305\n",
      "step 3500/50000 \n",
      " Train: accuracy: 0.90625, loss: 0.982272 \n",
      " Validation: accuracy: 0.914062 loss: 6.19133\n",
      " cross_entropy: 0.308894, clust_cross_entropy: 0.550004, frob: 0.000115223\n",
      "step 3600/50000 \n",
      " Train: accuracy: 0.921875, loss: 1.31785 \n",
      " Validation: accuracy: 0.921875 loss: 6.19917\n",
      " cross_entropy: 0.298071, clust_cross_entropy: 1.04803, frob: 0.000115653\n",
      "step 3700/50000 \n",
      " Train: accuracy: 0.945312, loss: 1.08842 \n",
      " Validation: accuracy: 0.9375 loss: 6.27663\n",
      " cross_entropy: 0.309771, clust_cross_entropy: 0.842345, frob: 0.000116145\n",
      "step 3800/50000 \n",
      " Train: accuracy: 0.953125, loss: 0.962117 \n",
      " Validation: accuracy: 0.929688 loss: 6.20164\n",
      " cross_entropy: 0.237582, clust_cross_entropy: 0.660063, frob: 0.000114885\n",
      "step 3900/50000 \n",
      " Train: accuracy: 0.953125, loss: 0.827313 \n",
      " Validation: accuracy: 0.90625 loss: 5.96035\n",
      " cross_entropy: 0.299565, clust_cross_entropy: 0.530731, frob: 0.00011139\n",
      "step 4000/50000 \n",
      " Train: accuracy: 0.914062, loss: 0.831728 \n",
      " Validation: accuracy: 0.960938 loss: 5.77358\n",
      " cross_entropy: 0.333155, clust_cross_entropy: 0.469886, frob: 0.000113098\n",
      "step 4100/50000 \n",
      " Train: accuracy: 0.929688, loss: 0.680501 \n",
      " Validation: accuracy: 0.929688 loss: 6.21833\n",
      " cross_entropy: 0.296745, clust_cross_entropy: 0.425707, frob: 0.000111742\n",
      "step 4200/50000 \n",
      " Train: accuracy: 0.921875, loss: 0.912527 \n",
      " Validation: accuracy: 0.914062 loss: 6.39736\n",
      " cross_entropy: 0.224024, clust_cross_entropy: 0.561931, frob: 0.000107847\n",
      "step 4300/50000 \n",
      " Train: accuracy: 0.945312, loss: 0.762912 \n",
      " Validation: accuracy: 0.914062 loss: 6.00277\n",
      " cross_entropy: 0.218383, clust_cross_entropy: 0.517244, frob: 0.000113583\n",
      "step 4400/50000 \n",
      " Train: accuracy: 0.953125, loss: 0.565215 \n",
      " Validation: accuracy: 0.953125 loss: 5.85636\n",
      " cross_entropy: 0.214457, clust_cross_entropy: 0.322138, frob: 0.000106434\n"
     ]
    },
    {
     "ename": "KeyboardInterrupt",
     "evalue": "",
     "output_type": "error",
     "traceback": [
      "\u001b[0;31m---------------------------------------------------------------------------\u001b[0m",
      "\u001b[0;31mKeyboardInterrupt\u001b[0m                         Traceback (most recent call last)",
      "\u001b[0;32m<ipython-input-20-5e02ac8f7fe1>\u001b[0m in \u001b[0;36m<module>\u001b[0;34m()\u001b[0m\n\u001b[1;32m      6\u001b[0m     \u001b[0;31m#   convy2 = emptyy2\u001b[0m\u001b[0;34m\u001b[0m\u001b[0;34m\u001b[0m\u001b[0m\n\u001b[1;32m      7\u001b[0m \u001b[0;34m\u001b[0m\u001b[0m\n\u001b[0;32m----> 8\u001b[0;31m     \u001b[0mtrainbatch\u001b[0m \u001b[0;34m=\u001b[0m \u001b[0mnext_batch\u001b[0m\u001b[0;34m(\u001b[0m\u001b[0mbatchSize\u001b[0m\u001b[0;34m,\u001b[0m\u001b[0mTrue\u001b[0m\u001b[0;34m,\u001b[0m\u001b[0mtrain_images\u001b[0m\u001b[0;34m,\u001b[0m \u001b[0mtrain_labels_clipped\u001b[0m\u001b[0;34m,\u001b[0m\u001b[0m_epochs_completed_train\u001b[0m\u001b[0;34m,\u001b[0m\u001b[0m_index_in_epoch_train\u001b[0m\u001b[0;34m)\u001b[0m\u001b[0;34m\u001b[0m\u001b[0m\n\u001b[0m\u001b[1;32m      9\u001b[0m     \u001b[0mvalbatch\u001b[0m \u001b[0;34m=\u001b[0m \u001b[0mnext_batch\u001b[0m\u001b[0;34m(\u001b[0m\u001b[0mbatchSize\u001b[0m\u001b[0;34m,\u001b[0m\u001b[0mTrue\u001b[0m\u001b[0;34m,\u001b[0m\u001b[0mvalidation_images\u001b[0m\u001b[0;34m,\u001b[0m \u001b[0mvalidation_labels\u001b[0m\u001b[0;34m,\u001b[0m\u001b[0m_epochs_completed_val\u001b[0m\u001b[0;34m,\u001b[0m\u001b[0m_index_in_epoch_val\u001b[0m\u001b[0;34m)\u001b[0m\u001b[0;34m\u001b[0m\u001b[0m\n\u001b[1;32m     10\u001b[0m \u001b[0;34m\u001b[0m\u001b[0m\n",
      "\u001b[0;32m<ipython-input-10-eba909be2815>\u001b[0m in \u001b[0;36mnext_batch\u001b[0;34m(batch_size, shuffle, images, labels, ep_compl, ep_ind)\u001b[0m\n\u001b[1;32m     15\u001b[0m       \u001b[0mperm0\u001b[0m \u001b[0;34m=\u001b[0m \u001b[0mnp\u001b[0m\u001b[0;34m.\u001b[0m\u001b[0marange\u001b[0m\u001b[0;34m(\u001b[0m\u001b[0m_num_examples\u001b[0m\u001b[0;34m)\u001b[0m\u001b[0;34m\u001b[0m\u001b[0m\n\u001b[1;32m     16\u001b[0m       \u001b[0mnp\u001b[0m\u001b[0;34m.\u001b[0m\u001b[0mrandom\u001b[0m\u001b[0;34m.\u001b[0m\u001b[0mshuffle\u001b[0m\u001b[0;34m(\u001b[0m\u001b[0mperm0\u001b[0m\u001b[0;34m)\u001b[0m\u001b[0;34m\u001b[0m\u001b[0m\n\u001b[0;32m---> 17\u001b[0;31m       \u001b[0m_images\u001b[0m \u001b[0;34m=\u001b[0m \u001b[0mimages\u001b[0m\u001b[0;34m[\u001b[0m\u001b[0mperm0\u001b[0m\u001b[0;34m]\u001b[0m\u001b[0;34m\u001b[0m\u001b[0m\n\u001b[0m\u001b[1;32m     18\u001b[0m       \u001b[0m_labels\u001b[0m \u001b[0;34m=\u001b[0m \u001b[0mlabels\u001b[0m\u001b[0;34m[\u001b[0m\u001b[0mperm0\u001b[0m\u001b[0;34m]\u001b[0m\u001b[0;34m\u001b[0m\u001b[0m\n\u001b[1;32m     19\u001b[0m     \u001b[0;31m# Go to the next epoch\u001b[0m\u001b[0;34m\u001b[0m\u001b[0;34m\u001b[0m\u001b[0m\n",
      "\u001b[0;31mKeyboardInterrupt\u001b[0m: "
     ]
    }
   ],
   "source": [
    "convy2 = y2\n",
    "#totalSteps = int(totalSteps*perc)\n",
    "print totalSteps\n",
    "for i in range(totalSteps):\n",
    "    #if i > totalSteps*perc:\n",
    "    #   convy2 = emptyy2\n",
    "        \n",
    "    trainbatch = next_batch(batchSize,True,train_images, train_labels_clipped,_epochs_completed_train,_index_in_epoch_train)\n",
    "    valbatch = next_batch(batchSize,True,validation_images, validation_labels,_epochs_completed_val,_index_in_epoch_val)\n",
    "\n",
    "    if i%100 == 0:\n",
    "        train_loss,train_acc = sess.run([loss, accuracy],feed_dict={x: trainbatch[0], y_: trainbatch[1], y2_: trainbatch[2]})\n",
    "        val_loss, val_acc = sess.run([loss, accuracy],feed_dict={x: valbatch[0], y_: valbatch[1], y2_: valbatch[2]})\n",
    "        hist['train_acc'].append(train_acc)\n",
    "        hist['val_acc'].append(val_acc)\n",
    "        hist['train_loss'].append(train_loss)\n",
    "        hist['val_loss'].append(val_loss)\n",
    "        print(\"step %d/%d \\n Train: accuracy: %g, loss: %g \\n Validation: accuracy: %g loss: %g\"%(i,totalSteps, train_acc, train_loss, val_acc, val_loss))\n",
    "        #hist['affinity'].append(affinity.eval(feed_dict={x:trainbatch[0], y_: trainbatch[1], y2_: trainbatch[2]}))\n",
    "        #hist['balance'].append(balance.eval(feed_dict={x:trainbatch[0], y_: trainbatch[1], y2_: trainbatch[2]}))\n",
    "        #hist['coactivity'].append(coact.eval(feed_dict={x:trainbatch[0], y_: trainbatch[1], y2_: trainbatch[2]}))\n",
    "        entr = cross_entropy.eval(feed_dict={x:trainbatch[0], y_: trainbatch[1], y2_: trainbatch[2]})\n",
    "        hist['clustEntr'].append(clust_cross_entropy.eval(feed_dict={x:trainbatch[0], y_: trainbatch[1], y2_: trainbatch[2]}))\n",
    "        frb = frob.eval(feed_dict={x:trainbatch[0], y_: trainbatch[1], y2_: trainbatch[2]})\n",
    "        \n",
    "        #print bV.eval(feed_dict={x:trainbatch[0], y_: trainbatch[1]})\n",
    "        \n",
    "        print(\" cross_entropy: %g, clust_cross_entropy: %g, frob: %g\"%(cc0*entr, cc5*hist['clustEntr'][-1],cc4*frb))\n",
    "    feed_dict = {x: trainbatch[0], y_: trainbatch[1], y2_: trainbatch[2]}\n",
    "    _ = sess.run([train_step],feed_dict=feed_dict)"
   ]
  },
  {
   "cell_type": "markdown",
   "metadata": {},
   "source": [
    "## Testing & visualising"
   ]
  },
  {
   "cell_type": "code",
   "execution_count": 21,
   "metadata": {
    "collapsed": false,
    "scrolled": true
   },
   "outputs": [
    {
     "name": "stdout",
     "output_type": "stream",
     "text": [
      "Test: accuracy: 0.914062, loss: 5.64197\n",
      "Test: accuracy: 0.9375, loss: 5.95663\n",
      "Test: accuracy: 0.953125, loss: 6.095\n",
      "Test: accuracy: 0.945312, loss: 5.67811\n",
      "Test: accuracy: 0.945312, loss: 5.8289\n",
      "Test: accuracy: 0.9375, loss: 5.83948\n",
      "Test: accuracy: 0.929688, loss: 6.27875\n",
      "Test: accuracy: 0.921875, loss: 5.78529\n",
      "Test: accuracy: 0.945312, loss: 5.95809\n",
      "Test: accuracy: 0.960938, loss: 5.65742\n",
      "Test: accuracy: 0.96875, loss: 5.83952\n",
      "Test: accuracy: 0.984375, loss: 5.92023\n",
      "Test: accuracy: 0.890625, loss: 5.91505\n",
      "Test: accuracy: 0.945312, loss: 5.78038\n",
      "Test: accuracy: 0.945312, loss: 6.23294\n",
      "Test: accuracy: 0.953125, loss: 5.87474\n",
      "Test: accuracy: 0.960938, loss: 5.94681\n",
      "Test: accuracy: 0.929688, loss: 5.92031\n",
      "Test: accuracy: 0.90625, loss: 6.3403\n",
      "Test: accuracy: 0.9375, loss: 5.74476\n",
      "Test: accuracy: 0.960938, loss: 6.0475\n",
      "Test: accuracy: 0.9375, loss: 5.68689\n",
      "Test: accuracy: 0.921875, loss: 5.55743\n",
      "Test: accuracy: 0.96875, loss: 5.94193\n",
      "Test: accuracy: 0.960938, loss: 5.70346\n",
      "Test: accuracy: 0.929688, loss: 5.42511\n",
      "Test: accuracy: 0.9375, loss: 6.09277\n",
      "Test: accuracy: 0.9375, loss: 5.94117\n",
      "Test: accuracy: 0.953125, loss: 5.58571\n",
      "Test: accuracy: 0.929688, loss: 5.93263\n",
      "Test: accuracy: 0.9375, loss: 5.68568\n",
      "Test: accuracy: 0.9375, loss: 6.13933\n",
      "Test: accuracy: 0.953125, loss: 5.54536\n",
      "Test: accuracy: 0.90625, loss: 5.7396\n",
      "Test: accuracy: 0.96875, loss: 5.97486\n",
      "Test: accuracy: 0.96875, loss: 5.87346\n",
      "Test: accuracy: 0.945312, loss: 6.25243\n",
      "Test: accuracy: 0.929688, loss: 5.63241\n",
      "Test: accuracy: 0.9375, loss: 5.90636\n",
      "Test: accuracy: 0.960938, loss: 6.13692\n",
      "Test: accuracy: 0.90625, loss: 5.92951\n",
      "Test: accuracy: 0.953125, loss: 5.96183\n",
      "Test: accuracy: 0.9375, loss: 5.83297\n",
      "Test: accuracy: 0.9375, loss: 6.14531\n",
      "Test: accuracy: 0.9375, loss: 6.20246\n",
      "Test: accuracy: 0.96875, loss: 5.59992\n",
      "Test: accuracy: 0.921875, loss: 5.84371\n",
      "Test: accuracy: 0.90625, loss: 5.67618\n",
      "Test: accuracy: 0.914062, loss: 5.83207\n",
      "Test: accuracy: 0.953125, loss: 5.81627\n",
      "Test: accuracy: 0.921875, loss: 5.69037\n",
      "Test: accuracy: 0.9375, loss: 5.49684\n",
      "Test: accuracy: 0.960938, loss: 5.67965\n",
      "Test: accuracy: 0.90625, loss: 5.56391\n",
      "Test: accuracy: 0.921875, loss: 5.74165\n",
      "Test: accuracy: 0.96875, loss: 6.1375\n",
      "Test: accuracy: 0.921875, loss: 5.98875\n",
      "Test: accuracy: 0.953125, loss: 5.743\n",
      "Test: accuracy: 0.960938, loss: 6.09907\n",
      "Test: accuracy: 0.945312, loss: 5.72298\n",
      "Test: accuracy: 0.929688, loss: 5.81935\n",
      "Test: accuracy: 0.960938, loss: 5.78193\n",
      "Test: accuracy: 0.921875, loss: 5.98602\n",
      "Test: accuracy: 0.976562, loss: 6.16708\n",
      "Test: accuracy: 0.945312, loss: 6.01566\n",
      "Test: accuracy: 0.953125, loss: 5.97632\n",
      "Test: accuracy: 0.90625, loss: 5.95001\n",
      "Test: accuracy: 0.976562, loss: 6.08203\n",
      "Test: accuracy: 0.929688, loss: 5.93775\n",
      "Test: accuracy: 0.96875, loss: 5.95611\n",
      "Test: accuracy: 0.953125, loss: 5.73478\n",
      "Test: accuracy: 0.976562, loss: 5.82863\n",
      "Test: accuracy: 0.960938, loss: 5.97588\n",
      "Test: accuracy: 0.929688, loss: 5.99811\n",
      "Test: accuracy: 0.9375, loss: 6.03193\n",
      "Test: accuracy: 0.953125, loss: 5.73511\n",
      "Test: accuracy: 0.90625, loss: 5.90109\n",
      "Test: accuracy: 0.929688, loss: 5.82529\n",
      "Test: accuracy: 0.96875, loss: 5.82545\n",
      "Test: accuracy: 0.953125, loss: 6.01587\n",
      "Test: accuracy: 0.945312, loss: 5.77795\n",
      "Test: accuracy: 0.9375, loss: 5.61522\n",
      "Test: accuracy: 0.960938, loss: 5.8503\n",
      "Test: accuracy: 0.96875, loss: 5.58584\n",
      "Test: accuracy: 0.914062, loss: 5.95698\n",
      "Test: accuracy: 0.929688, loss: 5.85925\n",
      "Test: accuracy: 0.9375, loss: 6.06167\n",
      "Test: accuracy: 0.929688, loss: 5.90046\n",
      "Test: accuracy: 0.953125, loss: 6.05295\n",
      "Test: accuracy: 0.953125, loss: 5.64016\n",
      "Test: accuracy: 0.898438, loss: 6.29231\n",
      "Test: accuracy: 0.960938, loss: 5.67238\n",
      "Test: accuracy: 0.898438, loss: 5.86844\n",
      "Test: accuracy: 0.976562, loss: 5.27541\n",
      "Test: accuracy: 0.945312, loss: 5.75575\n",
      "Test: accuracy: 0.890625, loss: 6.20358\n",
      "Test: accuracy: 0.9375, loss: 5.87623\n",
      "Test: accuracy: 0.945312, loss: 5.88755\n",
      "Test: accuracy: 0.953125, loss: 6.10142\n",
      "Test: accuracy: 0.960938, loss: 5.53753\n",
      "0.941641\n"
     ]
    }
   ],
   "source": [
    "tAcc = []\n",
    "testSize = 1000\n",
    "for i in range(100):\n",
    "    testbatch = next_batch(batchSize,True,test_images, test_labels,_epochs_completed_test,_index_in_epoch_test)\n",
    "\n",
    "    test_loss,test_acc = sess.run([loss,accuracy],{x: testbatch[0], y_: testbatch[1], y2_: testbatch[2]})\n",
    "    tAcc.append(test_acc)\n",
    "    print('Test: accuracy: %g, loss: %g'%(test_acc,test_loss))\n",
    "print np.average(tAcc)\n",
    "testAcc = np.average(tAcc)"
   ]
  },
  {
   "cell_type": "code",
   "execution_count": 22,
   "metadata": {
    "collapsed": false,
    "scrolled": false
   },
   "outputs": [
    {
     "data": {
      "text/plain": [
       "<matplotlib.legend.Legend at 0x7f8b24f88dd0>"
      ]
     },
     "execution_count": 22,
     "metadata": {},
     "output_type": "execute_result"
    },
    {
     "data": {
      "image/png": "[encoded data removed]",
      "text/plain": [
       "<matplotlib.figure.Figure at 0x7f8b297f0850>"
      ]
     },
     "metadata": {},
     "output_type": "display_data"
    }
   ],
   "source": [
    "#Plot accuracy and loss\n",
    "plt.figure(figsize=(15,15))\n",
    "plt.subplot(211)\n",
    "plt.plot(hist['train_acc'],'-b',label='train_acc')\n",
    "plt.plot(hist['val_acc'],'-r',label='val_acc')\n",
    "plt.legend()\n",
    "plt.subplot(212)\n",
    "plt.plot(hist['train_loss'],'-b',label='train_loss')\n",
    "plt.plot(hist['val_loss'],'-r',label='val_loss')\n",
    "plt.legend()"
   ]
  },
  {
   "cell_type": "code",
   "execution_count": 23,
   "metadata": {
    "collapsed": false
   },
   "outputs": [
    {
     "data": {
      "text/plain": [
       "<matplotlib.legend.Legend at 0x7f8b20658f50>"
      ]
     },
     "execution_count": 23,
     "metadata": {},
     "output_type": "execute_result"
    },
    {
     "data": {
      "image/png": "[encoded data removed]",
      "text/plain": [
       "<matplotlib.figure.Figure at 0x7f8b297f0d10>"
      ]
     },
     "metadata": {},
     "output_type": "display_data"
    }
   ],
   "source": [
    "plt.figure(figsize=(15,7))\n",
    "#plt.plot(hist['train_loss'],'-b',label='train_loss')\n",
    "plt.plot(hist['affinity'],'-r',label='affinity')\n",
    "plt.plot(np.subtract(1,hist['balance']),'-y',label='balance')\n",
    "plt.plot(hist['coactivity'],'-g',label='coactivity')\n",
    "plt.plot(hist['clustEntr'], label='clustEntr')\n",
    "plt.legend()"
   ]
  },
  {
   "cell_type": "code",
   "execution_count": 24,
   "metadata": {
    "collapsed": true,
    "scrolled": false
   },
   "outputs": [],
   "source": [
    "digitTrace = np.zeros((classCount*clustCount,784))\n",
    "digitTraceCount = np.zeros((classCount*clustCount))\n",
    "digitCount = np.zeros(clustCount*classCount)"
   ]
  },
  {
   "cell_type": "code",
   "execution_count": 32,
   "metadata": {
    "collapsed": false,
    "scrolled": true
   },
   "outputs": [],
   "source": [
    "#sess.run(tf.global_variables_initializer())\n",
    "for i in range(1000):\n",
    "    testbatch = next_batch(1,True,test_images, test_labels,_epochs_completed_test,_index_in_epoch_test)\n",
    "    lbl = testbatch[2].ravel()\n",
    "    digitCount[np.argmax(lbl)]+=1\n",
    "    smMat, acc = sess.run([softmaxMat,accuracy],feed_dict={x: testbatch[0], y_: testbatch[1], y2_:testbatch[2]})\n",
    "    ypred = softmaxMat.eval({x: testbatch[0], y_: testbatch[1], y2_:testbatch[2]})\n",
    "    ypred.reshape(clustCount*classCount)\n",
    "    digitTrace[np.argmax(ypred),:] += testbatch[0].ravel()\n",
    "    digitTraceCount[np.argmax(ypred)] += 1"
   ]
  },
  {
   "cell_type": "code",
   "execution_count": 33,
   "metadata": {
    "collapsed": false
   },
   "outputs": [
    {
     "name": "stdout",
     "output_type": "stream",
     "text": [
      "[ 109.  107.   94.   98.  104.  101.  101.   98.   98.   94.   90.  106.\n",
      "  116.  100.   84.  102.   92.  102.  107.   97.]\n",
      "[  0.00000000e+00   1.00000000e+00   0.00000000e+00   0.00000000e+00\n",
      "   0.00000000e+00   0.00000000e+00   1.00000000e+00   9.88000000e+02\n",
      "   0.00000000e+00   0.00000000e+00   0.00000000e+00   0.00000000e+00\n",
      "   0.00000000e+00   1.01000000e+03   0.00000000e+00   0.00000000e+00\n",
      "   0.00000000e+00   0.00000000e+00   0.00000000e+00   0.00000000e+00]\n"
     ]
    }
   ],
   "source": [
    "print(digitCount)\n",
    "print(digitTraceCount)"
   ]
  },
  {
   "cell_type": "code",
   "execution_count": 34,
   "metadata": {
    "collapsed": false
   },
   "outputs": [
    {
     "data": {
      "image/png": "[encoded data removed]",
      "text/plain": [
       "<matplotlib.figure.Figure at 0x7f8b206722d0>"
      ]
     },
     "metadata": {},
     "output_type": "display_data"
    }
   ],
   "source": [
    "digitTrace = digitTrace/np.max(digitTrace)\n",
    "f,ax=plt.subplots(nrows=classCount, ncols=clustCount, figsize=(1.5*clustCount,1.5*classCount))\n",
    "gs = gridspec.GridSpec(classCount,clustCount)\n",
    "gs.update(wspace=0.025, hspace=0.025)\n",
    "f.subplots_adjust(wspace=0,hspace=0)\n",
    "for i in range(digitTrace.shape[0]):\n",
    "    sp = plt.subplot(gs[i])\n",
    "    sp.set_xticklabels([])\n",
    "    sp.set_yticklabels([])\n",
    "    sp.set_aspect('equal')\n",
    "    sp.grid = False\n",
    "    plt.imshow(np.reshape(digitTrace[i,:],(28,28)),cmap='bone')"
   ]
  },
  {
   "cell_type": "code",
   "execution_count": 35,
   "metadata": {
    "collapsed": false,
    "scrolled": false
   },
   "outputs": [],
   "source": [
    "stepCount = len(hist['train_acc'])*100\n",
    "with open('./trainlog.txt','ab') as f:\n",
    "    f.write('lr: %g, batchsize: %i, steps: %i, thresh: %g, c1: %g, c2: %g, c3: %g, c4: %g, test_acc: %g, test_loss: %g\\n'%\n",
    "            (lr,batchSize,stepCount,tresh.eval(), cc1, cc2, cc3, cc4, test_acc, test_loss))"
   ]
  },
  {
   "cell_type": "markdown",
   "metadata": {},
   "source": [
    "## Clustering score"
   ]
  },
  {
   "cell_type": "code",
   "execution_count": 29,
   "metadata": {
    "collapsed": false,
    "scrolled": true
   },
   "outputs": [
    {
     "name": "stdout",
     "output_type": "stream",
     "text": [
      "(10000,)\n",
      "Clustering Accuracy: 0.1098\n",
      "[15, 3, 1, 0, 16, 6, 7, 1, 3, 3, 0, 14, 0, 17, 14, 16, 10, 0, 0, 2]\n",
      "(10000, 2, 10)\n"
     ]
    }
   ],
   "source": [
    "testbatch = next_batch(10000,True,test_images, test_labels,_epochs_completed_test,_index_in_epoch_test)\n",
    "lbls = testbatch[2].reshape(10000,clustCount*classCount)\n",
    "testFeed = {x: testbatch[0], y_: testbatch[1],y2_:testbatch[2]}\n",
    "ypred = softmaxMat.eval(testFeed)\n",
    "ypred = ypred.reshape((testbatch[0].shape[0],clustCount*classCount))\n",
    "print(np.argmax(ypred,1).shape)\n",
    "ypred = tf.argmax(ypred,1).eval()\n",
    "ylookup = [np.argmax(np.sum(testbatch[2][ypred==i],0)).astype('int32') for i in range(clustCount*classCount)]\n",
    "yconverted = [ylookup[i] for i in ypred]\n",
    "correct_prediction = tf.equal(yconverted, np.argmax(lbls,1).astype('int32'))\n",
    "clustAcc = tf.reduce_mean(tf.cast(correct_prediction, tf.float32)).eval()\n",
    "print('Clustering Accuracy: %g'%(clustAcc))\n",
    "print(ylookup)\n",
    "print(testbatch[2].shape)"
   ]
  },
  {
   "cell_type": "code",
   "execution_count": 30,
   "metadata": {
    "collapsed": false
   },
   "outputs": [
    {
     "data": {
      "text/plain": [
       "(10000, 2, 10)"
      ]
     },
     "execution_count": 30,
     "metadata": {},
     "output_type": "execute_result"
    }
   ],
   "source": [
    "testbatch[2].shape"
   ]
  },
  {
   "cell_type": "code",
   "execution_count": 31,
   "metadata": {
    "collapsed": false
   },
   "outputs": [],
   "source": [
    "notify(\"Superclass: %g \\nSubclass: %g\"%(testAcc,clustAcc))"
   ]
  },
  {
   "cell_type": "code",
   "execution_count": 224,
   "metadata": {
    "collapsed": false,
    "scrolled": false
   },
   "outputs": [],
   "source": [
    "t=next_batch(batchSize,True,train_images, train_labels_clipped,_epochs_completed_train,_index_in_epoch_train)\n",
    "ind = np.sum(t[2].reshape([-1,10]),1) >0\n",
    "t=zip(np.sum(t[2].reshape([-1,10]),1),t[1])"
   ]
  },
  {
   "cell_type": "markdown",
   "metadata": {},
   "source": [
    "## Compare it to k-means"
   ]
  },
  {
   "cell_type": "markdown",
   "metadata": {
    "collapsed": false
   },
   "source": [
    "tb0 = [tb[0][np.argmax(tb[1],1)<5],tb[1][np.argmax(tb[1],1)<5]]\n",
    "tb1 = [tb[0][np.argmax(tb[1],1)>4],tb[1][np.argmax(tb[1],1)>4]]\n",
    "#<5\n",
    "kmeans = KMeans(n_clusters=5)\n",
    "km0_ypred = kmeans.fit_transform(tb0[0])\n",
    "km0_ypred = np.argmax(km0_ypred,1)\n",
    "km_ylookup = [np.argmax(np.sum(tb0[1][km0_ypred==i],0)).astype('int32') for i in range(clustCount)]\n",
    "km_yconverted = [km_ylookup[i] for i in km0_ypred]\n",
    "km_correct_prediction = tf.equal(km_yconverted, np.argmax(tb0[1],1).astype('int32'))\n",
    "km0_accuracy = tf.reduce_mean(tf.cast(km_correct_prediction, tf.float32)).eval()\n",
    "#>4\n",
    "kmeans = KMeans(n_clusters=5)\n",
    "km1_ypred = kmeans.fit_transform(tb1[0])\n",
    "km1_ypred = np.argmax(km1_ypred,1)\n",
    "km_ylookup = [np.argmax(np.sum(tb1[1][km1_ypred==i],0)).astype('int32') for i in range(clustCount)]\n",
    "km_yconverted = [km_ylookup[i] for i in km1_ypred]\n",
    "km_correct_prediction = tf.equal(km_yconverted, np.argmax(tb1[1],1).astype('int32'))\n",
    "km1_accuracy = tf.reduce_mean(tf.cast(km_correct_prediction, tf.float32)).eval()\n",
    "print('ACOL Accuracy: %g'%(accuracy))\n",
    "print('KMeans Accuracy: %g'%((km0_accuracy+km1_accuracy)/2))"
   ]
  },
  {
   "cell_type": "markdown",
   "metadata": {
    "collapsed": false
   },
   "source": [
    "#visualise kmeans\n",
    "digitTrace = np.concatenate([[np.sum(tb0[0][km0_ypred==i,:],axis=0) for i in range(clustCount)],\n",
    "                       [np.sum(tb1[0][km1_ypred==i,:],axis=0) for i in range(clustCount)]])\n",
    "digitTrace = digitTrace/np.max(digitTrace)\n",
    "f,ax=plt.subplots(nrows=classCount, ncols=clustCount, figsize=(1.5*clustCount,1.5*classCount))\n",
    "gs = gridspec.GridSpec(classCount,clustCount)\n",
    "gs.update(wspace=0.025, hspace=0.025)\n",
    "f.subplots_adjust(wspace=0,hspace=0)\n",
    "for i in range(digitTrace.shape[0]):\n",
    "    sp = plt.subplot(gs[i])\n",
    "    sp.set_xticklabels([])\n",
    "    sp.set_yticklabels([])\n",
    "    sp.set_aspect('equal')\n",
    "    sp.grid = False\n",
    "    plt.imshow(np.reshape(digitTrace[i,:],(28,28)),cmap='bone')"
   ]
  }
 ],
 "metadata": {
  "kernelspec": {
   "display_name": "Python 2",
   "language": "python",
   "name": "python2"
  },
  "language_info": {
   "codemirror_mode": {
    "name": "ipython",
    "version": 2
   },
   "file_extension": ".py",
   "mimetype": "text/x-python",
   "name": "python",
   "nbconvert_exporter": "python",
   "pygments_lexer": "ipython2",
   "version": "2.7.13"
  }
 },
 "nbformat": 4,
 "nbformat_minor": 2
}
