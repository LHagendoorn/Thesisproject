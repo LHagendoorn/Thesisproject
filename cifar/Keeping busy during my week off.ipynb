{
 "cells": [
  {
   "cell_type": "code",
   "execution_count": 9,
   "metadata": {
    "collapsed": false
   },
   "outputs": [],
   "source": [
    "import os\n",
    "from notifiers import notify\n",
    "from datetime import datetime\n",
    "with open('//code/logs/masterlog.txt','wb'):\n",
    "    pass"
   ]
  },
  {
   "cell_type": "markdown",
   "metadata": {},
   "source": [
    "# significance CIFAR10 1%"
   ]
  },
  {
   "cell_type": "markdown",
   "metadata": {},
   "source": [
    "### ACOL x 4\n",
    "\n",
    "De eerste anderhalve runs gebruikten de mixed superclass"
   ]
  },
  {
   "cell_type": "code",
   "execution_count": null,
   "metadata": {
    "collapsed": false
   },
   "outputs": [],
   "source": [
    "re = os.system(\"python //code/Thesisproject/cifar/cifar10/cifar10_train_ACOL_VGG16.py\")\n",
    "notice = '---------- \\n  ACOL \\n  Status:' + str(re) + ' \\n  Timestamp: ' + str(datetime.now()) + '\\n----------'\n",
    "print(notice)\n",
    "with open('//code/logs/masterlog.txt', \"ab\") as f:\n",
    "    f.write(notice)\n",
    "notify(notice)"
   ]
  },
  {
   "cell_type": "code",
   "execution_count": null,
   "metadata": {
    "collapsed": false
   },
   "outputs": [],
   "source": [
    "re = os.system(\"python //code/Thesisproject/cifar/cifar10/cifar10_train_ACOL_VGG16.py\")\n",
    "notice = '---------- \\n  ACOL \\n  Status:' + str(re) + ' \\n  Timestamp: ' + str(datetime.now()) + '\\n----------'\n",
    "print(notice)\n",
    "with open('//code/logs/masterlog.txt', \"ab\") as f:\n",
    "    f.write(notice)\n",
    "notify(notice)"
   ]
  },
  {
   "cell_type": "code",
   "execution_count": null,
   "metadata": {
    "collapsed": true
   },
   "outputs": [],
   "source": [
    "re = os.system(\"python //code/Thesisproject/cifar/cifar10/cifar10_train_ACOL_VGG16.py\")\n",
    "notice = '---------- \\n  ACOL \\n  Status:' + str(re) + ' \\n  Timestamp: ' + str(datetime.now()) + '\\n----------'\n",
    "print(notice)\n",
    "with open('//code/logs/masterlog.txt', \"ab\") as f:\n",
    "    f.write(notice)\n",
    "notify(notice)"
   ]
  },
  {
   "cell_type": "code",
   "execution_count": null,
   "metadata": {
    "collapsed": true
   },
   "outputs": [],
   "source": [
    "re = os.system(\"python //code/Thesisproject/cifar/cifar10/cifar10_train_ACOL_VGG16.py\")\n",
    "notice = '---------- \\n  ACOL \\n  Status:' + str(re) + ' \\n  Timestamp: ' + str(datetime.now()) + '\\n----------'\n",
    "print(notice)\n",
    "with open('//code/logs/masterlog.txt', \"ab\") as f:\n",
    "    f.write(notice)\n",
    "notify(notice)"
   ]
  },
  {
   "cell_type": "markdown",
   "metadata": {},
   "source": [
    "### ACOL-PL 1% x 4"
   ]
  },
  {
   "cell_type": "code",
   "execution_count": null,
   "metadata": {
    "collapsed": false
   },
   "outputs": [],
   "source": [
    "re = os.system(\"python //code/Thesisproject/cifar/cifar10/cifar10_train_ACOLPL_VGG16.py '_1perc.bin' 50000 False False\")\n",
    "notice = '---------- \\n  ACOL-PL 1perc \\n  Status: ' + str(re) + ' \\n  Timestamp: ' + str(datetime.now()) + '\\n----------'\n",
    "print(notice)\n",
    "with open('//code/logs/masterlog.txt', \"ab\") as f:\n",
    "    f.write(notice)\n",
    "notify(notice)"
   ]
  },
  {
   "cell_type": "code",
   "execution_count": null,
   "metadata": {
    "collapsed": false
   },
   "outputs": [],
   "source": [
    "re = os.system(\"python //code/Thesisproject/cifar/cifar10/cifar10_train_ACOLPL_VGG16.py '_1perc.bin' 50000 False False\")\n",
    "notice = '---------- \\n  ACOL-PL 1perc \\n  Status:' + str(re) + ' \\n  Timestamp: ' + str(datetime.now()) + '\\n----------'\n",
    "print(notice)\n",
    "with open('//code/logs/masterlog.txt', \"ab\") as f:\n",
    "    f.write(notice)\n",
    "notify(notice)"
   ]
  },
  {
   "cell_type": "code",
   "execution_count": null,
   "metadata": {
    "collapsed": true
   },
   "outputs": [],
   "source": [
    "re = os.system(\"python //code/Thesisproject/cifar/cifar10/cifar10_train_ACOLPL_VGG16.py '_1perc.bin' 50000 False False\")\n",
    "notice = '---------- \\n  ACOL-PL 1perc \\n  Status:' + str(re) + ' \\n  Timestamp: ' + str(datetime.now()) + '\\n----------'\n",
    "print(notice)\n",
    "with open('//code/logs/masterlog.txt', \"ab\") as f:\n",
    "    f.write(notice)\n",
    "notify(notice)"
   ]
  },
  {
   "cell_type": "code",
   "execution_count": null,
   "metadata": {
    "collapsed": true
   },
   "outputs": [],
   "source": [
    "re = os.system(\"python //code/Thesisproject/cifar/cifar10/cifar10_train_ACOLPL_VGG16.py '_1perc.bin' 50000 False False\")\n",
    "notice = '---------- \\n  ACOL-PL 1perc \\n  Status:' + str(re) + ' \\n  Timestamp: ' + str(datetime.now()) + '\\n----------'\n",
    "print(notice)\n",
    "with open('//code/logs/masterlog.txt', \"ab\") as f:\n",
    "    f.write(notice)\n",
    "notify(notice)"
   ]
  },
  {
   "cell_type": "markdown",
   "metadata": {},
   "source": [
    "### Direct to subclass 1% x4"
   ]
  },
  {
   "cell_type": "code",
   "execution_count": null,
   "metadata": {
    "collapsed": false
   },
   "outputs": [],
   "source": [
    "re = os.system(\"python //code/Thesisproject/cifar/cifar10/cifar10_train_VGG16_PL.py 'cifar-10-batches-bin/data_batch_1perc_skip.bin' False\")\n",
    "notice = '---------- \\n  Direct to Subclass 1perc \\n  Status:' + str(re) + ' \\n  Timestamp: ' + str(datetime.now()) + '\\n----------'\n",
    "print(notice)\n",
    "with open('//code/logs/masterlog.txt', \"ab\") as f:\n",
    "    f.write(notice)\n",
    "notify(notice)"
   ]
  },
  {
   "cell_type": "code",
   "execution_count": null,
   "metadata": {
    "collapsed": false
   },
   "outputs": [],
   "source": [
    "re = os.system(\"python //code/Thesisproject/cifar/cifar10/cifar10_train_VGG16_PL.py 'cifar-10-batches-bin/data_batch_1perc_skip.bin'\")\n",
    "notice = '---------- \\n  Direct to Subclass 1perc \\n  Status:' + str(re) + ' \\n  Timestamp: ' + str(datetime.now()) + '\\n----------'\n",
    "print(notice)\n",
    "with open('//code/logs/masterlog.txt', \"ab\") as f:\n",
    "    f.write(notice)\n",
    "notify(notice)"
   ]
  },
  {
   "cell_type": "code",
   "execution_count": null,
   "metadata": {
    "collapsed": true
   },
   "outputs": [],
   "source": [
    "re = os.system(\"python //code/Thesisproject/cifar/cifar10/cifar10_train_VGG16_PL.py 'cifar-10-batches-bin/data_batch_1perc_skip.bin'\")\n",
    "notice = '---------- \\n  Direct to Subclass 1perc \\n  Status:' + str(re) + ' \\n  Timestamp: ' + str(datetime.now()) + '\\n----------'\n",
    "print(notice)\n",
    "with open('//code/logs/masterlog.txt', \"ab\") as f:\n",
    "    f.write(notice)\n",
    "notify(notice)"
   ]
  },
  {
   "cell_type": "code",
   "execution_count": null,
   "metadata": {
    "collapsed": true
   },
   "outputs": [],
   "source": [
    "re = os.system(\"python //code/Thesisproject/cifar/cifar10/cifar10_train_VGG16_PL.py 'cifar-10-batches-bin/data_batch_1perc_skip.bin'\")\n",
    "notice = '---------- \\n  Direct to Subclass 1perc \\n  Status:' + str(re) + ' \\n  Timestamp: ' + str(datetime.now()) + '\\n----------'\n",
    "print(notice)\n",
    "with open('//code/logs/masterlog.txt', \"ab\") as f:\n",
    "    f.write(notice)\n",
    "notify(notice)"
   ]
  },
  {
   "cell_type": "markdown",
   "metadata": {},
   "source": [
    "### Ordered ACOL-PL"
   ]
  },
  {
   "cell_type": "code",
   "execution_count": null,
   "metadata": {
    "collapsed": false
   },
   "outputs": [],
   "source": [
    "re = os.system(\"python //code/Thesisproject/cifar/cifar10/cifar10_train_ACOLPL_VGG16.py '_1perc.bin' 30000 False True --skipfile 'data_batch_1perc_skip.bin'\")\n",
    "notice = '---------- \\n  Ordered ACOL-PL 1perc Stage 1 \\n  Status:' + str(re) + ' \\n  Timestamp: ' + str(datetime.now()) + '\\n----------'\n",
    "print(notice)\n",
    "with open('//code/logs/masterlog.txt', \"ab\") as f:\n",
    "    f.write(notice)\n",
    "notify(notice)"
   ]
  },
  {
   "cell_type": "code",
   "execution_count": null,
   "metadata": {
    "collapsed": false
   },
   "outputs": [],
   "source": [
    "re = os.system(\"python //code/Thesisproject/cifar/cifar10/cifar10_train_ACOLPL_VGG16.py '_1perc.bin' 50000 True False\")\n",
    "notice = '---------- \\n  Ordered ACOL-PL 1perc Stage 2 \\n  Status:' + str(re) + ' \\n  Timestamp: ' + str(datetime.now()) + '\\n----------'\n",
    "print(notice)\n",
    "with open('//code/logs/masterlog.txt', \"ab\") as f:\n",
    "    f.write(notice)\n",
    "notify(notice)"
   ]
  },
  {
   "cell_type": "code",
   "execution_count": null,
   "metadata": {
    "collapsed": true
   },
   "outputs": [],
   "source": [
    "re = os.system(\"python //code/Thesisproject/cifar/cifar10/cifar10_train_ACOLPL_VGG16.py '_1perc.bin' 30000 False True --skipfile 'data_batch_1perc_skip.bin'\")\n",
    "notice = '---------- \\n  Ordered ACOL-PL 1perc Stage 1 \\n  Status:' + str(re) + ' \\n  Timestamp: ' + str(datetime.now()) + '\\n----------'\n",
    "print(notice)\n",
    "with open('//code/logs/masterlog.txt', \"ab\") as f:\n",
    "    f.write(notice)\n",
    "notify(notice)"
   ]
  },
  {
   "cell_type": "code",
   "execution_count": null,
   "metadata": {
    "collapsed": true
   },
   "outputs": [],
   "source": [
    "re = os.system(\"python //code/Thesisproject/cifar/cifar10/cifar10_train_ACOLPL_VGG16.py '_1perc.bin' 50000 True False\")\n",
    "notice = '---------- \\n  Ordered ACOL-PL 1perc Stage 2 \\n  Status:' + str(re) + ' \\n  Timestamp: ' + str(datetime.now()) + '\\n----------'\n",
    "print(notice)\n",
    "with open('//code/logs/masterlog.txt', \"ab\") as f:\n",
    "    f.write(notice)\n",
    "notify(notice)"
   ]
  },
  {
   "cell_type": "code",
   "execution_count": null,
   "metadata": {
    "collapsed": true
   },
   "outputs": [],
   "source": [
    "re = os.system(\"python //code/Thesisproject/cifar/cifar10/cifar10_train_ACOLPL_VGG16.py '_1perc.bin' 30000 False True --skipfile 'data_batch_1perc_skip.bin'\")\n",
    "notice = '---------- \\n  Ordered ACOL-PL 1perc Stage 1 \\n  Status:' + str(re) + ' \\n  Timestamp: ' + str(datetime.now()) + '\\n----------'\n",
    "print(notice)\n",
    "with open('//code/logs/masterlog.txt', \"ab\") as f:\n",
    "    f.write(notice)\n",
    "notify(notice)"
   ]
  },
  {
   "cell_type": "code",
   "execution_count": null,
   "metadata": {
    "collapsed": true
   },
   "outputs": [],
   "source": [
    "re = os.system(\"python //code/Thesisproject/cifar/cifar10/cifar10_train_ACOLPL_VGG16.py '_1perc.bin' 50000 True False\")\n",
    "notice = '---------- \\n  Ordered ACOL-PL 1perc Stage 2 \\n  Status:' + str(re) + ' \\n  Timestamp: ' + str(datetime.now()) + '\\n----------'\n",
    "print(notice)\n",
    "with open('//code/logs/masterlog.txt', \"ab\") as f:\n",
    "    f.write(notice)\n",
    "notify(notice)"
   ]
  },
  {
   "cell_type": "code",
   "execution_count": null,
   "metadata": {
    "collapsed": true
   },
   "outputs": [],
   "source": [
    "re = os.system(\"python //code/Thesisproject/cifar/cifar10/cifar10_train_ACOLPL_VGG16.py '_1perc.bin' 30000 False True --skipfile 'data_batch_1perc_skip.bin'\")\n",
    "notice = '---------- \\n  Ordered ACOL-PL 1perc Stage 1 \\n  Status:' + str(re) + ' \\n  Timestamp: ' + str(datetime.now()) + '\\n----------'\n",
    "print(notice)\n",
    "with open('//code/logs/masterlog.txt', \"ab\") as f:\n",
    "    f.write(notice)\n",
    "notify(notice)"
   ]
  },
  {
   "cell_type": "code",
   "execution_count": null,
   "metadata": {
    "collapsed": true
   },
   "outputs": [],
   "source": [
    "re = os.system(\"python //code/Thesisproject/cifar/cifar10/cifar10_train_ACOLPL_VGG16.py '_1perc.bin' 30000 True False\")\n",
    "notice = '---------- \\n  Ordered ACOL-PL 1perc Stage 2 \\n  Status:' + str(re) + ' \\n  Timestamp: ' + str(datetime.now()) + '\\n----------'\n",
    "print(notice)\n",
    "with open('//code/logs/masterlog.txt', \"ab\") as f:\n",
    "    f.write(notice)\n",
    "notify(notice)"
   ]
  },
  {
   "cell_type": "markdown",
   "metadata": {},
   "source": [
    "# 3% runs CIFAR"
   ]
  },
  {
   "cell_type": "markdown",
   "metadata": {},
   "source": [
    "### ACOL-PL 3%"
   ]
  },
  {
   "cell_type": "code",
   "execution_count": null,
   "metadata": {
    "collapsed": false
   },
   "outputs": [],
   "source": [
    "re = os.system(\"python //code/Thesisproject/cifar/cifar10/cifar10_train_ACOLPL_VGG16.py '_3perc.bin' 50000 False False\")\n",
    "notice = '---------- \\n  ACOL-PL 3perc \\n  Status: ' + str(re) + ' \\n  Timestamp: ' + str(datetime.now()) + '\\n----------'\n",
    "print(notice)\n",
    "with open('//code/logs/masterlog.txt', \"ab\") as f:\n",
    "    f.write(notice)\n",
    "notify(notice)"
   ]
  },
  {
   "cell_type": "markdown",
   "metadata": {},
   "source": [
    "### Direct 3%"
   ]
  },
  {
   "cell_type": "code",
   "execution_count": null,
   "metadata": {
    "collapsed": false
   },
   "outputs": [],
   "source": [
    "re = os.system(\"python //code/Thesisproject/cifar/cifar10/cifar10_train_VGG16_PL.py 'cifar-10-batches-bin/data_batch_3perc_skip.bin'\")\n",
    "notice = '---------- \\n  Direct to Subclass 3perc \\n  Status:' + str(re) + ' \\n  Timestamp: ' + str(datetime.now()) + '\\n----------'\n",
    "print(notice)\n",
    "with open('//code/logs/masterlog.txt', \"ab\") as f:\n",
    "    f.write(notice)\n",
    "notify(notice)"
   ]
  },
  {
   "cell_type": "markdown",
   "metadata": {},
   "source": [
    "### Ordered ACOL-PL 3%"
   ]
  },
  {
   "cell_type": "code",
   "execution_count": null,
   "metadata": {
    "collapsed": false
   },
   "outputs": [],
   "source": [
    "re = os.system(\"python //code/Thesisproject/cifar/cifar10/cifar10_train_ACOLPL_VGG16.py '_3perc.bin' 30000 False True 'data_batch_3perc_skip.bin'\")\n",
    "notice = '---------- \\n  Ordered ACOL-PL 3perc Stage 1 \\n  Status:' + str(re) + ' \\n  Timestamp: ' + str(datetime.now()) + '\\n----------'\n",
    "print(notice)\n",
    "with open('//code/logs/masterlog.txt', \"ab\") as f:\n",
    "    f.write(notice)\n",
    "notify(notice)"
   ]
  },
  {
   "cell_type": "code",
   "execution_count": null,
   "metadata": {
    "collapsed": false
   },
   "outputs": [],
   "source": [
    "re = os.system(\"python //code/Thesisproject/cifar/cifar10/cifar10_train_ACOLPL_VGG16.py '_3perc.bin' 50000 True False 'data_batch_3perc_skip.bin'\")\n",
    "notice = '---------- \\n  Ordered ACOL-PL 3perc Stage 2 \\n  Status:' + str(re) + ' \\n  Timestamp: ' + str(datetime.now()) + '\\n----------'\n",
    "print(notice)\n",
    "with open('//code/logs/masterlog.txt', \"ab\") as f:\n",
    "    f.write(notice)\n",
    "notify(notice)"
   ]
  },
  {
   "cell_type": "code",
   "execution_count": null,
   "metadata": {
    "collapsed": true
   },
   "outputs": [],
   "source": []
  },
  {
   "cell_type": "markdown",
   "metadata": {
    "collapsed": true
   },
   "source": [
    "# super mess"
   ]
  },
  {
   "cell_type": "code",
   "execution_count": null,
   "metadata": {
    "collapsed": false
   },
   "outputs": [],
   "source": [
    "re = os.system(\"python //code/Thesisproject/cifar/cifar10/cifar10_train_ACOLPL_VGG16.py '_plain_pool5_super.bin' 50000 False False\")\n",
    "notice = '---------- \\n  ACOL pool5 super \\n  Status: ' + str(re) + ' \\n  Timestamp: ' + str(datetime.now()) + '\\n----------'\n",
    "print(notice)\n",
    "with open('//code/logs/masterlog.txt', \"ab\") as f:\n",
    "    f.write(notice)\n",
    "notify(notice)"
   ]
  },
  {
   "cell_type": "code",
   "execution_count": null,
   "metadata": {
    "collapsed": false
   },
   "outputs": [],
   "source": [
    "re = os.system(\"python //code/Thesisproject/cifar/cifar10/cifar10_train_ACOLPL_VGG16.py '_plain_fc7_super.bin' 50000 False False\")\n",
    "notice = '---------- \\n  ACOL fc7 super \\n  Status: ' + str(re) + ' \\n  Timestamp: ' + str(datetime.now()) + '\\n----------'\n",
    "print(notice)\n",
    "with open('//code/logs/masterlog.txt', \"ab\") as f:\n",
    "    f.write(notice)\n",
    "notify(notice)"
   ]
  },
  {
   "cell_type": "code",
   "execution_count": null,
   "metadata": {
    "collapsed": false
   },
   "outputs": [],
   "source": [
    "re = os.system(\"python //code/Thesisproject/cifar/cifar10/cifar10_train_ACOLPL_VGG16.py '_blueness_super.bin' 50000 False False\")\n",
    "notice = '---------- \\n  ACOL blueness \\n  Status: ' + str(re) + ' \\n  Timestamp: ' + str(datetime.now()) + '\\n----------'\n",
    "print(notice)\n",
    "with open('//code/logs/masterlog.txt', \"ab\") as f:\n",
    "    f.write(notice)\n",
    "notify(notice)"
   ]
  },
  {
   "cell_type": "code",
   "execution_count": null,
   "metadata": {
    "collapsed": false
   },
   "outputs": [],
   "source": [
    "re = os.system(\"python //code/Thesisproject/cifar/cifar10/cifar10_train_ACOLPL_VGG16.py '_blueness_super.bin' 50000 False False\")\n",
    "notice = '---------- \\n  ACOL flip LR superlabel  \\n  Status: ' + str(re) + ' \\n  Timestamp: ' + str(datetime.now()) + '\\n----------'\n",
    "print(notice)\n",
    "with open('//code/logs/masterlog.txt', \"ab\") as f:\n",
    "    f.write(notice)\n",
    "notify(notice)"
   ]
  },
  {
   "cell_type": "code",
   "execution_count": null,
   "metadata": {
    "collapsed": false
   },
   "outputs": [],
   "source": [
    "re = os.system(\"python //code/Thesisproject/cifar/cifar10/cifar10_train_ACOLPL_VGG16.py '_blueness_super.bin' 100000 False False\")\n",
    "notice = '---------- \\n  ACOL lossT superlabel  \\n  Status: ' + str(re) + ' \\n  Timestamp: ' + str(datetime.now()) + '\\n----------'\n",
    "print(notice)\n",
    "with open('//code/logs/masterlog.txt', \"ab\") as f:\n",
    "    f.write(notice)\n",
    "notify(notice)"
   ]
  },
  {
   "cell_type": "markdown",
   "metadata": {
    "collapsed": true
   },
   "source": [
    "# Sticking Ordered ACOL-PL on things"
   ]
  },
  {
   "cell_type": "code",
   "execution_count": null,
   "metadata": {
    "collapsed": false
   },
   "outputs": [],
   "source": [
    "re = os.system(\"python //code/Thesisproject/cifar/cifar10/cifar10_train_ACOLPL_VGG16_ondirect.py '_1perc.bin' 20000 True False\")\n",
    "notice = '---------- \\n  Ordered ACOL-PL direct stage 1  \\n  Status: ' + str(re) + ' \\n  Timestamp: ' + str(datetime.now()) + '\\n----------'\n",
    "print(notice)\n",
    "with open('//code/logs/masterlog.txt', \"ab\") as f:\n",
    "    f.write(notice)\n",
    "notify(notice)"
   ]
  },
  {
   "cell_type": "code",
   "execution_count": null,
   "metadata": {
    "collapsed": true
   },
   "outputs": [],
   "source": []
  },
  {
   "cell_type": "markdown",
   "metadata": {},
   "source": [
    "### Ordered ACOL-PL 1%"
   ]
  },
  {
   "cell_type": "code",
   "execution_count": null,
   "metadata": {
    "collapsed": false
   },
   "outputs": [],
   "source": [
    "re = os.system(\"python //code/Thesisproject/cifar/cifar10/cifar10_train_ACOLPL_VGG16.py '_1perc.bin' 30000 False True 'data_batch_1perc_skip.bin'\")\n",
    "notice = '---------- \\n  Ordered ACOL-PL 1perc Stage 1 \\n  Status:' + str(re) + ' \\n  Timestamp: ' + str(datetime.now()) + '\\n----------'\n",
    "print(notice)\n",
    "with open('//code/logs/masterlog.txt', \"ab\") as f:\n",
    "    f.write(notice)\n",
    "notify(notice)"
   ]
  },
  {
   "cell_type": "code",
   "execution_count": null,
   "metadata": {
    "collapsed": false
   },
   "outputs": [],
   "source": [
    "re = os.system(\"python //code/Thesisproject/cifar/cifar10/cifar10_train_ACOLPL_VGG16.py '_1perc.bin' 50000 True False 'data_batch_1perc_skip.bin'\")\n",
    "notice = '---------- \\n  Ordered ACOL-PL 1perc Stage 2 \\n  Status:' + str(re) + ' \\n  Timestamp: ' + str(datetime.now()) + '\\n----------'\n",
    "print(notice)\n",
    "with open('//code/logs/masterlog.txt', \"ab\") as f:\n",
    "    f.write(notice)\n",
    "notify(notice)"
   ]
  },
  {
   "cell_type": "code",
   "execution_count": null,
   "metadata": {
    "collapsed": false
   },
   "outputs": [],
   "source": [
    "re = os.system(\"python //code/Thesisproject/cifar/cifar10/cifar10_train_ACOLPL_VGG16.py '_1perc.bin' 30000 False True 'data_batch_1perc_skip.bin'\")\n",
    "notice = '---------- \\n  Ordered ACOL-PL 1perc rel20 Stage 1 \\n  Status:' + str(re) + ' \\n  Timestamp: ' + str(datetime.now()) + '\\n----------'\n",
    "print(notice)\n",
    "with open('//code/logs/masterlog.txt', \"ab\") as f:\n",
    "    f.write(notice)\n",
    "notify(notice)"
   ]
  },
  {
   "cell_type": "code",
   "execution_count": null,
   "metadata": {
    "collapsed": false
   },
   "outputs": [],
   "source": [
    "re = os.system(\"python //code/Thesisproject/cifar/cifar10/cifar10_train_ACOLPL_VGG16.py '_1perc.bin' 50000 True False 'data_batch_1perc_skip.bin'\")\n",
    "notice = '---------- \\n  Ordered ACOL-PL 1perc rel20 Stage 2 \\n  Status:' + str(re) + ' \\n  Timestamp: ' + str(datetime.now()) + '\\n----------'\n",
    "print(notice)\n",
    "with open('//code/logs/masterlog.txt', \"ab\") as f:\n",
    "    f.write(notice)\n",
    "notify(notice)"
   ]
  },
  {
   "cell_type": "code",
   "execution_count": null,
   "metadata": {
    "collapsed": false
   },
   "outputs": [],
   "source": [
    "re = os.system(\"python //code/Thesisproject/cifar/cifar10/cifar10_train_ACOLPL_VGG16_Copy1.py '_1perc.bin' 30000 False True 'data_batch_1perc_skip.bin'\")\n",
    "notice = '---------- \\n  Ordered ACOL-PL 1perc on direct Stage1 \\n  Status:' + str(re) + ' \\n  Timestamp: ' + str(datetime.now()) + '\\n----------'\n",
    "print(notice)\n",
    "with open('//code/logs/masterlog.txt', \"ab\") as f:\n",
    "    f.write(notice)\n",
    "notify(notice)"
   ]
  },
  {
   "cell_type": "code",
   "execution_count": null,
   "metadata": {
    "collapsed": false
   },
   "outputs": [],
   "source": [
    "re = os.system(\"python //code/Thesisproject/cifar/cifar10/cifar10_train_ACOLPL_VGG16_Copy1.py '_1perc.bin' 50000 True False 'data_batch_1perc_skip.bin'\")\n",
    "notice = '---------- \\n  Ordered ACOL-PL 1perc on direct Stage 2 \\n  Status:' + str(re) + ' \\n  Timestamp: ' + str(datetime.now()) + '\\n----------'\n",
    "print(notice)\n",
    "with open('//code/logs/masterlog.txt', \"ab\") as f:\n",
    "    f.write(notice)\n",
    "notify(notice)"
   ]
  },
  {
   "cell_type": "code",
   "execution_count": null,
   "metadata": {
    "collapsed": true
   },
   "outputs": [],
   "source": []
  }
 ],
 "metadata": {
  "kernelspec": {
   "display_name": "Python 2",
   "language": "python",
   "name": "python2"
  },
  "language_info": {
   "codemirror_mode": {
    "name": "ipython",
    "version": 2
   },
   "file_extension": ".py",
   "mimetype": "text/x-python",
   "name": "python",
   "nbconvert_exporter": "python",
   "pygments_lexer": "ipython2",
   "version": "2.7.13"
  }
 },
 "nbformat": 4,
 "nbformat_minor": 2
}
