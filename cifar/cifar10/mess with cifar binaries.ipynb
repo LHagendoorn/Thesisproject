{
 "cells": [
  {
   "cell_type": "code",
   "execution_count": 62,
   "metadata": {
    "collapsed": false
   },
   "outputs": [],
   "source": [
    "import numpy as np\n",
    "import struct\n",
    "import os\n",
    "import pickle\n",
    "trainsamples = 50000\n",
    "perc = 0.001\n",
    "label_bytes = 1  # 2 for CIFAR-100\n",
    "image_bytes = 32 * 32 * 3\n",
    "data_dir = \"//code/logs/cifar10_data/cifar-10-batches-bin/\"\n",
    "  # Every record consists of a label followed by the image, with a\n",
    "  # fixed number of bytes for each.\n",
    "record_bytes = label_bytes + image_bytes\n",
    "\n",
    "filenames = [os.path.join(data_dir, 'data_batch_%d' % i)\n",
    "                 for i in xrange(1, 6)]\n",
    "#filenames = [os.path.join(data_dir, 'test_batch')]"
   ]
  },
  {
   "cell_type": "code",
   "execution_count": 63,
   "metadata": {
    "collapsed": false
   },
   "outputs": [
    {
     "name": "stderr",
     "output_type": "stream",
     "text": [
      "/opt/conda/lib/python2.7/site-packages/ipykernel/__main__.py:1: VisibleDeprecationWarning: using a non-integer number instead of an integer will result in an error in the future\n",
      "  if __name__ == '__main__':\n"
     ]
    }
   ],
   "source": [
    "keeplab = np.concatenate([np.ones((trainsamples*perc),dtype='int32'),np.zeros((trainsamples-trainsamples*perc),dtype='int32')],0)\n",
    "np.random.shuffle(keeplab)"
   ]
  },
  {
   "cell_type": "code",
   "execution_count": 64,
   "metadata": {
    "collapsed": false
   },
   "outputs": [],
   "source": [
    "with open('//code/logs/cifar10labels.pkl','rb') as f:\n",
    "    labels = pickle.load(f)"
   ]
  },
  {
   "cell_type": "code",
   "execution_count": 65,
   "metadata": {
    "collapsed": false
   },
   "outputs": [
    {
     "name": "stdout",
     "output_type": "stream",
     "text": [
      "[0 0 0 ..., 0 0 0]\n",
      "(array([ 0.,  1.,  2.,  3.,  4.,  5.,  6.,  7.,  8.,  9.]), array([ 3,  6,  3,  5,  4,  4,  4, 11,  4,  6]))\n"
     ]
    }
   ],
   "source": [
    "print(keeplab)\n",
    "if 1: #balance check\n",
    "    print(np.unique(labels[keeplab==1],return_counts=True))"
   ]
  },
  {
   "cell_type": "code",
   "execution_count": 66,
   "metadata": {
    "collapsed": false
   },
   "outputs": [],
   "source": [
    "with open('//code/logs/superclass_tsne_pool5.pkl','rb') as f:\n",
    "    superclasslab = pickle.load(f)"
   ]
  },
  {
   "cell_type": "code",
   "execution_count": 67,
   "metadata": {
    "collapsed": false
   },
   "outputs": [
    {
     "data": {
      "text/plain": [
       "array([0, 0, 0, 0, 0, 0, 0, 0, 0, 0, 0, 0, 0, 0, 0, 0, 0, 0, 0, 0, 0, 0, 0,\n",
       "       0, 0, 0, 0, 0, 0, 0, 0, 0, 0, 0, 0, 0, 0, 0, 0, 0, 0, 0, 0, 0, 0, 0,\n",
       "       0, 0, 0, 0, 0, 0, 0, 0, 0, 0, 0, 0, 0, 0, 0, 0, 0, 0, 0, 0, 0, 0, 0,\n",
       "       0, 0, 0, 0, 0, 1, 0, 0, 0, 0, 0, 0, 0, 0, 0, 0, 0, 0, 0, 0, 0, 0, 0,\n",
       "       0, 0, 0, 0, 0, 0, 0, 0], dtype=int32)"
      ]
     },
     "execution_count": 67,
     "metadata": {},
     "output_type": "execute_result"
    }
   ],
   "source": [
    "keeplab[:100]"
   ]
  },
  {
   "cell_type": "code",
   "execution_count": 68,
   "metadata": {
    "collapsed": false
   },
   "outputs": [
    {
     "data": {
      "text/plain": [
       "array([1, 1, 1, 1, 1, 1, 1, 1, 1, 1, 1, 1, 1, 1, 1, 1, 1, 1, 1, 1, 1, 1, 1,\n",
       "       1, 1, 1, 1, 1, 1, 1, 1, 1, 1, 1, 1, 1, 1, 1, 1, 1, 0, 1, 1, 1, 1, 1,\n",
       "       1, 1, 1, 1, 1, 1, 1, 1, 1, 1, 1, 1, 1, 1, 1, 1, 1, 1, 1, 1, 1, 1, 1,\n",
       "       1, 1, 1, 0, 1, 0, 1, 1, 1, 1, 1, 0, 1, 1, 1, 1, 1, 1, 1, 1, 1, 1, 1,\n",
       "       1, 1, 1, 1, 1, 1, 1, 1], dtype=int32)"
      ]
     },
     "execution_count": 68,
     "metadata": {},
     "output_type": "execute_result"
    }
   ],
   "source": [
    "superclasslab[:100]"
   ]
  },
  {
   "cell_type": "code",
   "execution_count": 69,
   "metadata": {
    "collapsed": false
   },
   "outputs": [
    {
     "name": "stdout",
     "output_type": "stream",
     "text": [
      "50000\n",
      "50000\n"
     ]
    }
   ],
   "source": [
    "print(len(keeplab))\n",
    "print(len(superclasslab))"
   ]
  },
  {
   "cell_type": "code",
   "execution_count": 70,
   "metadata": {
    "collapsed": false
   },
   "outputs": [],
   "source": [
    "if 0:\n",
    "    i=0\n",
    "    for fname in filenames:\n",
    "        with open(fname+'.bin', 'rb') as old_buffer, open(fname+'_1perc.bin', 'wb') as new_buffer:\n",
    "            part = old_buffer.read(record_bytes)\n",
    "            while part:\n",
    "                # insert new content\n",
    "                #new_buffer.write(chr(superclasslab[i]))\n",
    "                new_buffer.write(chr(keeplab[i]))\n",
    "                # copy until nth byte\n",
    "                new_buffer.write(part)\n",
    "                part = old_buffer.read(record_bytes)\n",
    "                i+=1\n",
    "        print('did a file!')"
   ]
  },
  {
   "cell_type": "code",
   "execution_count": 71,
   "metadata": {
    "collapsed": false
   },
   "outputs": [],
   "source": [
    "if 1:\n",
    "    i=0\n",
    "    with open('//code/logs/cifar10_data/cifar-10-batches-bin/data_batch_01perc_skip.bin', 'wb') as new_buffer:\n",
    "        for fname in filenames:\n",
    "            with open(fname+'.bin', 'rb') as old_buffer:\n",
    "                part = old_buffer.read(record_bytes)\n",
    "                while part:\n",
    "                    # insert new content\n",
    "                    if keeplab[i]==1:\n",
    "                        # copy until nth byte\n",
    "                        new_buffer.write(chr(keeplab[i]))\n",
    "                        new_buffer.write(part)\n",
    "                    part = old_buffer.read(record_bytes)\n",
    "                    i+=1"
   ]
  },
  {
   "cell_type": "code",
   "execution_count": 72,
   "metadata": {
    "collapsed": false
   },
   "outputs": [
    {
     "data": {
      "text/plain": [
       "posix.stat_result(st_mode=33188, st_ino=30671002, st_dev=2065, st_nlink=1, st_uid=2156, st_gid=1103, st_size=30730000, st_atime=1500464519, st_mtime=1244144138, st_ctime=1498639486)"
      ]
     },
     "execution_count": 72,
     "metadata": {},
     "output_type": "execute_result"
    }
   ],
   "source": [
    "os.stat(filenames[4]+'.bin')"
   ]
  },
  {
   "cell_type": "code",
   "execution_count": 17,
   "metadata": {
    "collapsed": false
   },
   "outputs": [
    {
     "data": {
      "text/plain": [
       "posix.stat_result(st_mode=33188, st_ino=30671771, st_dev=2065, st_nlink=1, st_uid=0, st_gid=0, st_size=30750000, st_atime=1499431464, st_mtime=1499445512, st_ctime=1499445512)"
      ]
     },
     "execution_count": 17,
     "metadata": {},
     "output_type": "execute_result"
    }
   ],
   "source": [
    "os.stat(filenames[4]+'_0perc_tsned7.bin')"
   ]
  },
  {
   "cell_type": "code",
   "execution_count": 18,
   "metadata": {
    "collapsed": false
   },
   "outputs": [
    {
     "data": {
      "text/plain": [
       "posix.stat_result(st_mode=33188, st_ino=30671853, st_dev=2065, st_nlink=1, st_uid=0, st_gid=0, st_size=153700000, st_atime=1500284705, st_mtime=1500464519, st_ctime=1500464519)"
      ]
     },
     "execution_count": 18,
     "metadata": {},
     "output_type": "execute_result"
    }
   ],
   "source": [
    "os.stat('//code/logs/cifar10_data/cifar-10-batches-bin/data_batch_1perc_skip.bin')"
   ]
  },
  {
   "cell_type": "code",
   "execution_count": 19,
   "metadata": {
    "collapsed": false
   },
   "outputs": [
    {
     "data": {
      "text/plain": [
       "500"
      ]
     },
     "execution_count": 19,
     "metadata": {},
     "output_type": "execute_result"
    }
   ],
   "source": [
    "1536500/record_bytes"
   ]
  },
  {
   "cell_type": "code",
   "execution_count": 20,
   "metadata": {
    "collapsed": false
   },
   "outputs": [
    {
     "data": {
      "text/plain": [
       "50000"
      ]
     },
     "execution_count": 20,
     "metadata": {},
     "output_type": "execute_result"
    }
   ],
   "source": [
    "i"
   ]
  },
  {
   "cell_type": "code",
   "execution_count": null,
   "metadata": {
    "collapsed": true
   },
   "outputs": [],
   "source": []
  }
 ],
 "metadata": {
  "kernelspec": {
   "display_name": "Python 2",
   "language": "python",
   "name": "python2"
  },
  "language_info": {
   "codemirror_mode": {
    "name": "ipython",
    "version": 2
   },
   "file_extension": ".py",
   "mimetype": "text/x-python",
   "name": "python",
   "nbconvert_exporter": "python",
   "pygments_lexer": "ipython2",
   "version": "2.7.13"
  }
 },
 "nbformat": 4,
 "nbformat_minor": 2
}
